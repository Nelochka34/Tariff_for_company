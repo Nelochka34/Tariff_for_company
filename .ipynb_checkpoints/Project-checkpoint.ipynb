{
 "cells": [
  {
   "cell_type": "markdown",
   "metadata": {},
   "source": [
    "#     Определение перспективного тарифа для телеком-компании"
   ]
  },
  {
   "cell_type": "markdown",
   "metadata": {},
   "source": [
    "## Откроем файлы с данными и изучим общую информацию"
   ]
  },
  {
   "cell_type": "code",
   "execution_count": 102,
   "metadata": {},
   "outputs": [],
   "source": [
    "import pandas as pd #импортируем библиотеки\n",
    "import pathlib\n",
    "from pathlib import Path\n",
    "import matplotlib \n",
    "import matplotlib.pyplot as plt\n",
    "import math\n",
    "import numpy as np\n",
    "from scipy import stats as st"
   ]
  },
  {
   "cell_type": "code",
   "execution_count": 103,
   "metadata": {},
   "outputs": [],
   "source": [
    "pd.set_option('display.max_columns', None)"
   ]
  },
  {
   "cell_type": "code",
   "execution_count": 104,
   "metadata": {},
   "outputs": [],
   "source": [
    "calls_path = Path(pathlib.Path.cwd(), '/datasets/calls.csv')\n",
    "calls = pd.read_csv(calls_path)"
   ]
  },
  {
   "cell_type": "code",
   "execution_count": 105,
   "metadata": {},
   "outputs": [],
   "source": [
    "internet_path = Path(pathlib.Path.cwd(), '/datasets/internet.csv')\n",
    "internet = pd.read_csv(internet_path)"
   ]
  },
  {
   "cell_type": "code",
   "execution_count": 106,
   "metadata": {},
   "outputs": [],
   "source": [
    "messages_path = Path(pathlib.Path.cwd(), '/datasets/messages.csv')\n",
    "messages = pd.read_csv(messages_path)"
   ]
  },
  {
   "cell_type": "code",
   "execution_count": 107,
   "metadata": {},
   "outputs": [],
   "source": [
    "tariffs_path = Path(pathlib.Path.cwd(), '/datasets/tariffs.csv')\n",
    "tariffs = pd.read_csv(tariffs_path)"
   ]
  },
  {
   "cell_type": "code",
   "execution_count": 108,
   "metadata": {},
   "outputs": [],
   "source": [
    "users_path = Path(pathlib.Path.cwd(), '/datasets/users.csv')\n",
    "users = pd.read_csv(users_path)"
   ]
  },
  {
   "cell_type": "code",
   "execution_count": 110,
   "metadata": {},
   "outputs": [
    {
     "name": "stdout",
     "output_type": "stream",
     "text": [
      "<class 'pandas.core.frame.DataFrame'>\n",
      "RangeIndex: 202607 entries, 0 to 202606\n",
      "Data columns (total 4 columns):\n",
      "id           202607 non-null object\n",
      "call_date    202607 non-null object\n",
      "duration     202607 non-null float64\n",
      "user_id      202607 non-null int64\n",
      "dtypes: float64(1), int64(1), object(2)\n",
      "memory usage: 6.2+ MB\n"
     ]
    }
   ],
   "source": [
    "calls.info() # получим общую информацию о данных в таблице calls"
   ]
  },
  {
   "cell_type": "markdown",
   "metadata": {},
   "source": [
    "В таблице \"calls\" 20267 строк, 4 столбца, пропусков нет."
   ]
  },
  {
   "cell_type": "code",
   "execution_count": 111,
   "metadata": {},
   "outputs": [
    {
     "name": "stdout",
     "output_type": "stream",
     "text": [
      "<class 'pandas.core.frame.DataFrame'>\n",
      "RangeIndex: 149396 entries, 0 to 149395\n",
      "Data columns (total 5 columns):\n",
      "Unnamed: 0      149396 non-null int64\n",
      "id              149396 non-null object\n",
      "mb_used         149396 non-null float64\n",
      "session_date    149396 non-null object\n",
      "user_id         149396 non-null int64\n",
      "dtypes: float64(1), int64(2), object(2)\n",
      "memory usage: 5.7+ MB\n"
     ]
    }
   ],
   "source": [
    "internet.info()"
   ]
  },
  {
   "cell_type": "markdown",
   "metadata": {},
   "source": [
    "В таблице \"internet\" 149396 строки, 5 столбцов, пропусков нет. "
   ]
  },
  {
   "cell_type": "code",
   "execution_count": 112,
   "metadata": {},
   "outputs": [
    {
     "name": "stdout",
     "output_type": "stream",
     "text": [
      "<class 'pandas.core.frame.DataFrame'>\n",
      "RangeIndex: 123036 entries, 0 to 123035\n",
      "Data columns (total 3 columns):\n",
      "id              123036 non-null object\n",
      "message_date    123036 non-null object\n",
      "user_id         123036 non-null int64\n",
      "dtypes: int64(1), object(2)\n",
      "memory usage: 2.8+ MB\n"
     ]
    }
   ],
   "source": [
    "messages.info()"
   ]
  },
  {
   "cell_type": "markdown",
   "metadata": {},
   "source": [
    "В таблице \"messages\"  123036 строк, 3 столбца, пропусков нет "
   ]
  },
  {
   "cell_type": "code",
   "execution_count": 113,
   "metadata": {},
   "outputs": [
    {
     "name": "stdout",
     "output_type": "stream",
     "text": [
      "<class 'pandas.core.frame.DataFrame'>\n",
      "RangeIndex: 2 entries, 0 to 1\n",
      "Data columns (total 8 columns):\n",
      "messages_included        2 non-null int64\n",
      "mb_per_month_included    2 non-null int64\n",
      "minutes_included         2 non-null int64\n",
      "rub_monthly_fee          2 non-null int64\n",
      "rub_per_gb               2 non-null int64\n",
      "rub_per_message          2 non-null int64\n",
      "rub_per_minute           2 non-null int64\n",
      "tariff_name              2 non-null object\n",
      "dtypes: int64(7), object(1)\n",
      "memory usage: 256.0+ bytes\n"
     ]
    }
   ],
   "source": [
    "tariffs.info()"
   ]
  },
  {
   "cell_type": "markdown",
   "metadata": {},
   "source": [
    "В таблице \"tariffs\" 2 сторки, 8 столбцов, пропусков нет."
   ]
  },
  {
   "cell_type": "code",
   "execution_count": 114,
   "metadata": {},
   "outputs": [
    {
     "name": "stdout",
     "output_type": "stream",
     "text": [
      "<class 'pandas.core.frame.DataFrame'>\n",
      "RangeIndex: 500 entries, 0 to 499\n",
      "Data columns (total 8 columns):\n",
      "user_id       500 non-null int64\n",
      "age           500 non-null int64\n",
      "churn_date    38 non-null object\n",
      "city          500 non-null object\n",
      "first_name    500 non-null object\n",
      "last_name     500 non-null object\n",
      "reg_date      500 non-null object\n",
      "tariff        500 non-null object\n",
      "dtypes: int64(2), object(6)\n",
      "memory usage: 31.4+ KB\n"
     ]
    }
   ],
   "source": [
    "users.info()"
   ]
  },
  {
   "cell_type": "markdown",
   "metadata": {},
   "source": [
    "В таблице \"users\" 500 строк, 8 столбцов, пропусков нет."
   ]
  },
  {
   "cell_type": "markdown",
   "metadata": {},
   "source": [
    "## Подготовка данных"
   ]
  },
  {
   "cell_type": "markdown",
   "metadata": {},
   "source": [
    "Все отлично, пропусков в данных нет. Объединим таблицы в одну последовательно по id"
   ]
  },
  {
   "cell_type": "markdown",
   "metadata": {},
   "source": [
    "Сгруппируем таблицы по пользователям и месяцам:\n",
    "1. Для этого сначала пребразуем строковые значения с датой в формат datetime:"
   ]
  },
  {
   "cell_type": "code",
   "execution_count": 115,
   "metadata": {},
   "outputs": [],
   "source": [
    "calls['datetime'] = pd.to_datetime(calls['call_date'], format = '%Y.%m.%d')"
   ]
  },
  {
   "cell_type": "code",
   "execution_count": 116,
   "metadata": {},
   "outputs": [],
   "source": [
    "calls['months'] = calls['datetime'].astype('datetime64[M]') # создаю столбец с месяцем - годом"
   ]
  },
  {
   "cell_type": "code",
   "execution_count": 117,
   "metadata": {},
   "outputs": [
    {
     "data": {
      "text/html": [
       "<div>\n",
       "<style scoped>\n",
       "    .dataframe tbody tr th:only-of-type {\n",
       "        vertical-align: middle;\n",
       "    }\n",
       "\n",
       "    .dataframe tbody tr th {\n",
       "        vertical-align: top;\n",
       "    }\n",
       "\n",
       "    .dataframe thead th {\n",
       "        text-align: right;\n",
       "    }\n",
       "</style>\n",
       "<table border=\"1\" class=\"dataframe\">\n",
       "  <thead>\n",
       "    <tr style=\"text-align: right;\">\n",
       "      <th></th>\n",
       "      <th>id</th>\n",
       "      <th>call_date</th>\n",
       "      <th>duration</th>\n",
       "      <th>user_id</th>\n",
       "      <th>datetime</th>\n",
       "      <th>months</th>\n",
       "    </tr>\n",
       "  </thead>\n",
       "  <tbody>\n",
       "    <tr>\n",
       "      <td>0</td>\n",
       "      <td>1000_0</td>\n",
       "      <td>2018-07-25</td>\n",
       "      <td>0.00</td>\n",
       "      <td>1000</td>\n",
       "      <td>2018-07-25</td>\n",
       "      <td>2018-07-01</td>\n",
       "    </tr>\n",
       "    <tr>\n",
       "      <td>1</td>\n",
       "      <td>1000_1</td>\n",
       "      <td>2018-08-17</td>\n",
       "      <td>0.00</td>\n",
       "      <td>1000</td>\n",
       "      <td>2018-08-17</td>\n",
       "      <td>2018-08-01</td>\n",
       "    </tr>\n",
       "    <tr>\n",
       "      <td>2</td>\n",
       "      <td>1000_2</td>\n",
       "      <td>2018-06-11</td>\n",
       "      <td>2.85</td>\n",
       "      <td>1000</td>\n",
       "      <td>2018-06-11</td>\n",
       "      <td>2018-06-01</td>\n",
       "    </tr>\n",
       "    <tr>\n",
       "      <td>3</td>\n",
       "      <td>1000_3</td>\n",
       "      <td>2018-09-21</td>\n",
       "      <td>13.80</td>\n",
       "      <td>1000</td>\n",
       "      <td>2018-09-21</td>\n",
       "      <td>2018-09-01</td>\n",
       "    </tr>\n",
       "    <tr>\n",
       "      <td>4</td>\n",
       "      <td>1000_4</td>\n",
       "      <td>2018-12-15</td>\n",
       "      <td>5.18</td>\n",
       "      <td>1000</td>\n",
       "      <td>2018-12-15</td>\n",
       "      <td>2018-12-01</td>\n",
       "    </tr>\n",
       "  </tbody>\n",
       "</table>\n",
       "</div>"
      ],
      "text/plain": [
       "       id   call_date  duration  user_id   datetime     months\n",
       "0  1000_0  2018-07-25      0.00     1000 2018-07-25 2018-07-01\n",
       "1  1000_1  2018-08-17      0.00     1000 2018-08-17 2018-08-01\n",
       "2  1000_2  2018-06-11      2.85     1000 2018-06-11 2018-06-01\n",
       "3  1000_3  2018-09-21     13.80     1000 2018-09-21 2018-09-01\n",
       "4  1000_4  2018-12-15      5.18     1000 2018-12-15 2018-12-01"
      ]
     },
     "execution_count": 117,
     "metadata": {},
     "output_type": "execute_result"
    }
   ],
   "source": [
    "calls.head(5)"
   ]
  },
  {
   "cell_type": "code",
   "execution_count": 118,
   "metadata": {},
   "outputs": [],
   "source": [
    "internet['datetime'] = pd.to_datetime(internet['session_date'], format = '%Y.%m.%d')"
   ]
  },
  {
   "cell_type": "code",
   "execution_count": 119,
   "metadata": {},
   "outputs": [],
   "source": [
    "internet['months'] = internet['datetime'].astype('datetime64[M]')"
   ]
  },
  {
   "cell_type": "code",
   "execution_count": 120,
   "metadata": {},
   "outputs": [],
   "source": [
    "messages['datetime'] = pd.to_datetime(messages['message_date'], format = '%Y.%m.%d')"
   ]
  },
  {
   "cell_type": "code",
   "execution_count": 121,
   "metadata": {},
   "outputs": [],
   "source": [
    "messages['months'] = messages['datetime'].astype('datetime64[M]')"
   ]
  },
  {
   "cell_type": "code",
   "execution_count": 127,
   "metadata": {},
   "outputs": [],
   "source": [
    "users = users.rename(columns = {'tariff': 'tariff_name'}) # в таблице users изменим столбец tariff на tariff_name"
   ]
  },
  {
   "cell_type": "markdown",
   "metadata": {},
   "source": [
    "2. Посчитаем количество сделанных звонков и израсходованных минут разговора по месяцам"
   ]
  },
  {
   "cell_type": "markdown",
   "metadata": {},
   "source": [
    "Для этого сгруппируем по месяцам и пользователям:"
   ]
  },
  {
   "cell_type": "code",
   "execution_count": 128,
   "metadata": {},
   "outputs": [],
   "source": [
    "calls_pivot = calls.pivot_table(index = ['user_id','months'], values = 'duration', aggfunc = ['sum', 'count']).reset_index() \n",
    "# количество израсходованных минут по месяцам и количество звонков в месяц"
   ]
  },
  {
   "cell_type": "code",
   "execution_count": 129,
   "metadata": {},
   "outputs": [],
   "source": [
    "calls_pivot.columns = ['user_id', 'months', 'calls_duration', 'calls_in_month']"
   ]
  },
  {
   "cell_type": "code",
   "execution_count": 130,
   "metadata": {},
   "outputs": [
    {
     "data": {
      "text/html": [
       "<div>\n",
       "<style scoped>\n",
       "    .dataframe tbody tr th:only-of-type {\n",
       "        vertical-align: middle;\n",
       "    }\n",
       "\n",
       "    .dataframe tbody tr th {\n",
       "        vertical-align: top;\n",
       "    }\n",
       "\n",
       "    .dataframe thead th {\n",
       "        text-align: right;\n",
       "    }\n",
       "</style>\n",
       "<table border=\"1\" class=\"dataframe\">\n",
       "  <thead>\n",
       "    <tr style=\"text-align: right;\">\n",
       "      <th></th>\n",
       "      <th>user_id</th>\n",
       "      <th>months</th>\n",
       "      <th>calls_duration</th>\n",
       "      <th>calls_in_month</th>\n",
       "    </tr>\n",
       "  </thead>\n",
       "  <tbody>\n",
       "    <tr>\n",
       "      <td>0</td>\n",
       "      <td>1000</td>\n",
       "      <td>2018-05-01</td>\n",
       "      <td>150.06</td>\n",
       "      <td>22</td>\n",
       "    </tr>\n",
       "    <tr>\n",
       "      <td>1</td>\n",
       "      <td>1000</td>\n",
       "      <td>2018-06-01</td>\n",
       "      <td>158.90</td>\n",
       "      <td>43</td>\n",
       "    </tr>\n",
       "    <tr>\n",
       "      <td>2</td>\n",
       "      <td>1000</td>\n",
       "      <td>2018-07-01</td>\n",
       "      <td>318.80</td>\n",
       "      <td>47</td>\n",
       "    </tr>\n",
       "    <tr>\n",
       "      <td>3</td>\n",
       "      <td>1000</td>\n",
       "      <td>2018-08-01</td>\n",
       "      <td>389.87</td>\n",
       "      <td>52</td>\n",
       "    </tr>\n",
       "    <tr>\n",
       "      <td>4</td>\n",
       "      <td>1000</td>\n",
       "      <td>2018-09-01</td>\n",
       "      <td>440.14</td>\n",
       "      <td>58</td>\n",
       "    </tr>\n",
       "  </tbody>\n",
       "</table>\n",
       "</div>"
      ],
      "text/plain": [
       "   user_id     months  calls_duration  calls_in_month\n",
       "0     1000 2018-05-01          150.06              22\n",
       "1     1000 2018-06-01          158.90              43\n",
       "2     1000 2018-07-01          318.80              47\n",
       "3     1000 2018-08-01          389.87              52\n",
       "4     1000 2018-09-01          440.14              58"
      ]
     },
     "execution_count": 130,
     "metadata": {},
     "output_type": "execute_result"
    }
   ],
   "source": [
    "calls_pivot.head(5)"
   ]
  },
  {
   "cell_type": "markdown",
   "metadata": {},
   "source": [
    "Объединим эти таблицы с таблицей users по параметру user_id, получим количество израсходованных минут по месяцам для каждого пользоввателя (users_calls_pivot_duration): "
   ]
  },
  {
   "cell_type": "code",
   "execution_count": 131,
   "metadata": {},
   "outputs": [],
   "source": [
    "users_calls_pivot = users.merge(calls_pivot, on = 'user_id') "
   ]
  },
  {
   "cell_type": "markdown",
   "metadata": {},
   "source": [
    "Округлим длительность звонков в большую сторону, как требует тариф: "
   ]
  },
  {
   "cell_type": "code",
   "execution_count": 132,
   "metadata": {},
   "outputs": [],
   "source": [
    "users_calls_pivot['calls_duration'] = users_calls_pivot['calls_duration'].apply(np.ceil)"
   ]
  },
  {
   "cell_type": "code",
   "execution_count": 133,
   "metadata": {},
   "outputs": [
    {
     "data": {
      "text/html": [
       "<div>\n",
       "<style scoped>\n",
       "    .dataframe tbody tr th:only-of-type {\n",
       "        vertical-align: middle;\n",
       "    }\n",
       "\n",
       "    .dataframe tbody tr th {\n",
       "        vertical-align: top;\n",
       "    }\n",
       "\n",
       "    .dataframe thead th {\n",
       "        text-align: right;\n",
       "    }\n",
       "</style>\n",
       "<table border=\"1\" class=\"dataframe\">\n",
       "  <thead>\n",
       "    <tr style=\"text-align: right;\">\n",
       "      <th></th>\n",
       "      <th>user_id</th>\n",
       "      <th>age</th>\n",
       "      <th>churn_date</th>\n",
       "      <th>city</th>\n",
       "      <th>first_name</th>\n",
       "      <th>last_name</th>\n",
       "      <th>reg_date</th>\n",
       "      <th>tariff_name</th>\n",
       "      <th>months</th>\n",
       "      <th>calls_duration</th>\n",
       "      <th>calls_in_month</th>\n",
       "    </tr>\n",
       "  </thead>\n",
       "  <tbody>\n",
       "    <tr>\n",
       "      <td>0</td>\n",
       "      <td>1000</td>\n",
       "      <td>52</td>\n",
       "      <td>NaN</td>\n",
       "      <td>Краснодар</td>\n",
       "      <td>Рафаил</td>\n",
       "      <td>Верещагин</td>\n",
       "      <td>2018-05-25</td>\n",
       "      <td>ultra</td>\n",
       "      <td>2018-05-01</td>\n",
       "      <td>151.0</td>\n",
       "      <td>22</td>\n",
       "    </tr>\n",
       "    <tr>\n",
       "      <td>1</td>\n",
       "      <td>1000</td>\n",
       "      <td>52</td>\n",
       "      <td>NaN</td>\n",
       "      <td>Краснодар</td>\n",
       "      <td>Рафаил</td>\n",
       "      <td>Верещагин</td>\n",
       "      <td>2018-05-25</td>\n",
       "      <td>ultra</td>\n",
       "      <td>2018-06-01</td>\n",
       "      <td>159.0</td>\n",
       "      <td>43</td>\n",
       "    </tr>\n",
       "    <tr>\n",
       "      <td>2</td>\n",
       "      <td>1000</td>\n",
       "      <td>52</td>\n",
       "      <td>NaN</td>\n",
       "      <td>Краснодар</td>\n",
       "      <td>Рафаил</td>\n",
       "      <td>Верещагин</td>\n",
       "      <td>2018-05-25</td>\n",
       "      <td>ultra</td>\n",
       "      <td>2018-07-01</td>\n",
       "      <td>319.0</td>\n",
       "      <td>47</td>\n",
       "    </tr>\n",
       "    <tr>\n",
       "      <td>3</td>\n",
       "      <td>1000</td>\n",
       "      <td>52</td>\n",
       "      <td>NaN</td>\n",
       "      <td>Краснодар</td>\n",
       "      <td>Рафаил</td>\n",
       "      <td>Верещагин</td>\n",
       "      <td>2018-05-25</td>\n",
       "      <td>ultra</td>\n",
       "      <td>2018-08-01</td>\n",
       "      <td>390.0</td>\n",
       "      <td>52</td>\n",
       "    </tr>\n",
       "    <tr>\n",
       "      <td>4</td>\n",
       "      <td>1000</td>\n",
       "      <td>52</td>\n",
       "      <td>NaN</td>\n",
       "      <td>Краснодар</td>\n",
       "      <td>Рафаил</td>\n",
       "      <td>Верещагин</td>\n",
       "      <td>2018-05-25</td>\n",
       "      <td>ultra</td>\n",
       "      <td>2018-09-01</td>\n",
       "      <td>441.0</td>\n",
       "      <td>58</td>\n",
       "    </tr>\n",
       "  </tbody>\n",
       "</table>\n",
       "</div>"
      ],
      "text/plain": [
       "   user_id  age churn_date       city first_name  last_name    reg_date  \\\n",
       "0     1000   52        NaN  Краснодар     Рафаил  Верещагин  2018-05-25   \n",
       "1     1000   52        NaN  Краснодар     Рафаил  Верещагин  2018-05-25   \n",
       "2     1000   52        NaN  Краснодар     Рафаил  Верещагин  2018-05-25   \n",
       "3     1000   52        NaN  Краснодар     Рафаил  Верещагин  2018-05-25   \n",
       "4     1000   52        NaN  Краснодар     Рафаил  Верещагин  2018-05-25   \n",
       "\n",
       "  tariff_name     months  calls_duration  calls_in_month  \n",
       "0       ultra 2018-05-01           151.0              22  \n",
       "1       ultra 2018-06-01           159.0              43  \n",
       "2       ultra 2018-07-01           319.0              47  \n",
       "3       ultra 2018-08-01           390.0              52  \n",
       "4       ultra 2018-09-01           441.0              58  "
      ]
     },
     "execution_count": 133,
     "metadata": {},
     "output_type": "execute_result"
    }
   ],
   "source": [
    "users_calls_pivot.head(5)"
   ]
  },
  {
   "cell_type": "markdown",
   "metadata": {},
   "source": [
    "Посчитаем количество отправленных сообщений пользователями по месяцам:"
   ]
  },
  {
   "cell_type": "code",
   "execution_count": 134,
   "metadata": {},
   "outputs": [],
   "source": [
    "messages_pivot = messages.pivot_table(index = ['user_id', 'months'], values = 'id', aggfunc = 'count').reset_index()\n",
    "# количество отправленных сообщений по месяцам;"
   ]
  },
  {
   "cell_type": "code",
   "execution_count": 194,
   "metadata": {},
   "outputs": [],
   "source": [
    "messages_pivot.columns = ['user_id', 'months', 'sms'] # переименуем столбцы"
   ]
  },
  {
   "cell_type": "code",
   "execution_count": 195,
   "metadata": {},
   "outputs": [
    {
     "data": {
      "text/html": [
       "<div>\n",
       "<style scoped>\n",
       "    .dataframe tbody tr th:only-of-type {\n",
       "        vertical-align: middle;\n",
       "    }\n",
       "\n",
       "    .dataframe tbody tr th {\n",
       "        vertical-align: top;\n",
       "    }\n",
       "\n",
       "    .dataframe thead th {\n",
       "        text-align: right;\n",
       "    }\n",
       "</style>\n",
       "<table border=\"1\" class=\"dataframe\">\n",
       "  <thead>\n",
       "    <tr style=\"text-align: right;\">\n",
       "      <th></th>\n",
       "      <th>user_id</th>\n",
       "      <th>months</th>\n",
       "      <th>sms</th>\n",
       "    </tr>\n",
       "  </thead>\n",
       "  <tbody>\n",
       "    <tr>\n",
       "      <td>0</td>\n",
       "      <td>1000</td>\n",
       "      <td>2018-05-01</td>\n",
       "      <td>22</td>\n",
       "    </tr>\n",
       "    <tr>\n",
       "      <td>1</td>\n",
       "      <td>1000</td>\n",
       "      <td>2018-06-01</td>\n",
       "      <td>60</td>\n",
       "    </tr>\n",
       "    <tr>\n",
       "      <td>2</td>\n",
       "      <td>1000</td>\n",
       "      <td>2018-07-01</td>\n",
       "      <td>75</td>\n",
       "    </tr>\n",
       "    <tr>\n",
       "      <td>3</td>\n",
       "      <td>1000</td>\n",
       "      <td>2018-08-01</td>\n",
       "      <td>81</td>\n",
       "    </tr>\n",
       "    <tr>\n",
       "      <td>4</td>\n",
       "      <td>1000</td>\n",
       "      <td>2018-09-01</td>\n",
       "      <td>57</td>\n",
       "    </tr>\n",
       "  </tbody>\n",
       "</table>\n",
       "</div>"
      ],
      "text/plain": [
       "   user_id     months  sms\n",
       "0     1000 2018-05-01   22\n",
       "1     1000 2018-06-01   60\n",
       "2     1000 2018-07-01   75\n",
       "3     1000 2018-08-01   81\n",
       "4     1000 2018-09-01   57"
      ]
     },
     "execution_count": 195,
     "metadata": {},
     "output_type": "execute_result"
    }
   ],
   "source": [
    "messages_pivot.head(5)"
   ]
  },
  {
   "cell_type": "markdown",
   "metadata": {},
   "source": [
    "Совместив с таблицей users по параметру user_id, получим количество отправленных сообщений по месяцам для каждого пользователя:"
   ]
  },
  {
   "cell_type": "code",
   "execution_count": 137,
   "metadata": {},
   "outputs": [],
   "source": [
    "users_messages_pivot = users.merge(messages_pivot, on = 'user_id') "
   ]
  },
  {
   "cell_type": "code",
   "execution_count": 196,
   "metadata": {},
   "outputs": [
    {
     "data": {
      "text/html": [
       "<div>\n",
       "<style scoped>\n",
       "    .dataframe tbody tr th:only-of-type {\n",
       "        vertical-align: middle;\n",
       "    }\n",
       "\n",
       "    .dataframe tbody tr th {\n",
       "        vertical-align: top;\n",
       "    }\n",
       "\n",
       "    .dataframe thead th {\n",
       "        text-align: right;\n",
       "    }\n",
       "</style>\n",
       "<table border=\"1\" class=\"dataframe\">\n",
       "  <thead>\n",
       "    <tr style=\"text-align: right;\">\n",
       "      <th></th>\n",
       "      <th>user_id</th>\n",
       "      <th>age</th>\n",
       "      <th>churn_date</th>\n",
       "      <th>city</th>\n",
       "      <th>first_name</th>\n",
       "      <th>last_name</th>\n",
       "      <th>reg_date</th>\n",
       "      <th>tariff_name</th>\n",
       "      <th>months</th>\n",
       "      <th>sms</th>\n",
       "    </tr>\n",
       "  </thead>\n",
       "  <tbody>\n",
       "    <tr>\n",
       "      <td>0</td>\n",
       "      <td>1000</td>\n",
       "      <td>52</td>\n",
       "      <td>NaN</td>\n",
       "      <td>Краснодар</td>\n",
       "      <td>Рафаил</td>\n",
       "      <td>Верещагин</td>\n",
       "      <td>2018-05-25</td>\n",
       "      <td>ultra</td>\n",
       "      <td>2018-05-01</td>\n",
       "      <td>22</td>\n",
       "    </tr>\n",
       "    <tr>\n",
       "      <td>1</td>\n",
       "      <td>1000</td>\n",
       "      <td>52</td>\n",
       "      <td>NaN</td>\n",
       "      <td>Краснодар</td>\n",
       "      <td>Рафаил</td>\n",
       "      <td>Верещагин</td>\n",
       "      <td>2018-05-25</td>\n",
       "      <td>ultra</td>\n",
       "      <td>2018-06-01</td>\n",
       "      <td>60</td>\n",
       "    </tr>\n",
       "    <tr>\n",
       "      <td>2</td>\n",
       "      <td>1000</td>\n",
       "      <td>52</td>\n",
       "      <td>NaN</td>\n",
       "      <td>Краснодар</td>\n",
       "      <td>Рафаил</td>\n",
       "      <td>Верещагин</td>\n",
       "      <td>2018-05-25</td>\n",
       "      <td>ultra</td>\n",
       "      <td>2018-07-01</td>\n",
       "      <td>75</td>\n",
       "    </tr>\n",
       "    <tr>\n",
       "      <td>3</td>\n",
       "      <td>1000</td>\n",
       "      <td>52</td>\n",
       "      <td>NaN</td>\n",
       "      <td>Краснодар</td>\n",
       "      <td>Рафаил</td>\n",
       "      <td>Верещагин</td>\n",
       "      <td>2018-05-25</td>\n",
       "      <td>ultra</td>\n",
       "      <td>2018-08-01</td>\n",
       "      <td>81</td>\n",
       "    </tr>\n",
       "    <tr>\n",
       "      <td>4</td>\n",
       "      <td>1000</td>\n",
       "      <td>52</td>\n",
       "      <td>NaN</td>\n",
       "      <td>Краснодар</td>\n",
       "      <td>Рафаил</td>\n",
       "      <td>Верещагин</td>\n",
       "      <td>2018-05-25</td>\n",
       "      <td>ultra</td>\n",
       "      <td>2018-09-01</td>\n",
       "      <td>57</td>\n",
       "    </tr>\n",
       "  </tbody>\n",
       "</table>\n",
       "</div>"
      ],
      "text/plain": [
       "   user_id  age churn_date       city first_name  last_name    reg_date  \\\n",
       "0     1000   52        NaN  Краснодар     Рафаил  Верещагин  2018-05-25   \n",
       "1     1000   52        NaN  Краснодар     Рафаил  Верещагин  2018-05-25   \n",
       "2     1000   52        NaN  Краснодар     Рафаил  Верещагин  2018-05-25   \n",
       "3     1000   52        NaN  Краснодар     Рафаил  Верещагин  2018-05-25   \n",
       "4     1000   52        NaN  Краснодар     Рафаил  Верещагин  2018-05-25   \n",
       "\n",
       "  tariff_name     months  sms  \n",
       "0       ultra 2018-05-01   22  \n",
       "1       ultra 2018-06-01   60  \n",
       "2       ultra 2018-07-01   75  \n",
       "3       ultra 2018-08-01   81  \n",
       "4       ultra 2018-09-01   57  "
      ]
     },
     "execution_count": 196,
     "metadata": {},
     "output_type": "execute_result"
    }
   ],
   "source": [
    "users_messages_pivot.head(5)"
   ]
  },
  {
   "cell_type": "markdown",
   "metadata": {},
   "source": [
    "3. Посчитаем объем интернет трафика для каждого пользователя по месяцам:"
   ]
  },
  {
   "cell_type": "code",
   "execution_count": 139,
   "metadata": {},
   "outputs": [],
   "source": [
    "internet_pivot = internet.pivot_table(index = ['user_id', 'months'], values = 'mb_used', aggfunc = 'sum').reset_index()\n",
    "# объем израсходованного интернет-трафика по месяцам каждым пользователем"
   ]
  },
  {
   "cell_type": "code",
   "execution_count": 140,
   "metadata": {
    "scrolled": true
   },
   "outputs": [],
   "source": [
    "internet_pivot.columns = ['user_id', 'months', 'mb_sum']"
   ]
  },
  {
   "cell_type": "code",
   "execution_count": 141,
   "metadata": {},
   "outputs": [],
   "source": [
    "internet_pivot['mb_sum'] = internet_pivot['mb_sum'].apply(np.ceil) # округлим до целого в большую сторону"
   ]
  },
  {
   "cell_type": "code",
   "execution_count": 197,
   "metadata": {},
   "outputs": [
    {
     "data": {
      "text/html": [
       "<div>\n",
       "<style scoped>\n",
       "    .dataframe tbody tr th:only-of-type {\n",
       "        vertical-align: middle;\n",
       "    }\n",
       "\n",
       "    .dataframe tbody tr th {\n",
       "        vertical-align: top;\n",
       "    }\n",
       "\n",
       "    .dataframe thead th {\n",
       "        text-align: right;\n",
       "    }\n",
       "</style>\n",
       "<table border=\"1\" class=\"dataframe\">\n",
       "  <thead>\n",
       "    <tr style=\"text-align: right;\">\n",
       "      <th></th>\n",
       "      <th>user_id</th>\n",
       "      <th>months</th>\n",
       "      <th>mb_sum</th>\n",
       "    </tr>\n",
       "  </thead>\n",
       "  <tbody>\n",
       "    <tr>\n",
       "      <td>0</td>\n",
       "      <td>1000</td>\n",
       "      <td>2018-05-01</td>\n",
       "      <td>2254.0</td>\n",
       "    </tr>\n",
       "    <tr>\n",
       "      <td>1</td>\n",
       "      <td>1000</td>\n",
       "      <td>2018-06-01</td>\n",
       "      <td>23234.0</td>\n",
       "    </tr>\n",
       "    <tr>\n",
       "      <td>2</td>\n",
       "      <td>1000</td>\n",
       "      <td>2018-07-01</td>\n",
       "      <td>14004.0</td>\n",
       "    </tr>\n",
       "    <tr>\n",
       "      <td>3</td>\n",
       "      <td>1000</td>\n",
       "      <td>2018-08-01</td>\n",
       "      <td>14056.0</td>\n",
       "    </tr>\n",
       "    <tr>\n",
       "      <td>4</td>\n",
       "      <td>1000</td>\n",
       "      <td>2018-09-01</td>\n",
       "      <td>14569.0</td>\n",
       "    </tr>\n",
       "  </tbody>\n",
       "</table>\n",
       "</div>"
      ],
      "text/plain": [
       "   user_id     months   mb_sum\n",
       "0     1000 2018-05-01   2254.0\n",
       "1     1000 2018-06-01  23234.0\n",
       "2     1000 2018-07-01  14004.0\n",
       "3     1000 2018-08-01  14056.0\n",
       "4     1000 2018-09-01  14569.0"
      ]
     },
     "execution_count": 197,
     "metadata": {},
     "output_type": "execute_result"
    }
   ],
   "source": [
    "internet_pivot.head(5)"
   ]
  },
  {
   "cell_type": "markdown",
   "metadata": {},
   "source": [
    "Аналогично, совместив с таблицей users по параметру user_id, получим объем израсходованного интернет-трафика по месяцам каждым пользователем:"
   ]
  },
  {
   "cell_type": "code",
   "execution_count": 143,
   "metadata": {},
   "outputs": [],
   "source": [
    "users_internet_pivot = users.merge(internet_pivot, on = 'user_id') "
   ]
  },
  {
   "cell_type": "code",
   "execution_count": 198,
   "metadata": {},
   "outputs": [
    {
     "data": {
      "text/html": [
       "<div>\n",
       "<style scoped>\n",
       "    .dataframe tbody tr th:only-of-type {\n",
       "        vertical-align: middle;\n",
       "    }\n",
       "\n",
       "    .dataframe tbody tr th {\n",
       "        vertical-align: top;\n",
       "    }\n",
       "\n",
       "    .dataframe thead th {\n",
       "        text-align: right;\n",
       "    }\n",
       "</style>\n",
       "<table border=\"1\" class=\"dataframe\">\n",
       "  <thead>\n",
       "    <tr style=\"text-align: right;\">\n",
       "      <th></th>\n",
       "      <th>user_id</th>\n",
       "      <th>age</th>\n",
       "      <th>churn_date</th>\n",
       "      <th>city</th>\n",
       "      <th>first_name</th>\n",
       "      <th>last_name</th>\n",
       "      <th>reg_date</th>\n",
       "      <th>tariff_name</th>\n",
       "      <th>months</th>\n",
       "      <th>mb_sum</th>\n",
       "    </tr>\n",
       "  </thead>\n",
       "  <tbody>\n",
       "    <tr>\n",
       "      <td>0</td>\n",
       "      <td>1000</td>\n",
       "      <td>52</td>\n",
       "      <td>NaN</td>\n",
       "      <td>Краснодар</td>\n",
       "      <td>Рафаил</td>\n",
       "      <td>Верещагин</td>\n",
       "      <td>2018-05-25</td>\n",
       "      <td>ultra</td>\n",
       "      <td>2018-05-01</td>\n",
       "      <td>2254.0</td>\n",
       "    </tr>\n",
       "    <tr>\n",
       "      <td>1</td>\n",
       "      <td>1000</td>\n",
       "      <td>52</td>\n",
       "      <td>NaN</td>\n",
       "      <td>Краснодар</td>\n",
       "      <td>Рафаил</td>\n",
       "      <td>Верещагин</td>\n",
       "      <td>2018-05-25</td>\n",
       "      <td>ultra</td>\n",
       "      <td>2018-06-01</td>\n",
       "      <td>23234.0</td>\n",
       "    </tr>\n",
       "    <tr>\n",
       "      <td>2</td>\n",
       "      <td>1000</td>\n",
       "      <td>52</td>\n",
       "      <td>NaN</td>\n",
       "      <td>Краснодар</td>\n",
       "      <td>Рафаил</td>\n",
       "      <td>Верещагин</td>\n",
       "      <td>2018-05-25</td>\n",
       "      <td>ultra</td>\n",
       "      <td>2018-07-01</td>\n",
       "      <td>14004.0</td>\n",
       "    </tr>\n",
       "    <tr>\n",
       "      <td>3</td>\n",
       "      <td>1000</td>\n",
       "      <td>52</td>\n",
       "      <td>NaN</td>\n",
       "      <td>Краснодар</td>\n",
       "      <td>Рафаил</td>\n",
       "      <td>Верещагин</td>\n",
       "      <td>2018-05-25</td>\n",
       "      <td>ultra</td>\n",
       "      <td>2018-08-01</td>\n",
       "      <td>14056.0</td>\n",
       "    </tr>\n",
       "    <tr>\n",
       "      <td>4</td>\n",
       "      <td>1000</td>\n",
       "      <td>52</td>\n",
       "      <td>NaN</td>\n",
       "      <td>Краснодар</td>\n",
       "      <td>Рафаил</td>\n",
       "      <td>Верещагин</td>\n",
       "      <td>2018-05-25</td>\n",
       "      <td>ultra</td>\n",
       "      <td>2018-09-01</td>\n",
       "      <td>14569.0</td>\n",
       "    </tr>\n",
       "  </tbody>\n",
       "</table>\n",
       "</div>"
      ],
      "text/plain": [
       "   user_id  age churn_date       city first_name  last_name    reg_date  \\\n",
       "0     1000   52        NaN  Краснодар     Рафаил  Верещагин  2018-05-25   \n",
       "1     1000   52        NaN  Краснодар     Рафаил  Верещагин  2018-05-25   \n",
       "2     1000   52        NaN  Краснодар     Рафаил  Верещагин  2018-05-25   \n",
       "3     1000   52        NaN  Краснодар     Рафаил  Верещагин  2018-05-25   \n",
       "4     1000   52        NaN  Краснодар     Рафаил  Верещагин  2018-05-25   \n",
       "\n",
       "  tariff_name     months   mb_sum  \n",
       "0       ultra 2018-05-01   2254.0  \n",
       "1       ultra 2018-06-01  23234.0  \n",
       "2       ultra 2018-07-01  14004.0  \n",
       "3       ultra 2018-08-01  14056.0  \n",
       "4       ultra 2018-09-01  14569.0  "
      ]
     },
     "execution_count": 198,
     "metadata": {},
     "output_type": "execute_result"
    }
   ],
   "source": [
    "users_internet_pivot.head(5)"
   ]
  },
  {
   "cell_type": "markdown",
   "metadata": {},
   "source": [
    "4. Посчитаем помесячную выручку с каждого пользователя: "
   ]
  },
  {
   "cell_type": "markdown",
   "metadata": {},
   "source": [
    "Склеим все в одно целое: "
   ]
  },
  {
   "cell_type": "code",
   "execution_count": 145,
   "metadata": {},
   "outputs": [],
   "source": [
    "df1 = calls_pivot.merge(messages_pivot, on = ['user_id', 'months'], how = 'outer') \n",
    "# склеим таблицы звонки и сообщения в одно по user_id и months"
   ]
  },
  {
   "cell_type": "code",
   "execution_count": 146,
   "metadata": {},
   "outputs": [],
   "source": [
    "df2 = df1.merge(internet_pivot, on = ['user_id', 'months'], how = 'outer')\n",
    "# далее добавим интернет трафик."
   ]
  },
  {
   "cell_type": "markdown",
   "metadata": {},
   "source": [
    "Получили таб где для каждого пользователя информация о длительности звонков, количестве звонков, количестве смс, количестве интернет трафика за месяц. "
   ]
  },
  {
   "cell_type": "code",
   "execution_count": 147,
   "metadata": {},
   "outputs": [
    {
     "data": {
      "text/html": [
       "<div>\n",
       "<style scoped>\n",
       "    .dataframe tbody tr th:only-of-type {\n",
       "        vertical-align: middle;\n",
       "    }\n",
       "\n",
       "    .dataframe tbody tr th {\n",
       "        vertical-align: top;\n",
       "    }\n",
       "\n",
       "    .dataframe thead th {\n",
       "        text-align: right;\n",
       "    }\n",
       "</style>\n",
       "<table border=\"1\" class=\"dataframe\">\n",
       "  <thead>\n",
       "    <tr style=\"text-align: right;\">\n",
       "      <th></th>\n",
       "      <th>user_id</th>\n",
       "      <th>months</th>\n",
       "      <th>calls_duration</th>\n",
       "      <th>calls_in_month</th>\n",
       "      <th>sms</th>\n",
       "      <th>mb_sum</th>\n",
       "    </tr>\n",
       "  </thead>\n",
       "  <tbody>\n",
       "    <tr>\n",
       "      <td>0</td>\n",
       "      <td>1000</td>\n",
       "      <td>2018-05-01</td>\n",
       "      <td>150.06</td>\n",
       "      <td>22.0</td>\n",
       "      <td>22.0</td>\n",
       "      <td>2254.0</td>\n",
       "    </tr>\n",
       "    <tr>\n",
       "      <td>1</td>\n",
       "      <td>1000</td>\n",
       "      <td>2018-06-01</td>\n",
       "      <td>158.90</td>\n",
       "      <td>43.0</td>\n",
       "      <td>60.0</td>\n",
       "      <td>23234.0</td>\n",
       "    </tr>\n",
       "    <tr>\n",
       "      <td>2</td>\n",
       "      <td>1000</td>\n",
       "      <td>2018-07-01</td>\n",
       "      <td>318.80</td>\n",
       "      <td>47.0</td>\n",
       "      <td>75.0</td>\n",
       "      <td>14004.0</td>\n",
       "    </tr>\n",
       "    <tr>\n",
       "      <td>3</td>\n",
       "      <td>1000</td>\n",
       "      <td>2018-08-01</td>\n",
       "      <td>389.87</td>\n",
       "      <td>52.0</td>\n",
       "      <td>81.0</td>\n",
       "      <td>14056.0</td>\n",
       "    </tr>\n",
       "    <tr>\n",
       "      <td>4</td>\n",
       "      <td>1000</td>\n",
       "      <td>2018-09-01</td>\n",
       "      <td>440.14</td>\n",
       "      <td>58.0</td>\n",
       "      <td>57.0</td>\n",
       "      <td>14569.0</td>\n",
       "    </tr>\n",
       "  </tbody>\n",
       "</table>\n",
       "</div>"
      ],
      "text/plain": [
       "   user_id     months  calls_duration  calls_in_month   sms   mb_sum\n",
       "0     1000 2018-05-01          150.06            22.0  22.0   2254.0\n",
       "1     1000 2018-06-01          158.90            43.0  60.0  23234.0\n",
       "2     1000 2018-07-01          318.80            47.0  75.0  14004.0\n",
       "3     1000 2018-08-01          389.87            52.0  81.0  14056.0\n",
       "4     1000 2018-09-01          440.14            58.0  57.0  14569.0"
      ]
     },
     "execution_count": 147,
     "metadata": {},
     "output_type": "execute_result"
    }
   ],
   "source": [
    "df2.head(5)"
   ]
  },
  {
   "cell_type": "markdown",
   "metadata": {},
   "source": [
    "Видим, что есть пропуски значений, т.е кто то из пользователей не совершал звонки, или не отправлял смс, или не серфил в интернете. Заменим эти пропуски нулями."
   ]
  },
  {
   "cell_type": "code",
   "execution_count": 148,
   "metadata": {},
   "outputs": [],
   "source": [
    "df2['calls_duration'] = df2['calls_duration'].fillna(0)"
   ]
  },
  {
   "cell_type": "code",
   "execution_count": 149,
   "metadata": {},
   "outputs": [],
   "source": [
    "df2['calls_in_month'] = df2['calls_in_month'].fillna(0)"
   ]
  },
  {
   "cell_type": "code",
   "execution_count": 150,
   "metadata": {},
   "outputs": [],
   "source": [
    "df2['sms'] = df2['sms'].fillna(0)"
   ]
  },
  {
   "cell_type": "code",
   "execution_count": 151,
   "metadata": {},
   "outputs": [],
   "source": [
    "df2['mb_sum'] = df2['mb_sum'].fillna(0)"
   ]
  },
  {
   "cell_type": "markdown",
   "metadata": {},
   "source": [
    "Склеим по user_id с таблицей users:"
   ]
  },
  {
   "cell_type": "code",
   "execution_count": 152,
   "metadata": {},
   "outputs": [],
   "source": [
    "df_users = df2.merge(users, on = ['user_id'])"
   ]
  },
  {
   "cell_type": "code",
   "execution_count": 153,
   "metadata": {
    "scrolled": true
   },
   "outputs": [
    {
     "data": {
      "text/html": [
       "<div>\n",
       "<style scoped>\n",
       "    .dataframe tbody tr th:only-of-type {\n",
       "        vertical-align: middle;\n",
       "    }\n",
       "\n",
       "    .dataframe tbody tr th {\n",
       "        vertical-align: top;\n",
       "    }\n",
       "\n",
       "    .dataframe thead th {\n",
       "        text-align: right;\n",
       "    }\n",
       "</style>\n",
       "<table border=\"1\" class=\"dataframe\">\n",
       "  <thead>\n",
       "    <tr style=\"text-align: right;\">\n",
       "      <th></th>\n",
       "      <th>user_id</th>\n",
       "      <th>months</th>\n",
       "      <th>calls_duration</th>\n",
       "      <th>calls_in_month</th>\n",
       "      <th>sms</th>\n",
       "      <th>mb_sum</th>\n",
       "      <th>age</th>\n",
       "      <th>churn_date</th>\n",
       "      <th>city</th>\n",
       "      <th>first_name</th>\n",
       "      <th>last_name</th>\n",
       "      <th>reg_date</th>\n",
       "      <th>tariff_name</th>\n",
       "    </tr>\n",
       "  </thead>\n",
       "  <tbody>\n",
       "    <tr>\n",
       "      <td>0</td>\n",
       "      <td>1000</td>\n",
       "      <td>2018-05-01</td>\n",
       "      <td>150.06</td>\n",
       "      <td>22.0</td>\n",
       "      <td>22.0</td>\n",
       "      <td>2254.0</td>\n",
       "      <td>52</td>\n",
       "      <td>NaN</td>\n",
       "      <td>Краснодар</td>\n",
       "      <td>Рафаил</td>\n",
       "      <td>Верещагин</td>\n",
       "      <td>2018-05-25</td>\n",
       "      <td>ultra</td>\n",
       "    </tr>\n",
       "    <tr>\n",
       "      <td>1</td>\n",
       "      <td>1000</td>\n",
       "      <td>2018-06-01</td>\n",
       "      <td>158.90</td>\n",
       "      <td>43.0</td>\n",
       "      <td>60.0</td>\n",
       "      <td>23234.0</td>\n",
       "      <td>52</td>\n",
       "      <td>NaN</td>\n",
       "      <td>Краснодар</td>\n",
       "      <td>Рафаил</td>\n",
       "      <td>Верещагин</td>\n",
       "      <td>2018-05-25</td>\n",
       "      <td>ultra</td>\n",
       "    </tr>\n",
       "    <tr>\n",
       "      <td>2</td>\n",
       "      <td>1000</td>\n",
       "      <td>2018-07-01</td>\n",
       "      <td>318.80</td>\n",
       "      <td>47.0</td>\n",
       "      <td>75.0</td>\n",
       "      <td>14004.0</td>\n",
       "      <td>52</td>\n",
       "      <td>NaN</td>\n",
       "      <td>Краснодар</td>\n",
       "      <td>Рафаил</td>\n",
       "      <td>Верещагин</td>\n",
       "      <td>2018-05-25</td>\n",
       "      <td>ultra</td>\n",
       "    </tr>\n",
       "    <tr>\n",
       "      <td>3</td>\n",
       "      <td>1000</td>\n",
       "      <td>2018-08-01</td>\n",
       "      <td>389.87</td>\n",
       "      <td>52.0</td>\n",
       "      <td>81.0</td>\n",
       "      <td>14056.0</td>\n",
       "      <td>52</td>\n",
       "      <td>NaN</td>\n",
       "      <td>Краснодар</td>\n",
       "      <td>Рафаил</td>\n",
       "      <td>Верещагин</td>\n",
       "      <td>2018-05-25</td>\n",
       "      <td>ultra</td>\n",
       "    </tr>\n",
       "    <tr>\n",
       "      <td>4</td>\n",
       "      <td>1000</td>\n",
       "      <td>2018-09-01</td>\n",
       "      <td>440.14</td>\n",
       "      <td>58.0</td>\n",
       "      <td>57.0</td>\n",
       "      <td>14569.0</td>\n",
       "      <td>52</td>\n",
       "      <td>NaN</td>\n",
       "      <td>Краснодар</td>\n",
       "      <td>Рафаил</td>\n",
       "      <td>Верещагин</td>\n",
       "      <td>2018-05-25</td>\n",
       "      <td>ultra</td>\n",
       "    </tr>\n",
       "  </tbody>\n",
       "</table>\n",
       "</div>"
      ],
      "text/plain": [
       "   user_id     months  calls_duration  calls_in_month   sms   mb_sum  age  \\\n",
       "0     1000 2018-05-01          150.06            22.0  22.0   2254.0   52   \n",
       "1     1000 2018-06-01          158.90            43.0  60.0  23234.0   52   \n",
       "2     1000 2018-07-01          318.80            47.0  75.0  14004.0   52   \n",
       "3     1000 2018-08-01          389.87            52.0  81.0  14056.0   52   \n",
       "4     1000 2018-09-01          440.14            58.0  57.0  14569.0   52   \n",
       "\n",
       "  churn_date       city first_name  last_name    reg_date tariff_name  \n",
       "0        NaN  Краснодар     Рафаил  Верещагин  2018-05-25       ultra  \n",
       "1        NaN  Краснодар     Рафаил  Верещагин  2018-05-25       ultra  \n",
       "2        NaN  Краснодар     Рафаил  Верещагин  2018-05-25       ultra  \n",
       "3        NaN  Краснодар     Рафаил  Верещагин  2018-05-25       ultra  \n",
       "4        NaN  Краснодар     Рафаил  Верещагин  2018-05-25       ultra  "
      ]
     },
     "execution_count": 153,
     "metadata": {},
     "output_type": "execute_result"
    }
   ],
   "source": [
    "df_users.head(5)"
   ]
  },
  {
   "cell_type": "markdown",
   "metadata": {},
   "source": [
    "Склеим полученную таблицу с таблицей tariffs: "
   ]
  },
  {
   "cell_type": "code",
   "execution_count": 154,
   "metadata": {},
   "outputs": [],
   "source": [
    "df_users_tariffs = df_users.merge(tariffs, on = 'tariff_name')"
   ]
  },
  {
   "cell_type": "code",
   "execution_count": 155,
   "metadata": {},
   "outputs": [
    {
     "data": {
      "text/html": [
       "<div>\n",
       "<style scoped>\n",
       "    .dataframe tbody tr th:only-of-type {\n",
       "        vertical-align: middle;\n",
       "    }\n",
       "\n",
       "    .dataframe tbody tr th {\n",
       "        vertical-align: top;\n",
       "    }\n",
       "\n",
       "    .dataframe thead th {\n",
       "        text-align: right;\n",
       "    }\n",
       "</style>\n",
       "<table border=\"1\" class=\"dataframe\">\n",
       "  <thead>\n",
       "    <tr style=\"text-align: right;\">\n",
       "      <th></th>\n",
       "      <th>user_id</th>\n",
       "      <th>months</th>\n",
       "      <th>calls_duration</th>\n",
       "      <th>calls_in_month</th>\n",
       "      <th>sms</th>\n",
       "      <th>mb_sum</th>\n",
       "      <th>age</th>\n",
       "      <th>churn_date</th>\n",
       "      <th>city</th>\n",
       "      <th>first_name</th>\n",
       "      <th>last_name</th>\n",
       "      <th>reg_date</th>\n",
       "      <th>tariff_name</th>\n",
       "      <th>messages_included</th>\n",
       "      <th>mb_per_month_included</th>\n",
       "      <th>minutes_included</th>\n",
       "      <th>rub_monthly_fee</th>\n",
       "      <th>rub_per_gb</th>\n",
       "      <th>rub_per_message</th>\n",
       "      <th>rub_per_minute</th>\n",
       "    </tr>\n",
       "  </thead>\n",
       "  <tbody>\n",
       "    <tr>\n",
       "      <td>0</td>\n",
       "      <td>1000</td>\n",
       "      <td>2018-05-01</td>\n",
       "      <td>150.06</td>\n",
       "      <td>22.0</td>\n",
       "      <td>22.0</td>\n",
       "      <td>2254.0</td>\n",
       "      <td>52</td>\n",
       "      <td>NaN</td>\n",
       "      <td>Краснодар</td>\n",
       "      <td>Рафаил</td>\n",
       "      <td>Верещагин</td>\n",
       "      <td>2018-05-25</td>\n",
       "      <td>ultra</td>\n",
       "      <td>1000</td>\n",
       "      <td>30720</td>\n",
       "      <td>3000</td>\n",
       "      <td>1950</td>\n",
       "      <td>150</td>\n",
       "      <td>1</td>\n",
       "      <td>1</td>\n",
       "    </tr>\n",
       "    <tr>\n",
       "      <td>1</td>\n",
       "      <td>1000</td>\n",
       "      <td>2018-06-01</td>\n",
       "      <td>158.90</td>\n",
       "      <td>43.0</td>\n",
       "      <td>60.0</td>\n",
       "      <td>23234.0</td>\n",
       "      <td>52</td>\n",
       "      <td>NaN</td>\n",
       "      <td>Краснодар</td>\n",
       "      <td>Рафаил</td>\n",
       "      <td>Верещагин</td>\n",
       "      <td>2018-05-25</td>\n",
       "      <td>ultra</td>\n",
       "      <td>1000</td>\n",
       "      <td>30720</td>\n",
       "      <td>3000</td>\n",
       "      <td>1950</td>\n",
       "      <td>150</td>\n",
       "      <td>1</td>\n",
       "      <td>1</td>\n",
       "    </tr>\n",
       "    <tr>\n",
       "      <td>2</td>\n",
       "      <td>1000</td>\n",
       "      <td>2018-07-01</td>\n",
       "      <td>318.80</td>\n",
       "      <td>47.0</td>\n",
       "      <td>75.0</td>\n",
       "      <td>14004.0</td>\n",
       "      <td>52</td>\n",
       "      <td>NaN</td>\n",
       "      <td>Краснодар</td>\n",
       "      <td>Рафаил</td>\n",
       "      <td>Верещагин</td>\n",
       "      <td>2018-05-25</td>\n",
       "      <td>ultra</td>\n",
       "      <td>1000</td>\n",
       "      <td>30720</td>\n",
       "      <td>3000</td>\n",
       "      <td>1950</td>\n",
       "      <td>150</td>\n",
       "      <td>1</td>\n",
       "      <td>1</td>\n",
       "    </tr>\n",
       "    <tr>\n",
       "      <td>3</td>\n",
       "      <td>1000</td>\n",
       "      <td>2018-08-01</td>\n",
       "      <td>389.87</td>\n",
       "      <td>52.0</td>\n",
       "      <td>81.0</td>\n",
       "      <td>14056.0</td>\n",
       "      <td>52</td>\n",
       "      <td>NaN</td>\n",
       "      <td>Краснодар</td>\n",
       "      <td>Рафаил</td>\n",
       "      <td>Верещагин</td>\n",
       "      <td>2018-05-25</td>\n",
       "      <td>ultra</td>\n",
       "      <td>1000</td>\n",
       "      <td>30720</td>\n",
       "      <td>3000</td>\n",
       "      <td>1950</td>\n",
       "      <td>150</td>\n",
       "      <td>1</td>\n",
       "      <td>1</td>\n",
       "    </tr>\n",
       "    <tr>\n",
       "      <td>4</td>\n",
       "      <td>1000</td>\n",
       "      <td>2018-09-01</td>\n",
       "      <td>440.14</td>\n",
       "      <td>58.0</td>\n",
       "      <td>57.0</td>\n",
       "      <td>14569.0</td>\n",
       "      <td>52</td>\n",
       "      <td>NaN</td>\n",
       "      <td>Краснодар</td>\n",
       "      <td>Рафаил</td>\n",
       "      <td>Верещагин</td>\n",
       "      <td>2018-05-25</td>\n",
       "      <td>ultra</td>\n",
       "      <td>1000</td>\n",
       "      <td>30720</td>\n",
       "      <td>3000</td>\n",
       "      <td>1950</td>\n",
       "      <td>150</td>\n",
       "      <td>1</td>\n",
       "      <td>1</td>\n",
       "    </tr>\n",
       "  </tbody>\n",
       "</table>\n",
       "</div>"
      ],
      "text/plain": [
       "   user_id     months  calls_duration  calls_in_month   sms   mb_sum  age  \\\n",
       "0     1000 2018-05-01          150.06            22.0  22.0   2254.0   52   \n",
       "1     1000 2018-06-01          158.90            43.0  60.0  23234.0   52   \n",
       "2     1000 2018-07-01          318.80            47.0  75.0  14004.0   52   \n",
       "3     1000 2018-08-01          389.87            52.0  81.0  14056.0   52   \n",
       "4     1000 2018-09-01          440.14            58.0  57.0  14569.0   52   \n",
       "\n",
       "  churn_date       city first_name  last_name    reg_date tariff_name  \\\n",
       "0        NaN  Краснодар     Рафаил  Верещагин  2018-05-25       ultra   \n",
       "1        NaN  Краснодар     Рафаил  Верещагин  2018-05-25       ultra   \n",
       "2        NaN  Краснодар     Рафаил  Верещагин  2018-05-25       ultra   \n",
       "3        NaN  Краснодар     Рафаил  Верещагин  2018-05-25       ultra   \n",
       "4        NaN  Краснодар     Рафаил  Верещагин  2018-05-25       ultra   \n",
       "\n",
       "   messages_included  mb_per_month_included  minutes_included  \\\n",
       "0               1000                  30720              3000   \n",
       "1               1000                  30720              3000   \n",
       "2               1000                  30720              3000   \n",
       "3               1000                  30720              3000   \n",
       "4               1000                  30720              3000   \n",
       "\n",
       "   rub_monthly_fee  rub_per_gb  rub_per_message  rub_per_minute  \n",
       "0             1950         150                1               1  \n",
       "1             1950         150                1               1  \n",
       "2             1950         150                1               1  \n",
       "3             1950         150                1               1  \n",
       "4             1950         150                1               1  "
      ]
     },
     "execution_count": 155,
     "metadata": {},
     "output_type": "execute_result"
    }
   ],
   "source": [
    "df_users_tariffs.head(5) # получили итоговую таблицу"
   ]
  },
  {
   "cell_type": "code",
   "execution_count": 156,
   "metadata": {},
   "outputs": [
    {
     "name": "stdout",
     "output_type": "stream",
     "text": [
      "<class 'pandas.core.frame.DataFrame'>\n",
      "Int64Index: 3214 entries, 0 to 3213\n",
      "Data columns (total 20 columns):\n",
      "user_id                  3214 non-null int64\n",
      "months                   3214 non-null datetime64[ns]\n",
      "calls_duration           3214 non-null float64\n",
      "calls_in_month           3214 non-null float64\n",
      "sms                      3214 non-null float64\n",
      "mb_sum                   3214 non-null float64\n",
      "age                      3214 non-null int64\n",
      "churn_date               187 non-null object\n",
      "city                     3214 non-null object\n",
      "first_name               3214 non-null object\n",
      "last_name                3214 non-null object\n",
      "reg_date                 3214 non-null object\n",
      "tariff_name              3214 non-null object\n",
      "messages_included        3214 non-null int64\n",
      "mb_per_month_included    3214 non-null int64\n",
      "minutes_included         3214 non-null int64\n",
      "rub_monthly_fee          3214 non-null int64\n",
      "rub_per_gb               3214 non-null int64\n",
      "rub_per_message          3214 non-null int64\n",
      "rub_per_minute           3214 non-null int64\n",
      "dtypes: datetime64[ns](1), float64(4), int64(9), object(6)\n",
      "memory usage: 527.3+ KB\n"
     ]
    }
   ],
   "source": [
    "df_users_tariffs.info()"
   ]
  },
  {
   "cell_type": "code",
   "execution_count": 157,
   "metadata": {},
   "outputs": [
    {
     "data": {
      "text/plain": [
       "0"
      ]
     },
     "execution_count": 157,
     "metadata": {},
     "output_type": "execute_result"
    }
   ],
   "source": [
    "df_users_tariffs.duplicated().sum() # проверяем количество дубликатов"
   ]
  },
  {
   "cell_type": "code",
   "execution_count": 158,
   "metadata": {},
   "outputs": [
    {
     "data": {
      "text/html": [
       "<div>\n",
       "<style scoped>\n",
       "    .dataframe tbody tr th:only-of-type {\n",
       "        vertical-align: middle;\n",
       "    }\n",
       "\n",
       "    .dataframe tbody tr th {\n",
       "        vertical-align: top;\n",
       "    }\n",
       "\n",
       "    .dataframe thead th {\n",
       "        text-align: right;\n",
       "    }\n",
       "</style>\n",
       "<table border=\"1\" class=\"dataframe\">\n",
       "  <thead>\n",
       "    <tr style=\"text-align: right;\">\n",
       "      <th></th>\n",
       "      <th>user_id</th>\n",
       "      <th>months</th>\n",
       "      <th>calls_duration</th>\n",
       "      <th>calls_in_month</th>\n",
       "      <th>sms</th>\n",
       "      <th>mb_sum</th>\n",
       "      <th>age</th>\n",
       "      <th>churn_date</th>\n",
       "      <th>city</th>\n",
       "      <th>first_name</th>\n",
       "      <th>last_name</th>\n",
       "      <th>reg_date</th>\n",
       "      <th>tariff_name</th>\n",
       "      <th>messages_included</th>\n",
       "      <th>mb_per_month_included</th>\n",
       "      <th>minutes_included</th>\n",
       "      <th>rub_monthly_fee</th>\n",
       "      <th>rub_per_gb</th>\n",
       "      <th>rub_per_message</th>\n",
       "      <th>rub_per_minute</th>\n",
       "    </tr>\n",
       "  </thead>\n",
       "  <tbody>\n",
       "    <tr>\n",
       "      <td>0</td>\n",
       "      <td>1000</td>\n",
       "      <td>2018-05-01</td>\n",
       "      <td>150.06</td>\n",
       "      <td>22.0</td>\n",
       "      <td>22.0</td>\n",
       "      <td>2254.0</td>\n",
       "      <td>52</td>\n",
       "      <td>NaN</td>\n",
       "      <td>Краснодар</td>\n",
       "      <td>Рафаил</td>\n",
       "      <td>Верещагин</td>\n",
       "      <td>2018-05-25</td>\n",
       "      <td>ultra</td>\n",
       "      <td>1000</td>\n",
       "      <td>30720</td>\n",
       "      <td>3000</td>\n",
       "      <td>1950</td>\n",
       "      <td>150</td>\n",
       "      <td>1</td>\n",
       "      <td>1</td>\n",
       "    </tr>\n",
       "    <tr>\n",
       "      <td>1</td>\n",
       "      <td>1000</td>\n",
       "      <td>2018-06-01</td>\n",
       "      <td>158.90</td>\n",
       "      <td>43.0</td>\n",
       "      <td>60.0</td>\n",
       "      <td>23234.0</td>\n",
       "      <td>52</td>\n",
       "      <td>NaN</td>\n",
       "      <td>Краснодар</td>\n",
       "      <td>Рафаил</td>\n",
       "      <td>Верещагин</td>\n",
       "      <td>2018-05-25</td>\n",
       "      <td>ultra</td>\n",
       "      <td>1000</td>\n",
       "      <td>30720</td>\n",
       "      <td>3000</td>\n",
       "      <td>1950</td>\n",
       "      <td>150</td>\n",
       "      <td>1</td>\n",
       "      <td>1</td>\n",
       "    </tr>\n",
       "    <tr>\n",
       "      <td>2</td>\n",
       "      <td>1000</td>\n",
       "      <td>2018-07-01</td>\n",
       "      <td>318.80</td>\n",
       "      <td>47.0</td>\n",
       "      <td>75.0</td>\n",
       "      <td>14004.0</td>\n",
       "      <td>52</td>\n",
       "      <td>NaN</td>\n",
       "      <td>Краснодар</td>\n",
       "      <td>Рафаил</td>\n",
       "      <td>Верещагин</td>\n",
       "      <td>2018-05-25</td>\n",
       "      <td>ultra</td>\n",
       "      <td>1000</td>\n",
       "      <td>30720</td>\n",
       "      <td>3000</td>\n",
       "      <td>1950</td>\n",
       "      <td>150</td>\n",
       "      <td>1</td>\n",
       "      <td>1</td>\n",
       "    </tr>\n",
       "    <tr>\n",
       "      <td>3</td>\n",
       "      <td>1000</td>\n",
       "      <td>2018-08-01</td>\n",
       "      <td>389.87</td>\n",
       "      <td>52.0</td>\n",
       "      <td>81.0</td>\n",
       "      <td>14056.0</td>\n",
       "      <td>52</td>\n",
       "      <td>NaN</td>\n",
       "      <td>Краснодар</td>\n",
       "      <td>Рафаил</td>\n",
       "      <td>Верещагин</td>\n",
       "      <td>2018-05-25</td>\n",
       "      <td>ultra</td>\n",
       "      <td>1000</td>\n",
       "      <td>30720</td>\n",
       "      <td>3000</td>\n",
       "      <td>1950</td>\n",
       "      <td>150</td>\n",
       "      <td>1</td>\n",
       "      <td>1</td>\n",
       "    </tr>\n",
       "    <tr>\n",
       "      <td>4</td>\n",
       "      <td>1000</td>\n",
       "      <td>2018-09-01</td>\n",
       "      <td>440.14</td>\n",
       "      <td>58.0</td>\n",
       "      <td>57.0</td>\n",
       "      <td>14569.0</td>\n",
       "      <td>52</td>\n",
       "      <td>NaN</td>\n",
       "      <td>Краснодар</td>\n",
       "      <td>Рафаил</td>\n",
       "      <td>Верещагин</td>\n",
       "      <td>2018-05-25</td>\n",
       "      <td>ultra</td>\n",
       "      <td>1000</td>\n",
       "      <td>30720</td>\n",
       "      <td>3000</td>\n",
       "      <td>1950</td>\n",
       "      <td>150</td>\n",
       "      <td>1</td>\n",
       "      <td>1</td>\n",
       "    </tr>\n",
       "  </tbody>\n",
       "</table>\n",
       "</div>"
      ],
      "text/plain": [
       "   user_id     months  calls_duration  calls_in_month   sms   mb_sum  age  \\\n",
       "0     1000 2018-05-01          150.06            22.0  22.0   2254.0   52   \n",
       "1     1000 2018-06-01          158.90            43.0  60.0  23234.0   52   \n",
       "2     1000 2018-07-01          318.80            47.0  75.0  14004.0   52   \n",
       "3     1000 2018-08-01          389.87            52.0  81.0  14056.0   52   \n",
       "4     1000 2018-09-01          440.14            58.0  57.0  14569.0   52   \n",
       "\n",
       "  churn_date       city first_name  last_name    reg_date tariff_name  \\\n",
       "0        NaN  Краснодар     Рафаил  Верещагин  2018-05-25       ultra   \n",
       "1        NaN  Краснодар     Рафаил  Верещагин  2018-05-25       ultra   \n",
       "2        NaN  Краснодар     Рафаил  Верещагин  2018-05-25       ultra   \n",
       "3        NaN  Краснодар     Рафаил  Верещагин  2018-05-25       ultra   \n",
       "4        NaN  Краснодар     Рафаил  Верещагин  2018-05-25       ultra   \n",
       "\n",
       "   messages_included  mb_per_month_included  minutes_included  \\\n",
       "0               1000                  30720              3000   \n",
       "1               1000                  30720              3000   \n",
       "2               1000                  30720              3000   \n",
       "3               1000                  30720              3000   \n",
       "4               1000                  30720              3000   \n",
       "\n",
       "   rub_monthly_fee  rub_per_gb  rub_per_message  rub_per_minute  \n",
       "0             1950         150                1               1  \n",
       "1             1950         150                1               1  \n",
       "2             1950         150                1               1  \n",
       "3             1950         150                1               1  \n",
       "4             1950         150                1               1  "
      ]
     },
     "execution_count": 158,
     "metadata": {},
     "output_type": "execute_result"
    }
   ],
   "source": [
    "df_users_tariffs.head(5)"
   ]
  },
  {
   "cell_type": "code",
   "execution_count": 159,
   "metadata": {},
   "outputs": [],
   "source": [
    "def over_tariff(row):\n",
    "    pay_calls = 0\n",
    "    pay_sms = 0\n",
    "    pay_internet = 0\n",
    "    if row['calls_duration'] - row['minutes_included'] > 0:\n",
    "        pay_calls = (row['calls_duration'] - row['minutes_included'])*row['rub_per_minute']\n",
    "    if row['sms'] - row['messages_included'] > 0:\n",
    "        pay_sms = (row['sms'] - row['messages_included'])*row['rub_per_message']\n",
    "    if row['mb_sum'] - row['mb_per_month_included'] > 0:\n",
    "        pay_internet = ((row['mb_sum'] - row['mb_per_month_included'])/1024)*row['rub_per_gb']\n",
    "    return pay_calls + pay_sms + pay_internet\n"
   ]
  },
  {
   "cell_type": "code",
   "execution_count": 160,
   "metadata": {},
   "outputs": [],
   "source": [
    "df_users_tariffs['pay'] = df_users_tariffs.apply(over_tariff, axis = 1) # перерасход"
   ]
  },
  {
   "cell_type": "code",
   "execution_count": 161,
   "metadata": {},
   "outputs": [],
   "source": [
    "df_users_tariffs['pay'] = df_users_tariffs['pay'] + df_users_tariffs['rub_monthly_fee'] # итоговая плата каждого пользователя"
   ]
  },
  {
   "cell_type": "code",
   "execution_count": 162,
   "metadata": {},
   "outputs": [],
   "source": [
    "df_users_tariffs['pay'] = np.around(df_users_tariffs['pay'], decimals = 0) # округлим плату до целых"
   ]
  },
  {
   "cell_type": "code",
   "execution_count": 1,
   "metadata": {},
   "outputs": [
    {
     "ename": "NameError",
     "evalue": "name 'pd' is not defined",
     "output_type": "error",
     "traceback": [
      "\u001b[0;31m---------------------------------------------------------------------------\u001b[0m",
      "\u001b[0;31mNameError\u001b[0m                                 Traceback (most recent call last)",
      "\u001b[0;32m<ipython-input-1-6eca537b2d04>\u001b[0m in \u001b[0;36m<module>\u001b[0;34m\u001b[0m\n\u001b[0;32m----> 1\u001b[0;31m \u001b[0mpd\u001b[0m\u001b[0;34m.\u001b[0m\u001b[0mset_option\u001b[0m\u001b[0;34m(\u001b[0m\u001b[0;34m'display.max_columns'\u001b[0m\u001b[0;34m,\u001b[0m \u001b[0;32mNone\u001b[0m\u001b[0;34m)\u001b[0m\u001b[0;34m\u001b[0m\u001b[0;34m\u001b[0m\u001b[0m\n\u001b[0m",
      "\u001b[0;31mNameError\u001b[0m: name 'pd' is not defined"
     ]
    }
   ],
   "source": [
    "pd.set_option('display.max_columns', None)"
   ]
  },
  {
   "cell_type": "code",
   "execution_count": 164,
   "metadata": {},
   "outputs": [
    {
     "data": {
      "text/html": [
       "<div>\n",
       "<style scoped>\n",
       "    .dataframe tbody tr th:only-of-type {\n",
       "        vertical-align: middle;\n",
       "    }\n",
       "\n",
       "    .dataframe tbody tr th {\n",
       "        vertical-align: top;\n",
       "    }\n",
       "\n",
       "    .dataframe thead th {\n",
       "        text-align: right;\n",
       "    }\n",
       "</style>\n",
       "<table border=\"1\" class=\"dataframe\">\n",
       "  <thead>\n",
       "    <tr style=\"text-align: right;\">\n",
       "      <th></th>\n",
       "      <th>user_id</th>\n",
       "      <th>months</th>\n",
       "      <th>calls_duration</th>\n",
       "      <th>calls_in_month</th>\n",
       "      <th>sms</th>\n",
       "      <th>mb_sum</th>\n",
       "      <th>age</th>\n",
       "      <th>churn_date</th>\n",
       "      <th>city</th>\n",
       "      <th>first_name</th>\n",
       "      <th>last_name</th>\n",
       "      <th>reg_date</th>\n",
       "      <th>tariff_name</th>\n",
       "      <th>messages_included</th>\n",
       "      <th>mb_per_month_included</th>\n",
       "      <th>minutes_included</th>\n",
       "      <th>rub_monthly_fee</th>\n",
       "      <th>rub_per_gb</th>\n",
       "      <th>rub_per_message</th>\n",
       "      <th>rub_per_minute</th>\n",
       "      <th>pay</th>\n",
       "    </tr>\n",
       "  </thead>\n",
       "  <tbody>\n",
       "    <tr>\n",
       "      <td>0</td>\n",
       "      <td>1000</td>\n",
       "      <td>2018-05-01</td>\n",
       "      <td>150.06</td>\n",
       "      <td>22.0</td>\n",
       "      <td>22.0</td>\n",
       "      <td>2254.0</td>\n",
       "      <td>52</td>\n",
       "      <td>NaN</td>\n",
       "      <td>Краснодар</td>\n",
       "      <td>Рафаил</td>\n",
       "      <td>Верещагин</td>\n",
       "      <td>2018-05-25</td>\n",
       "      <td>ultra</td>\n",
       "      <td>1000</td>\n",
       "      <td>30720</td>\n",
       "      <td>3000</td>\n",
       "      <td>1950</td>\n",
       "      <td>150</td>\n",
       "      <td>1</td>\n",
       "      <td>1</td>\n",
       "      <td>1950.0</td>\n",
       "    </tr>\n",
       "    <tr>\n",
       "      <td>1</td>\n",
       "      <td>1000</td>\n",
       "      <td>2018-06-01</td>\n",
       "      <td>158.90</td>\n",
       "      <td>43.0</td>\n",
       "      <td>60.0</td>\n",
       "      <td>23234.0</td>\n",
       "      <td>52</td>\n",
       "      <td>NaN</td>\n",
       "      <td>Краснодар</td>\n",
       "      <td>Рафаил</td>\n",
       "      <td>Верещагин</td>\n",
       "      <td>2018-05-25</td>\n",
       "      <td>ultra</td>\n",
       "      <td>1000</td>\n",
       "      <td>30720</td>\n",
       "      <td>3000</td>\n",
       "      <td>1950</td>\n",
       "      <td>150</td>\n",
       "      <td>1</td>\n",
       "      <td>1</td>\n",
       "      <td>1950.0</td>\n",
       "    </tr>\n",
       "    <tr>\n",
       "      <td>2</td>\n",
       "      <td>1000</td>\n",
       "      <td>2018-07-01</td>\n",
       "      <td>318.80</td>\n",
       "      <td>47.0</td>\n",
       "      <td>75.0</td>\n",
       "      <td>14004.0</td>\n",
       "      <td>52</td>\n",
       "      <td>NaN</td>\n",
       "      <td>Краснодар</td>\n",
       "      <td>Рафаил</td>\n",
       "      <td>Верещагин</td>\n",
       "      <td>2018-05-25</td>\n",
       "      <td>ultra</td>\n",
       "      <td>1000</td>\n",
       "      <td>30720</td>\n",
       "      <td>3000</td>\n",
       "      <td>1950</td>\n",
       "      <td>150</td>\n",
       "      <td>1</td>\n",
       "      <td>1</td>\n",
       "      <td>1950.0</td>\n",
       "    </tr>\n",
       "    <tr>\n",
       "      <td>3</td>\n",
       "      <td>1000</td>\n",
       "      <td>2018-08-01</td>\n",
       "      <td>389.87</td>\n",
       "      <td>52.0</td>\n",
       "      <td>81.0</td>\n",
       "      <td>14056.0</td>\n",
       "      <td>52</td>\n",
       "      <td>NaN</td>\n",
       "      <td>Краснодар</td>\n",
       "      <td>Рафаил</td>\n",
       "      <td>Верещагин</td>\n",
       "      <td>2018-05-25</td>\n",
       "      <td>ultra</td>\n",
       "      <td>1000</td>\n",
       "      <td>30720</td>\n",
       "      <td>3000</td>\n",
       "      <td>1950</td>\n",
       "      <td>150</td>\n",
       "      <td>1</td>\n",
       "      <td>1</td>\n",
       "      <td>1950.0</td>\n",
       "    </tr>\n",
       "    <tr>\n",
       "      <td>4</td>\n",
       "      <td>1000</td>\n",
       "      <td>2018-09-01</td>\n",
       "      <td>440.14</td>\n",
       "      <td>58.0</td>\n",
       "      <td>57.0</td>\n",
       "      <td>14569.0</td>\n",
       "      <td>52</td>\n",
       "      <td>NaN</td>\n",
       "      <td>Краснодар</td>\n",
       "      <td>Рафаил</td>\n",
       "      <td>Верещагин</td>\n",
       "      <td>2018-05-25</td>\n",
       "      <td>ultra</td>\n",
       "      <td>1000</td>\n",
       "      <td>30720</td>\n",
       "      <td>3000</td>\n",
       "      <td>1950</td>\n",
       "      <td>150</td>\n",
       "      <td>1</td>\n",
       "      <td>1</td>\n",
       "      <td>1950.0</td>\n",
       "    </tr>\n",
       "  </tbody>\n",
       "</table>\n",
       "</div>"
      ],
      "text/plain": [
       "   user_id     months  calls_duration  calls_in_month   sms   mb_sum  age  \\\n",
       "0     1000 2018-05-01          150.06            22.0  22.0   2254.0   52   \n",
       "1     1000 2018-06-01          158.90            43.0  60.0  23234.0   52   \n",
       "2     1000 2018-07-01          318.80            47.0  75.0  14004.0   52   \n",
       "3     1000 2018-08-01          389.87            52.0  81.0  14056.0   52   \n",
       "4     1000 2018-09-01          440.14            58.0  57.0  14569.0   52   \n",
       "\n",
       "  churn_date       city first_name  last_name    reg_date tariff_name  \\\n",
       "0        NaN  Краснодар     Рафаил  Верещагин  2018-05-25       ultra   \n",
       "1        NaN  Краснодар     Рафаил  Верещагин  2018-05-25       ultra   \n",
       "2        NaN  Краснодар     Рафаил  Верещагин  2018-05-25       ultra   \n",
       "3        NaN  Краснодар     Рафаил  Верещагин  2018-05-25       ultra   \n",
       "4        NaN  Краснодар     Рафаил  Верещагин  2018-05-25       ultra   \n",
       "\n",
       "   messages_included  mb_per_month_included  minutes_included  \\\n",
       "0               1000                  30720              3000   \n",
       "1               1000                  30720              3000   \n",
       "2               1000                  30720              3000   \n",
       "3               1000                  30720              3000   \n",
       "4               1000                  30720              3000   \n",
       "\n",
       "   rub_monthly_fee  rub_per_gb  rub_per_message  rub_per_minute     pay  \n",
       "0             1950         150                1               1  1950.0  \n",
       "1             1950         150                1               1  1950.0  \n",
       "2             1950         150                1               1  1950.0  \n",
       "3             1950         150                1               1  1950.0  \n",
       "4             1950         150                1               1  1950.0  "
      ]
     },
     "execution_count": 164,
     "metadata": {},
     "output_type": "execute_result"
    }
   ],
   "source": [
    "df_users_tariffs.head(5)\n",
    "# pd.set_option('display.max_columns', None)"
   ]
  },
  {
   "cell_type": "markdown",
   "metadata": {},
   "source": [
    "## Анализ данных"
   ]
  },
  {
   "cell_type": "markdown",
   "metadata": {},
   "source": [
    "Опишем поведение клиентов оператора, исходя из выборки. Сколько минут разговора, сколько сообщений и какой объём интернет-трафика требуется пользователям каждого тарифа в месяц? Посчитайте среднее количество, дисперсию и стандартное отклонение. Постройте гистограммы. Опишите распределения."
   ]
  },
  {
   "cell_type": "markdown",
   "metadata": {},
   "source": [
    "- Рассмотрим какова длительность звонков для каждого тарифа:"
   ]
  },
  {
   "cell_type": "code",
   "execution_count": 165,
   "metadata": {},
   "outputs": [
    {
     "data": {
      "text/plain": [
       "count    3214.000000\n",
       "mean      425.883647\n",
       "std       228.567566\n",
       "min         0.000000\n",
       "25%       267.360000\n",
       "50%       417.875000\n",
       "75%       555.030000\n",
       "max      1578.060000\n",
       "Name: calls_duration, dtype: float64"
      ]
     },
     "execution_count": 165,
     "metadata": {},
     "output_type": "execute_result"
    }
   ],
   "source": [
    "df_users_tariffs['calls_duration'].describe() # получим представление о выборке длительность разговоров"
   ]
  },
  {
   "cell_type": "code",
   "execution_count": 166,
   "metadata": {},
   "outputs": [
    {
     "data": {
      "text/plain": [
       "smart    2229\n",
       "ultra     985\n",
       "Name: tariff_name, dtype: int64"
      ]
     },
     "execution_count": 166,
     "metadata": {},
     "output_type": "execute_result"
    }
   ],
   "source": [
    "df_users_tariffs['tariff_name'].value_counts() # количество тарифов в таблице"
   ]
  },
  {
   "cell_type": "markdown",
   "metadata": {},
   "source": [
    "Получим значения среднего, дисперсии и стандартного отклонения для длятельности звонков для каждого тарифа:"
   ]
  },
  {
   "cell_type": "code",
   "execution_count": 167,
   "metadata": {},
   "outputs": [
    {
     "data": {
      "text/html": [
       "<div>\n",
       "<style scoped>\n",
       "    .dataframe tbody tr th:only-of-type {\n",
       "        vertical-align: middle;\n",
       "    }\n",
       "\n",
       "    .dataframe tbody tr th {\n",
       "        vertical-align: top;\n",
       "    }\n",
       "\n",
       "    .dataframe thead tr th {\n",
       "        text-align: left;\n",
       "    }\n",
       "\n",
       "    .dataframe thead tr:last-of-type th {\n",
       "        text-align: right;\n",
       "    }\n",
       "</style>\n",
       "<table border=\"1\" class=\"dataframe\">\n",
       "  <thead>\n",
       "    <tr>\n",
       "      <th></th>\n",
       "      <th colspan=\"3\" halign=\"left\">calls_duration</th>\n",
       "    </tr>\n",
       "    <tr>\n",
       "      <th></th>\n",
       "      <th>mean</th>\n",
       "      <th>var</th>\n",
       "      <th>std</th>\n",
       "    </tr>\n",
       "    <tr>\n",
       "      <th>tariff_name</th>\n",
       "      <th></th>\n",
       "      <th></th>\n",
       "      <th></th>\n",
       "    </tr>\n",
       "  </thead>\n",
       "  <tbody>\n",
       "    <tr>\n",
       "      <td>smart</td>\n",
       "      <td>394.427026</td>\n",
       "      <td>32386.395979</td>\n",
       "      <td>179.962207</td>\n",
       "    </tr>\n",
       "    <tr>\n",
       "      <td>ultra</td>\n",
       "      <td>497.068223</td>\n",
       "      <td>89942.500370</td>\n",
       "      <td>299.904152</td>\n",
       "    </tr>\n",
       "  </tbody>\n",
       "</table>\n",
       "</div>"
      ],
      "text/plain": [
       "            calls_duration                          \n",
       "                      mean           var         std\n",
       "tariff_name                                         \n",
       "smart           394.427026  32386.395979  179.962207\n",
       "ultra           497.068223  89942.500370  299.904152"
      ]
     },
     "metadata": {},
     "output_type": "display_data"
    }
   ],
   "source": [
    "display(df_users_tariffs.groupby('tariff_name').agg({'calls_duration': ['mean','var','std']}))"
   ]
  },
  {
   "cell_type": "markdown",
   "metadata": {},
   "source": [
    "Для визуализации распределения количества минут разговора в каждом тарифе постоим \"ящик с усам\":"
   ]
  },
  {
   "cell_type": "code",
   "execution_count": 168,
   "metadata": {},
   "outputs": [
    {
     "name": "stderr",
     "output_type": "stream",
     "text": [
      "/opt/conda/lib/python3.7/site-packages/numpy/core/_asarray.py:83: VisibleDeprecationWarning: Creating an ndarray from ragged nested sequences (which is a list-or-tuple of lists-or-tuples-or ndarrays with different lengths or shapes) is deprecated. If you meant to do this, you must specify 'dtype=object' when creating the ndarray\n",
      "  return array(a, dtype, copy=False, order=order)\n"
     ]
    },
    {
     "data": {
      "text/plain": [
       "(0, 1600)"
      ]
     },
     "execution_count": 168,
     "metadata": {},
     "output_type": "execute_result"
    },
    {
     "data": {
      "image/png": "[encoded data removed]",
      "text/plain": [
       "<Figure size 432x288 with 1 Axes>"
      ]
     },
     "metadata": {
      "needs_background": "light"
     },
     "output_type": "display_data"
    }
   ],
   "source": [
    "df_users_tariffs.boxplot('calls_duration', by = 'tariff_name')\n",
    "plt.ylim(0, 1600)"
   ]
  },
  {
   "cell_type": "markdown",
   "metadata": {},
   "source": [
    "Из графика видно,  что у пользователей тарифа \"Ультра\" разговоры более длительные. Пользователи тарифа \"Смарт\" чаще превышают 500 мин, ограниченные тарифом. "
   ]
  },
  {
   "cell_type": "markdown",
   "metadata": {},
   "source": [
    "Построим гистограмму в которой отображено количество звонков от длительности для каждого тарифа: "
   ]
  },
  {
   "cell_type": "code",
   "execution_count": 169,
   "metadata": {},
   "outputs": [
    {
     "data": {
      "image/png": "[encoded data removed]",
      "text/plain": [
       "<Figure size 432x288 with 1 Axes>"
      ]
     },
     "metadata": {
      "needs_background": "light"
     },
     "output_type": "display_data"
    }
   ],
   "source": [
    "df_users_tariffs.query('tariff_name == \"smart\"').plot(x = 'calls_duration', y = 'calls_in_month', \n",
    "                                                      kind='hist', bins=50, title = 'smart')\n",
    "plt.show()"
   ]
  },
  {
   "cell_type": "code",
   "execution_count": 170,
   "metadata": {},
   "outputs": [
    {
     "data": {
      "image/png": "[encoded data removed]",
      "text/plain": [
       "<Figure size 432x288 with 1 Axes>"
      ]
     },
     "metadata": {
      "needs_background": "light"
     },
     "output_type": "display_data"
    }
   ],
   "source": [
    "df_users_tariffs.query('tariff_name == \"ultra\"').plot(x = 'calls_duration', y = 'calls_in_month', \n",
    "                                                      kind='hist', bins=50, title = 'ultra')\n",
    "plt.show()"
   ]
  },
  {
   "cell_type": "markdown",
   "metadata": {},
   "source": [
    "Пользователи Смарта чаще совершают звонки по 70 мин, у пользователей Ультры максимум в районе 0, видимо это просто дозвоны с 0 продолжительностью. Количество более длинных звонков у пользователей Ультры больше. "
   ]
  },
  {
   "cell_type": "markdown",
   "metadata": {},
   "source": [
    "- Рассмотрим как распределено количество СМС от тарифа:"
   ]
  },
  {
   "cell_type": "code",
   "execution_count": 171,
   "metadata": {},
   "outputs": [
    {
     "data": {
      "text/plain": [
       "count    3214.000000\n",
       "mean       38.281269\n",
       "std        36.148326\n",
       "min         0.000000\n",
       "25%         9.000000\n",
       "50%        30.000000\n",
       "75%        57.000000\n",
       "max       224.000000\n",
       "Name: sms, dtype: float64"
      ]
     },
     "execution_count": 171,
     "metadata": {},
     "output_type": "execute_result"
    }
   ],
   "source": [
    "df_users_tariffs['sms'].describe()"
   ]
  },
  {
   "cell_type": "markdown",
   "metadata": {},
   "source": [
    "Получим значения среднего, дисперсии и стандартного отклонения для количества СМС для каждого тарифа:"
   ]
  },
  {
   "cell_type": "code",
   "execution_count": 172,
   "metadata": {},
   "outputs": [
    {
     "data": {
      "text/html": [
       "<div>\n",
       "<style scoped>\n",
       "    .dataframe tbody tr th:only-of-type {\n",
       "        vertical-align: middle;\n",
       "    }\n",
       "\n",
       "    .dataframe tbody tr th {\n",
       "        vertical-align: top;\n",
       "    }\n",
       "\n",
       "    .dataframe thead tr th {\n",
       "        text-align: left;\n",
       "    }\n",
       "\n",
       "    .dataframe thead tr:last-of-type th {\n",
       "        text-align: right;\n",
       "    }\n",
       "</style>\n",
       "<table border=\"1\" class=\"dataframe\">\n",
       "  <thead>\n",
       "    <tr>\n",
       "      <th></th>\n",
       "      <th colspan=\"3\" halign=\"left\">sms</th>\n",
       "    </tr>\n",
       "    <tr>\n",
       "      <th></th>\n",
       "      <th>mean</th>\n",
       "      <th>var</th>\n",
       "      <th>std</th>\n",
       "    </tr>\n",
       "    <tr>\n",
       "      <th>tariff_name</th>\n",
       "      <th></th>\n",
       "      <th></th>\n",
       "      <th></th>\n",
       "    </tr>\n",
       "  </thead>\n",
       "  <tbody>\n",
       "    <tr>\n",
       "      <td>smart</td>\n",
       "      <td>33.384029</td>\n",
       "      <td>796.812958</td>\n",
       "      <td>28.227876</td>\n",
       "    </tr>\n",
       "    <tr>\n",
       "      <td>ultra</td>\n",
       "      <td>49.363452</td>\n",
       "      <td>2285.266143</td>\n",
       "      <td>47.804457</td>\n",
       "    </tr>\n",
       "  </tbody>\n",
       "</table>\n",
       "</div>"
      ],
      "text/plain": [
       "                   sms                        \n",
       "                  mean          var        std\n",
       "tariff_name                                   \n",
       "smart        33.384029   796.812958  28.227876\n",
       "ultra        49.363452  2285.266143  47.804457"
      ]
     },
     "metadata": {},
     "output_type": "display_data"
    }
   ],
   "source": [
    "display(df_users_tariffs.groupby('tariff_name').agg({'sms': ['mean','var','std']}))"
   ]
  },
  {
   "cell_type": "code",
   "execution_count": 173,
   "metadata": {},
   "outputs": [
    {
     "name": "stderr",
     "output_type": "stream",
     "text": [
      "/opt/conda/lib/python3.7/site-packages/numpy/core/_asarray.py:83: VisibleDeprecationWarning: Creating an ndarray from ragged nested sequences (which is a list-or-tuple of lists-or-tuples-or ndarrays with different lengths or shapes) is deprecated. If you meant to do this, you must specify 'dtype=object' when creating the ndarray\n",
      "  return array(a, dtype, copy=False, order=order)\n"
     ]
    },
    {
     "data": {
      "text/plain": [
       "(0, 300)"
      ]
     },
     "execution_count": 173,
     "metadata": {},
     "output_type": "execute_result"
    },
    {
     "data": {
      "image/png": "[encoded data removed]",
      "text/plain": [
       "<Figure size 432x288 with 1 Axes>"
      ]
     },
     "metadata": {
      "needs_background": "light"
     },
     "output_type": "display_data"
    }
   ],
   "source": [
    "df_users_tariffs.boxplot('sms', by = 'tariff_name')\n",
    "plt.ylim(0, 300)"
   ]
  },
  {
   "cell_type": "markdown",
   "metadata": {},
   "source": [
    "Из графика видно, что пользователи тарифа \"Смарт\" также выходят за количество СМС, ограниченных в тарифе (50 сообщений в месяц). Пользователи \"Ультры\" не превысили ограниченния тарифа по количеству СМС. \n"
   ]
  },
  {
   "cell_type": "markdown",
   "metadata": {},
   "source": [
    "Рассмотрим, как распределено количество СМС в месяц для каждого тарифа:"
   ]
  },
  {
   "cell_type": "code",
   "execution_count": 174,
   "metadata": {},
   "outputs": [
    {
     "data": {
      "image/png": "[encoded data removed]",
      "text/plain": [
       "<Figure size 432x288 with 1 Axes>"
      ]
     },
     "metadata": {
      "needs_background": "light"
     },
     "output_type": "display_data"
    }
   ],
   "source": [
    "df_users_tariffs.query('tariff_name == \"smart\"').plot(y = 'sms', kind='hist', bins=50, title = 'smart')\n",
    "plt.show()"
   ]
  },
  {
   "cell_type": "code",
   "execution_count": 175,
   "metadata": {},
   "outputs": [
    {
     "data": {
      "image/png": "[encoded data removed]",
      "text/plain": [
       "<Figure size 432x288 with 1 Axes>"
      ]
     },
     "metadata": {
      "needs_background": "light"
     },
     "output_type": "display_data"
    }
   ],
   "source": [
    "df_users_tariffs.query('tariff_name == \"ultra\"').plot(y = 'sms', kind='hist', bins=50, title = 'ultra')\n",
    "plt.show()"
   ]
  },
  {
   "cell_type": "markdown",
   "metadata": {},
   "source": [
    "Пользователи обоих тарифов часто не пользуются СМС сообщениями. Пользователи Смарта отправляют сообщения чаще, чем Ультры. "
   ]
  },
  {
   "cell_type": "markdown",
   "metadata": {},
   "source": [
    "- Рассмотрим как распределено количество интернет трафика от тарифа:"
   ]
  },
  {
   "cell_type": "code",
   "execution_count": 176,
   "metadata": {},
   "outputs": [
    {
     "data": {
      "text/plain": [
       "count     3214.000000\n",
       "mean     17208.104543\n",
       "std       7570.974366\n",
       "min          0.000000\n",
       "25%      12492.250000\n",
       "50%      16943.500000\n",
       "75%      21425.000000\n",
       "max      49746.000000\n",
       "Name: mb_sum, dtype: float64"
      ]
     },
     "execution_count": 176,
     "metadata": {},
     "output_type": "execute_result"
    }
   ],
   "source": [
    "df_users_tariffs['mb_sum'].describe()"
   ]
  },
  {
   "cell_type": "markdown",
   "metadata": {},
   "source": [
    "Получим значения среднего, дисперсии и стандартного отклонения для количества СМС для каждого тарифа:"
   ]
  },
  {
   "cell_type": "code",
   "execution_count": 177,
   "metadata": {},
   "outputs": [
    {
     "data": {
      "text/html": [
       "<div>\n",
       "<style scoped>\n",
       "    .dataframe tbody tr th:only-of-type {\n",
       "        vertical-align: middle;\n",
       "    }\n",
       "\n",
       "    .dataframe tbody tr th {\n",
       "        vertical-align: top;\n",
       "    }\n",
       "\n",
       "    .dataframe thead tr th {\n",
       "        text-align: left;\n",
       "    }\n",
       "\n",
       "    .dataframe thead tr:last-of-type th {\n",
       "        text-align: right;\n",
       "    }\n",
       "</style>\n",
       "<table border=\"1\" class=\"dataframe\">\n",
       "  <thead>\n",
       "    <tr>\n",
       "      <th></th>\n",
       "      <th colspan=\"3\" halign=\"left\">mb_sum</th>\n",
       "    </tr>\n",
       "    <tr>\n",
       "      <th></th>\n",
       "      <th>mean</th>\n",
       "      <th>var</th>\n",
       "      <th>std</th>\n",
       "    </tr>\n",
       "    <tr>\n",
       "      <th>tariff_name</th>\n",
       "      <th></th>\n",
       "      <th></th>\n",
       "      <th></th>\n",
       "    </tr>\n",
       "  </thead>\n",
       "  <tbody>\n",
       "    <tr>\n",
       "      <td>smart</td>\n",
       "      <td>16208.873486</td>\n",
       "      <td>3.446256e+07</td>\n",
       "      <td>5870.482332</td>\n",
       "    </tr>\n",
       "    <tr>\n",
       "      <td>ultra</td>\n",
       "      <td>19469.308629</td>\n",
       "      <td>1.017516e+08</td>\n",
       "      <td>10087.197726</td>\n",
       "    </tr>\n",
       "  </tbody>\n",
       "</table>\n",
       "</div>"
      ],
      "text/plain": [
       "                   mb_sum                            \n",
       "                     mean           var           std\n",
       "tariff_name                                          \n",
       "smart        16208.873486  3.446256e+07   5870.482332\n",
       "ultra        19469.308629  1.017516e+08  10087.197726"
      ]
     },
     "metadata": {},
     "output_type": "display_data"
    }
   ],
   "source": [
    "display(df_users_tariffs.groupby('tariff_name').agg({'mb_sum': ['mean','var','std']}))"
   ]
  },
  {
   "cell_type": "code",
   "execution_count": 178,
   "metadata": {},
   "outputs": [
    {
     "name": "stderr",
     "output_type": "stream",
     "text": [
      "/opt/conda/lib/python3.7/site-packages/numpy/core/_asarray.py:83: VisibleDeprecationWarning: Creating an ndarray from ragged nested sequences (which is a list-or-tuple of lists-or-tuples-or ndarrays with different lengths or shapes) is deprecated. If you meant to do this, you must specify 'dtype=object' when creating the ndarray\n",
      "  return array(a, dtype, copy=False, order=order)\n"
     ]
    },
    {
     "data": {
      "text/plain": [
       "(0, 55000)"
      ]
     },
     "execution_count": 178,
     "metadata": {},
     "output_type": "execute_result"
    },
    {
     "data": {
      "image/png": "[encoded data removed]",
      "text/plain": [
       "<Figure size 432x288 with 1 Axes>"
      ]
     },
     "metadata": {
      "needs_background": "light"
     },
     "output_type": "display_data"
    }
   ],
   "source": [
    "df_users_tariffs.boxplot('mb_sum', by = 'tariff_name')\n",
    "plt.ylim(0, 55000)"
   ]
  },
  {
   "cell_type": "markdown",
   "metadata": {},
   "source": [
    "Аналогично с количеством интернет трафика в каждом тарифе. Пользователи \"Смарта\" часто превышают 15 Гб, установленных тарифом. "
   ]
  },
  {
   "cell_type": "markdown",
   "metadata": {},
   "source": [
    "Рассмотрим, как распределено количество используемого трафика за месяц пользователями каждого тарифа:"
   ]
  },
  {
   "cell_type": "code",
   "execution_count": 179,
   "metadata": {},
   "outputs": [
    {
     "data": {
      "image/png": "[encoded data removed]",
      "text/plain": [
       "<Figure size 432x288 with 1 Axes>"
      ]
     },
     "metadata": {
      "needs_background": "light"
     },
     "output_type": "display_data"
    }
   ],
   "source": [
    "df_users_tariffs.query('tariff_name == \"smart\"').plot(y = 'mb_sum', kind='hist', bins=10, title = 'smart')\n",
    "plt.show()"
   ]
  },
  {
   "cell_type": "code",
   "execution_count": 180,
   "metadata": {},
   "outputs": [
    {
     "data": {
      "image/png": "[encoded data removed]",
      "text/plain": [
       "<Figure size 432x288 with 1 Axes>"
      ]
     },
     "metadata": {
      "needs_background": "light"
     },
     "output_type": "display_data"
    }
   ],
   "source": [
    "df_users_tariffs.query('tariff_name == \"ultra\"').plot(y = 'mb_sum', kind='hist', bins=10, title = 'ultra')\n",
    "plt.show()"
   ]
  },
  {
   "cell_type": "markdown",
   "metadata": {},
   "source": [
    "Пользователи Ультры используют больше трафика, однако количество пользователей Смарта больше. В Смарте пользователи выходят за пределы тарифа. "
   ]
  },
  {
   "cell_type": "markdown",
   "metadata": {},
   "source": [
    "## Проверка гипотез"
   ]
  },
  {
   "cell_type": "markdown",
   "metadata": {},
   "source": [
    " - Проверим гипотезу: средняя выручка пользователей тарифов «Ультра» и «Смарт» различаются"
   ]
  },
  {
   "cell_type": "markdown",
   "metadata": {},
   "source": [
    "> Нулевая гипотеза (H0): средняя выручка пользователей тарифов Смарт и Ультра равна \n",
    "\n",
    "> Альтернативная гипотеза (H1): средняя выручка пользователей тарифов Смарт и Ультра различаются"
   ]
  },
  {
   "cell_type": "markdown",
   "metadata": {},
   "source": [
    "Осуществим проверку двусторонней гипотезы: "
   ]
  },
  {
   "cell_type": "code",
   "execution_count": 181,
   "metadata": {},
   "outputs": [],
   "source": [
    "alpha = .05 # критический уровень средненстатистической значимости будем считать равным 0,05"
   ]
  },
  {
   "cell_type": "code",
   "execution_count": 182,
   "metadata": {},
   "outputs": [
    {
     "data": {
      "text/html": [
       "<div>\n",
       "<style scoped>\n",
       "    .dataframe tbody tr th:only-of-type {\n",
       "        vertical-align: middle;\n",
       "    }\n",
       "\n",
       "    .dataframe tbody tr th {\n",
       "        vertical-align: top;\n",
       "    }\n",
       "\n",
       "    .dataframe thead tr th {\n",
       "        text-align: left;\n",
       "    }\n",
       "\n",
       "    .dataframe thead tr:last-of-type th {\n",
       "        text-align: right;\n",
       "    }\n",
       "</style>\n",
       "<table border=\"1\" class=\"dataframe\">\n",
       "  <thead>\n",
       "    <tr>\n",
       "      <th></th>\n",
       "      <th colspan=\"3\" halign=\"left\">pay</th>\n",
       "    </tr>\n",
       "    <tr>\n",
       "      <th></th>\n",
       "      <th>mean</th>\n",
       "      <th>var</th>\n",
       "      <th>std</th>\n",
       "    </tr>\n",
       "    <tr>\n",
       "      <th>tariff_name</th>\n",
       "      <th></th>\n",
       "      <th></th>\n",
       "      <th></th>\n",
       "    </tr>\n",
       "  </thead>\n",
       "  <tbody>\n",
       "    <tr>\n",
       "      <td>smart</td>\n",
       "      <td>1197.683266</td>\n",
       "      <td>589282.748827</td>\n",
       "      <td>767.647542</td>\n",
       "    </tr>\n",
       "    <tr>\n",
       "      <td>ultra</td>\n",
       "      <td>2059.878173</td>\n",
       "      <td>125954.556281</td>\n",
       "      <td>354.900770</td>\n",
       "    </tr>\n",
       "  </tbody>\n",
       "</table>\n",
       "</div>"
      ],
      "text/plain": [
       "                     pay                           \n",
       "                    mean            var         std\n",
       "tariff_name                                        \n",
       "smart        1197.683266  589282.748827  767.647542\n",
       "ultra        2059.878173  125954.556281  354.900770"
      ]
     },
     "metadata": {},
     "output_type": "display_data"
    }
   ],
   "source": [
    "display(df_users_tariffs.groupby('tariff_name').agg({'pay': ['mean','var','std']})) \n",
    "# вычислим среднее, дисперсию, стандартное отклонение для каждого тарифа"
   ]
  },
  {
   "cell_type": "code",
   "execution_count": 183,
   "metadata": {},
   "outputs": [],
   "source": [
    "df_smart = df_users_tariffs.query('tariff_name == \"smart\"')['pay'] # массив выручка пользователей Смарта\n",
    "df_ultra = df_users_tariffs.query('tariff_name == \"ultra\"')['pay'] # массив выручка пользователей Ультра"
   ]
  },
  {
   "cell_type": "code",
   "execution_count": 184,
   "metadata": {},
   "outputs": [],
   "source": [
    "value_smart =  df_users_tariffs.query('tariff_name == \"smart\"').agg({'pay': 'mean'}) # средняя выручка пользователей Смарта\n",
    "value_ultra =  df_users_tariffs.query('tariff_name == \"ultra\"').agg({'pay': 'mean'}) # средняя выручка пользователей Ультры"
   ]
  },
  {
   "cell_type": "code",
   "execution_count": 185,
   "metadata": {},
   "outputs": [
    {
     "name": "stdout",
     "output_type": "stream",
     "text": [
      "Средняя выручка тарифа Смарт pay    1197\n",
      "dtype: int64\n",
      "Средняя выручка тарифа Ультра pay    2059\n",
      "dtype: int64\n"
     ]
    }
   ],
   "source": [
    "print(\"Средняя выручка тарифа Смарт\", value_smart.astype('int'))\n",
    "print(\"Средняя выручка тарифа Ультра\", value_ultra.astype('int'))"
   ]
  },
  {
   "cell_type": "code",
   "execution_count": 186,
   "metadata": {},
   "outputs": [
    {
     "name": "stdout",
     "output_type": "stream",
     "text": [
      "p-значение: [0.]\n",
      "Отвергаем гипотезу\n"
     ]
    }
   ],
   "source": [
    "result = st.ttest_1samp(df_ultra, value_smart)\n",
    "print('p-значение:', result.pvalue)\n",
    "\n",
    "if result.pvalue < alpha:\n",
    "    print('Отвергаем гипотезу')\n",
    "else: \n",
    "    print('Гипотеза верна')"
   ]
  },
  {
   "cell_type": "markdown",
   "metadata": {},
   "source": [
    "Кроме того, можно осуществить проверку гипотез методом сравнения средних двух генеральных совокупностей: "
   ]
  },
  {
   "cell_type": "code",
   "execution_count": 187,
   "metadata": {},
   "outputs": [
    {
     "name": "stdout",
     "output_type": "stream",
     "text": [
      "p-значение: 2.2735837906524567e-213\n",
      "Отвергаем гипотезу\n"
     ]
    }
   ],
   "source": [
    "result = st.ttest_ind(df_smart, df_ultra)\n",
    "print('p-значение:', result.pvalue)\n",
    "\n",
    "if result.pvalue < alpha:\n",
    "    print('Отвергаем гипотезу')\n",
    "else: \n",
    "    print('Гипотеза верна')"
   ]
  },
  {
   "cell_type": "markdown",
   "metadata": {},
   "source": [
    "*Проверка двумя методами дала результат: отвергаем гипотезу о равенстве средней выручки пользователей тарифов Смарт и Ультра.*"
   ]
  },
  {
   "cell_type": "markdown",
   "metadata": {},
   "source": [
    "- Проверим гипотезу: средняя выручка пользователей из Москвы отличается от выручки пользователей из других регионов.\n",
    "\n",
    "Нулевая гипотеза (H0): средняя выручка пользователей из Москвы равна выручке пользователей из других регионов \n",
    "\n",
    "Альтернативная гипотеза (H1): средняя выручка пользователей из Москвы отличается от выручки пользователей из других регионов"
   ]
  },
  {
   "cell_type": "code",
   "execution_count": 188,
   "metadata": {},
   "outputs": [
    {
     "data": {
      "text/plain": [
       "array(['Краснодар', 'Москва', 'Новокузнецк', 'Иваново', 'Омск', 'Уфа',\n",
       "       'Томск', 'Санкт-Петербург', 'Тверь', 'Ярославль', 'Тюмень',\n",
       "       'Ростов-на-Дону', 'Калуга', 'Тула', 'Волгоград', 'Саранск',\n",
       "       'Иркутск', 'Череповец', 'Новосибирск', 'Брянск', 'Тольятти',\n",
       "       'Нижний Тагил', 'Воронеж', 'Махачкала', 'Пермь', 'Сургут', 'Пенза',\n",
       "       'Мурманск', 'Набережные Челны', 'Самара', 'Нижний Новгород',\n",
       "       'Кемерово', 'Кострома', 'Оренбург', 'Магнитогорск', 'Астрахань',\n",
       "       'Нижневартовск', 'Челябинск', 'Курган', 'Красноярск',\n",
       "       'Владивосток', 'Смоленск', 'Владимир', 'Казань', 'Саратов',\n",
       "       'Севастополь', 'Рязань', 'Екатеринбург', 'Стерлитамак',\n",
       "       'Ульяновск', 'Балашиха', 'Барнаул', 'Киров', 'Сочи', 'Вологда',\n",
       "       'Чебоксары', 'Чита', 'Петрозаводск', 'Хабаровск', 'Ставрополь',\n",
       "       'Улан-Удэ', 'Курск', 'Якутск', 'Химки', 'Владикавказ', 'Ижевск',\n",
       "       'Орёл', 'Белгород', 'Архангельск', 'Липецк', 'Волжский', 'Тамбов',\n",
       "       'Калининград', 'Новороссийск', 'Грозный', 'Подольск'], dtype=object)"
      ]
     },
     "execution_count": 188,
     "metadata": {},
     "output_type": "execute_result"
    }
   ],
   "source": [
    "df_users_tariffs['city'].unique() # список городов"
   ]
  },
  {
   "cell_type": "code",
   "execution_count": 189,
   "metadata": {},
   "outputs": [],
   "source": [
    "df_mosсow = df_users_tariffs.query('city == \"Москва\"')['pay']\n",
    "df_regions = df_users_tariffs.query('city != \"Москва\"')['pay']"
   ]
  },
  {
   "cell_type": "code",
   "execution_count": 190,
   "metadata": {},
   "outputs": [],
   "source": [
    "value_mosсow =  df_users_tariffs.query('city == \"Москва\"').agg({'pay': 'mean'})\n",
    "value_regions =  df_users_tariffs.query('city != \"Москва\"').agg({'pay': 'mean'})"
   ]
  },
  {
   "cell_type": "code",
   "execution_count": 191,
   "metadata": {},
   "outputs": [
    {
     "name": "stdout",
     "output_type": "stream",
     "text": [
      "Средняя выручка в Москве pay    1485\n",
      "dtype: int64\n",
      "Средняя выручка в регионах pay    1456\n",
      "dtype: int64\n"
     ]
    }
   ],
   "source": [
    "print(\"Средняя выручка в Москве\", value_mosсow.astype('int'))\n",
    "print(\"Средняя выручка в регионах\", value_regions.astype('int'))"
   ]
  },
  {
   "cell_type": "markdown",
   "metadata": {},
   "source": [
    "Осуществим проверку двусторонней гипотезы:"
   ]
  },
  {
   "cell_type": "code",
   "execution_count": 192,
   "metadata": {},
   "outputs": [
    {
     "name": "stdout",
     "output_type": "stream",
     "text": [
      "p-значение: [0.33662934]\n",
      "Гипотеза верна\n"
     ]
    }
   ],
   "source": [
    "result = st.ttest_1samp(df_mosсow, value_regions)\n",
    "print('p-значение:', result.pvalue)\n",
    "\n",
    "if result.pvalue < alpha:\n",
    "    print('Отвергаем гипотезу')\n",
    "else: \n",
    "    print('Гипотеза верна')"
   ]
  },
  {
   "cell_type": "markdown",
   "metadata": {},
   "source": [
    " Проверим гипотезу методом сравнения средних двух генеральных совокупностей: "
   ]
  },
  {
   "cell_type": "code",
   "execution_count": 193,
   "metadata": {},
   "outputs": [
    {
     "name": "stdout",
     "output_type": "stream",
     "text": [
      "p-значение: 0.41201245581763546\n",
      "Гипотеза верна\n"
     ]
    }
   ],
   "source": [
    "result = st.ttest_ind(df_mosсow, df_regions)\n",
    "print('p-значение:', result.pvalue)\n",
    "\n",
    "if result.pvalue < alpha:\n",
    "    print('Отвергаем гипотезу')\n",
    "else: \n",
    "    print('Гипотеза верна')"
   ]
  },
  {
   "cell_type": "markdown",
   "metadata": {},
   "source": [
    "*Проверка показала: гипотеза верна - средняя выручка пользователей из Москвы равна выручке пользователей из других регионов*"
   ]
  },
  {
   "cell_type": "markdown",
   "metadata": {},
   "source": [
    "## Общий вывод"
   ]
  },
  {
   "cell_type": "markdown",
   "metadata": {},
   "source": [
    "1.\tОткрыли и подготовили данные. Произвели округления, преобразования типов данных, где это необходимо. Сгруппировали данные по месяцам и пользователям. Провели объединение таблиц. \n",
    "2.\tПровели расчеты: \n",
    " -\tПосчитали количество сделанных звонков и израсходованных минут разговора каждого пользователя по месяцам. \n",
    " -\tПосчитали количество отправленных сообщений пользователями по месяцам. \n",
    " -\tПосчитали объем интернет трафика для каждого пользователя по месяцам\n",
    " -\tПосчитали помесячную выручку с каждого пользователя\n",
    "3.\tПровели анализ полученных данных: \n",
    " -\tу пользователей тарифа \"Ультра\" разговоры более длительные. Пользователи тарифа \"Смарт\" чаще превышают 500 мин, ограниченные тарифом. Количество более длинных звонков у пользователей тарифа Ультра больше, но они не выходят за тарифный план. \n",
    " -\tпользователи тарифа \"Смарт\" выходят за количество СМС, ограниченных в тарифе (50 сообщений в месяц). Пользователи \"Ультры\" не превысили ограничения тарифа по количеству СМС. \n",
    " - \tПользователи \"Смарта\" часто превышают 15 Гб, установленных тарифом. Пользователи Ультры используют больше трафика, однако количество пользователей Смарта больше.\n",
    "4.\tВ результате проверки гипотез установили, что  \n",
    " - \tсредняя выручка пользователей тарифов «Ультра» и «Смарт» различаются. \n",
    " - \tсредняя выручка пользователей из Москвы равна выручке пользователей из других регионов. \n"
   ]
  }
 ],
 "metadata": {
  "ExecuteTimeLog": [
   {
    "duration": 80,
    "start_time": "2022-02-05T07:57:54.407Z"
   },
   {
    "duration": 1161,
    "start_time": "2022-02-05T07:58:47.399Z"
   },
   {
    "duration": 515,
    "start_time": "2022-02-05T11:15:33.984Z"
   },
   {
    "duration": 243,
    "start_time": "2022-02-05T11:15:47.004Z"
   },
   {
    "duration": 456,
    "start_time": "2022-02-05T11:17:59.485Z"
   },
   {
    "duration": 3,
    "start_time": "2022-02-05T11:21:47.827Z"
   },
   {
    "duration": 557,
    "start_time": "2022-02-05T11:25:33.304Z"
   },
   {
    "duration": 500,
    "start_time": "2022-02-05T11:25:51.473Z"
   },
   {
    "duration": 488,
    "start_time": "2022-02-05T11:26:13.416Z"
   },
   {
    "duration": 500,
    "start_time": "2022-02-05T11:26:30.273Z"
   },
   {
    "duration": 531,
    "start_time": "2022-02-05T11:26:36.630Z"
   },
   {
    "duration": 538,
    "start_time": "2022-02-05T11:26:50.360Z"
   },
   {
    "duration": 530,
    "start_time": "2022-02-05T11:26:59.837Z"
   },
   {
    "duration": 520,
    "start_time": "2022-02-05T11:27:12.789Z"
   },
   {
    "duration": 678,
    "start_time": "2022-02-05T11:27:21.830Z"
   },
   {
    "duration": 26,
    "start_time": "2022-02-05T11:28:38.932Z"
   },
   {
    "duration": 27,
    "start_time": "2022-02-05T11:28:52.318Z"
   },
   {
    "duration": 21,
    "start_time": "2022-02-05T11:31:40.860Z"
   },
   {
    "duration": 27,
    "start_time": "2022-02-05T11:31:55.770Z"
   },
   {
    "duration": 82,
    "start_time": "2022-02-05T11:32:38.631Z"
   },
   {
    "duration": 23,
    "start_time": "2022-02-05T11:33:00.005Z"
   },
   {
    "duration": 21,
    "start_time": "2022-02-05T11:33:05.629Z"
   },
   {
    "duration": 19,
    "start_time": "2022-02-05T11:34:19.752Z"
   },
   {
    "duration": 10,
    "start_time": "2022-02-05T11:34:31.915Z"
   },
   {
    "duration": 12,
    "start_time": "2022-02-05T11:35:36.506Z"
   },
   {
    "duration": 10,
    "start_time": "2022-02-05T11:36:12.773Z"
   },
   {
    "duration": 301,
    "start_time": "2022-02-05T11:57:32.245Z"
   },
   {
    "duration": 495,
    "start_time": "2022-02-05T11:57:35.986Z"
   },
   {
    "duration": 26,
    "start_time": "2022-02-05T11:57:37.873Z"
   },
   {
    "duration": 25,
    "start_time": "2022-02-05T11:58:12.282Z"
   },
   {
    "duration": 19,
    "start_time": "2022-02-05T11:58:20.243Z"
   },
   {
    "duration": 9,
    "start_time": "2022-02-05T11:58:27.876Z"
   },
   {
    "duration": 11,
    "start_time": "2022-02-05T11:58:37.073Z"
   },
   {
    "duration": 16,
    "start_time": "2022-02-05T11:59:06.426Z"
   },
   {
    "duration": 5,
    "start_time": "2022-02-05T12:00:22.149Z"
   },
   {
    "duration": 8,
    "start_time": "2022-02-05T12:00:29.420Z"
   },
   {
    "duration": 39,
    "start_time": "2022-02-05T12:00:37.062Z"
   },
   {
    "duration": 20,
    "start_time": "2022-02-05T12:01:24.402Z"
   },
   {
    "duration": 255,
    "start_time": "2022-02-05T12:02:43.763Z"
   },
   {
    "duration": 1306,
    "start_time": "2022-02-05T12:03:04.388Z"
   },
   {
    "duration": 281,
    "start_time": "2022-02-05T12:10:25.686Z"
   },
   {
    "duration": 417,
    "start_time": "2022-02-05T12:11:15.742Z"
   },
   {
    "duration": 255,
    "start_time": "2022-02-05T12:11:34.205Z"
   },
   {
    "duration": 260,
    "start_time": "2022-02-05T12:11:55.918Z"
   },
   {
    "duration": 1113,
    "start_time": "2022-02-05T12:13:12.649Z"
   },
   {
    "duration": 525,
    "start_time": "2022-02-05T12:13:13.765Z"
   },
   {
    "duration": 28,
    "start_time": "2022-02-05T12:13:14.293Z"
   },
   {
    "duration": 22,
    "start_time": "2022-02-05T12:13:14.324Z"
   },
   {
    "duration": 22,
    "start_time": "2022-02-05T12:13:14.349Z"
   },
   {
    "duration": 8,
    "start_time": "2022-02-05T12:13:14.374Z"
   },
   {
    "duration": 13,
    "start_time": "2022-02-05T12:13:14.384Z"
   },
   {
    "duration": 2365,
    "start_time": "2022-02-05T12:13:14.400Z"
   },
   {
    "duration": 2227,
    "start_time": "2022-02-05T12:13:58.429Z"
   },
   {
    "duration": 26,
    "start_time": "2022-02-05T12:14:40.100Z"
   },
   {
    "duration": 4783,
    "start_time": "2022-02-05T12:14:52.835Z"
   },
   {
    "duration": 18,
    "start_time": "2022-02-05T12:15:00.962Z"
   },
   {
    "duration": 40,
    "start_time": "2022-02-05T12:15:28.282Z"
   },
   {
    "duration": 19,
    "start_time": "2022-02-05T12:15:31.177Z"
   },
   {
    "duration": 19,
    "start_time": "2022-02-05T12:17:31.477Z"
   },
   {
    "duration": 21,
    "start_time": "2022-02-05T12:17:52.039Z"
   },
   {
    "duration": 30,
    "start_time": "2022-02-05T12:18:56.898Z"
   },
   {
    "duration": 20,
    "start_time": "2022-02-05T12:19:03.323Z"
   },
   {
    "duration": 14,
    "start_time": "2022-02-05T12:19:49.542Z"
   },
   {
    "duration": 26,
    "start_time": "2022-02-05T12:20:16.336Z"
   },
   {
    "duration": 16,
    "start_time": "2022-02-05T12:20:23.713Z"
   },
   {
    "duration": 23,
    "start_time": "2022-02-05T12:24:37.207Z"
   },
   {
    "duration": 8,
    "start_time": "2022-02-05T12:24:48.894Z"
   },
   {
    "duration": 8898,
    "start_time": "2022-02-05T12:30:22.575Z"
   },
   {
    "duration": -105275,
    "start_time": "2022-02-05T12:32:16.750Z"
   },
   {
    "duration": 9661,
    "start_time": "2022-02-05T12:30:56.960Z"
   },
   {
    "duration": -105308,
    "start_time": "2022-02-05T12:32:51.932Z"
   },
   {
    "duration": -105309,
    "start_time": "2022-02-05T12:32:51.934Z"
   },
   {
    "duration": 4,
    "start_time": "2022-02-05T12:31:12.920Z"
   },
   {
    "duration": 505,
    "start_time": "2022-02-05T12:31:12.927Z"
   },
   {
    "duration": 26,
    "start_time": "2022-02-05T12:31:13.436Z"
   },
   {
    "duration": 21,
    "start_time": "2022-02-05T12:31:13.464Z"
   },
   {
    "duration": 17,
    "start_time": "2022-02-05T12:31:13.488Z"
   },
   {
    "duration": 39,
    "start_time": "2022-02-05T12:31:13.508Z"
   },
   {
    "duration": 7,
    "start_time": "2022-02-05T12:31:13.550Z"
   },
   {
    "duration": 40,
    "start_time": "2022-02-05T12:31:13.560Z"
   },
   {
    "duration": 54,
    "start_time": "2022-02-05T12:31:13.603Z"
   },
   {
    "duration": 22,
    "start_time": "2022-02-05T12:31:13.659Z"
   },
   {
    "duration": 29,
    "start_time": "2022-02-05T12:31:13.684Z"
   },
   {
    "duration": 43,
    "start_time": "2022-02-05T12:31:13.715Z"
   },
   {
    "duration": 20,
    "start_time": "2022-02-05T12:31:13.761Z"
   },
   {
    "duration": 7,
    "start_time": "2022-02-05T12:31:13.783Z"
   },
   {
    "duration": 8381,
    "start_time": "2022-02-05T12:31:17.784Z"
   },
   {
    "duration": 11917,
    "start_time": "2022-02-05T12:31:45.388Z"
   },
   {
    "duration": 8,
    "start_time": "2022-02-05T12:31:57.698Z"
   },
   {
    "duration": 465,
    "start_time": "2022-02-05T12:32:11.017Z"
   },
   {
    "duration": 1217,
    "start_time": "2022-02-05T12:32:20.840Z"
   },
   {
    "duration": 569,
    "start_time": "2022-02-05T12:32:22.060Z"
   },
   {
    "duration": 31,
    "start_time": "2022-02-05T12:32:22.633Z"
   },
   {
    "duration": 36,
    "start_time": "2022-02-05T12:32:22.667Z"
   },
   {
    "duration": 48,
    "start_time": "2022-02-05T12:32:22.705Z"
   },
   {
    "duration": 8,
    "start_time": "2022-02-05T12:32:22.756Z"
   },
   {
    "duration": 18,
    "start_time": "2022-02-05T12:32:22.766Z"
   },
   {
    "duration": 41,
    "start_time": "2022-02-05T12:32:22.787Z"
   },
   {
    "duration": 34,
    "start_time": "2022-02-05T12:32:22.847Z"
   },
   {
    "duration": 36,
    "start_time": "2022-02-05T12:32:22.884Z"
   },
   {
    "duration": 27,
    "start_time": "2022-02-05T12:32:22.949Z"
   },
   {
    "duration": 22,
    "start_time": "2022-02-05T12:32:22.979Z"
   },
   {
    "duration": 44,
    "start_time": "2022-02-05T12:32:23.004Z"
   },
   {
    "duration": 7,
    "start_time": "2022-02-05T12:32:23.051Z"
   },
   {
    "duration": 24,
    "start_time": "2022-02-05T12:32:56.610Z"
   },
   {
    "duration": 22,
    "start_time": "2022-02-05T12:33:13.052Z"
   },
   {
    "duration": 5,
    "start_time": "2022-02-05T12:34:36.822Z"
   },
   {
    "duration": 536,
    "start_time": "2022-02-05T12:34:36.831Z"
   },
   {
    "duration": 27,
    "start_time": "2022-02-05T12:34:37.370Z"
   },
   {
    "duration": 22,
    "start_time": "2022-02-05T12:34:37.400Z"
   },
   {
    "duration": 27,
    "start_time": "2022-02-05T12:34:37.425Z"
   },
   {
    "duration": 8,
    "start_time": "2022-02-05T12:34:37.454Z"
   },
   {
    "duration": 13,
    "start_time": "2022-02-05T12:34:37.464Z"
   },
   {
    "duration": 67,
    "start_time": "2022-02-05T12:34:37.481Z"
   },
   {
    "duration": 33,
    "start_time": "2022-02-05T12:34:37.551Z"
   },
   {
    "duration": 30,
    "start_time": "2022-02-05T12:34:37.586Z"
   },
   {
    "duration": 49,
    "start_time": "2022-02-05T12:34:37.619Z"
   },
   {
    "duration": 23,
    "start_time": "2022-02-05T12:34:37.670Z"
   },
   {
    "duration": 20,
    "start_time": "2022-02-05T12:34:37.696Z"
   },
   {
    "duration": 56,
    "start_time": "2022-02-05T12:34:37.719Z"
   },
   {
    "duration": 9,
    "start_time": "2022-02-05T12:34:37.777Z"
   },
   {
    "duration": 722,
    "start_time": "2022-02-05T12:36:07.318Z"
   },
   {
    "duration": 243,
    "start_time": "2022-02-05T12:36:24.665Z"
   },
   {
    "duration": 4,
    "start_time": "2022-02-05T12:36:31.269Z"
   },
   {
    "duration": 519,
    "start_time": "2022-02-05T12:36:31.276Z"
   },
   {
    "duration": 25,
    "start_time": "2022-02-05T12:36:31.798Z"
   },
   {
    "duration": 21,
    "start_time": "2022-02-05T12:36:31.826Z"
   },
   {
    "duration": 20,
    "start_time": "2022-02-05T12:36:31.850Z"
   },
   {
    "duration": 7,
    "start_time": "2022-02-05T12:36:31.872Z"
   },
   {
    "duration": 11,
    "start_time": "2022-02-05T12:36:31.882Z"
   },
   {
    "duration": 62,
    "start_time": "2022-02-05T12:36:31.896Z"
   },
   {
    "duration": 29,
    "start_time": "2022-02-05T12:36:31.962Z"
   },
   {
    "duration": 26,
    "start_time": "2022-02-05T12:36:31.994Z"
   },
   {
    "duration": 53,
    "start_time": "2022-02-05T12:36:32.022Z"
   },
   {
    "duration": 37,
    "start_time": "2022-02-05T12:36:32.078Z"
   },
   {
    "duration": 49,
    "start_time": "2022-02-05T12:36:32.118Z"
   },
   {
    "duration": 19,
    "start_time": "2022-02-05T12:36:32.170Z"
   },
   {
    "duration": 48,
    "start_time": "2022-02-05T12:36:32.192Z"
   },
   {
    "duration": 247,
    "start_time": "2022-02-05T12:36:57.173Z"
   },
   {
    "duration": 11,
    "start_time": "2022-02-05T12:37:14.743Z"
   },
   {
    "duration": 22,
    "start_time": "2022-02-05T12:37:17.736Z"
   },
   {
    "duration": 9,
    "start_time": "2022-02-05T12:37:42.703Z"
   },
   {
    "duration": 29,
    "start_time": "2022-02-05T12:44:45.178Z"
   },
   {
    "duration": 363,
    "start_time": "2022-02-05T12:46:00.126Z"
   },
   {
    "duration": 186,
    "start_time": "2022-02-05T12:46:09.612Z"
   },
   {
    "duration": 15,
    "start_time": "2022-02-05T12:46:14.578Z"
   },
   {
    "duration": 4,
    "start_time": "2022-02-05T12:47:35.404Z"
   },
   {
    "duration": 513,
    "start_time": "2022-02-05T12:47:35.411Z"
   },
   {
    "duration": 26,
    "start_time": "2022-02-05T12:47:35.927Z"
   },
   {
    "duration": 21,
    "start_time": "2022-02-05T12:47:35.957Z"
   },
   {
    "duration": 19,
    "start_time": "2022-02-05T12:47:35.981Z"
   },
   {
    "duration": 10,
    "start_time": "2022-02-05T12:47:36.003Z"
   },
   {
    "duration": 37,
    "start_time": "2022-02-05T12:47:36.016Z"
   },
   {
    "duration": 32,
    "start_time": "2022-02-05T12:47:36.057Z"
   },
   {
    "duration": 55,
    "start_time": "2022-02-05T12:47:36.093Z"
   },
   {
    "duration": 26,
    "start_time": "2022-02-05T12:47:36.151Z"
   },
   {
    "duration": 24,
    "start_time": "2022-02-05T12:47:36.180Z"
   },
   {
    "duration": 49,
    "start_time": "2022-02-05T12:47:36.206Z"
   },
   {
    "duration": 20,
    "start_time": "2022-02-05T12:47:36.258Z"
   },
   {
    "duration": 21,
    "start_time": "2022-02-05T12:47:36.280Z"
   },
   {
    "duration": 223,
    "start_time": "2022-02-05T12:47:36.303Z"
   },
   {
    "duration": 21,
    "start_time": "2022-02-05T12:47:36.528Z"
   },
   {
    "duration": 11,
    "start_time": "2022-02-05T12:49:14.846Z"
   },
   {
    "duration": 14,
    "start_time": "2022-02-05T12:49:50.365Z"
   },
   {
    "duration": 27,
    "start_time": "2022-02-05T12:50:09.777Z"
   },
   {
    "duration": 13,
    "start_time": "2022-02-05T12:50:41.749Z"
   },
   {
    "duration": 420,
    "start_time": "2022-02-05T12:50:54.648Z"
   },
   {
    "duration": 15,
    "start_time": "2022-02-05T12:50:56.605Z"
   },
   {
    "duration": 215,
    "start_time": "2022-02-05T12:54:39.452Z"
   },
   {
    "duration": 13,
    "start_time": "2022-02-05T12:54:45.461Z"
   },
   {
    "duration": 191,
    "start_time": "2022-02-05T12:57:00.414Z"
   },
   {
    "duration": 11,
    "start_time": "2022-02-05T12:57:05.982Z"
   },
   {
    "duration": 371,
    "start_time": "2022-02-05T12:57:51.385Z"
   },
   {
    "duration": 340,
    "start_time": "2022-02-05T12:57:55.164Z"
   },
   {
    "duration": 216,
    "start_time": "2022-02-05T12:58:18.646Z"
   },
   {
    "duration": 19,
    "start_time": "2022-02-05T12:58:44.813Z"
   },
   {
    "duration": 342,
    "start_time": "2022-02-05T13:00:25.367Z"
   },
   {
    "duration": 385,
    "start_time": "2022-02-05T13:00:39.148Z"
   },
   {
    "duration": 365,
    "start_time": "2022-02-05T13:00:40.983Z"
   },
   {
    "duration": 13,
    "start_time": "2022-02-05T13:00:47.297Z"
   },
   {
    "duration": 4,
    "start_time": "2022-02-05T13:01:13.935Z"
   },
   {
    "duration": 493,
    "start_time": "2022-02-05T13:01:13.943Z"
   },
   {
    "duration": 28,
    "start_time": "2022-02-05T13:01:14.439Z"
   },
   {
    "duration": 23,
    "start_time": "2022-02-05T13:01:14.471Z"
   },
   {
    "duration": 19,
    "start_time": "2022-02-05T13:01:14.497Z"
   },
   {
    "duration": 8,
    "start_time": "2022-02-05T13:01:14.549Z"
   },
   {
    "duration": 12,
    "start_time": "2022-02-05T13:01:14.560Z"
   },
   {
    "duration": 32,
    "start_time": "2022-02-05T13:01:14.576Z"
   },
   {
    "duration": 58,
    "start_time": "2022-02-05T13:01:14.611Z"
   },
   {
    "duration": 25,
    "start_time": "2022-02-05T13:01:14.671Z"
   },
   {
    "duration": 23,
    "start_time": "2022-02-05T13:01:14.699Z"
   },
   {
    "duration": 21,
    "start_time": "2022-02-05T13:01:14.749Z"
   },
   {
    "duration": 20,
    "start_time": "2022-02-05T13:01:14.773Z"
   },
   {
    "duration": 405,
    "start_time": "2022-02-05T13:01:14.796Z"
   },
   {
    "duration": 338,
    "start_time": "2022-02-05T13:01:15.203Z"
   },
   {
    "duration": 13,
    "start_time": "2022-02-05T13:01:15.544Z"
   },
   {
    "duration": 231,
    "start_time": "2022-02-05T13:01:15.559Z"
   },
   {
    "duration": 191,
    "start_time": "2022-02-05T13:01:15.793Z"
   },
   {
    "duration": 91,
    "start_time": "2022-02-05T13:01:15.986Z"
   },
   {
    "duration": 356,
    "start_time": "2022-02-05T13:01:31.469Z"
   },
   {
    "duration": 12,
    "start_time": "2022-02-05T13:01:33.716Z"
   },
   {
    "duration": 17,
    "start_time": "2022-02-05T13:02:06.313Z"
   },
   {
    "duration": 9,
    "start_time": "2022-02-05T13:02:08.040Z"
   },
   {
    "duration": 17,
    "start_time": "2022-02-05T13:02:42.680Z"
   },
   {
    "duration": 10,
    "start_time": "2022-02-05T13:02:44.650Z"
   },
   {
    "duration": 21,
    "start_time": "2022-02-05T13:03:23.665Z"
   },
   {
    "duration": 11,
    "start_time": "2022-02-05T13:03:25.601Z"
   },
   {
    "duration": 385,
    "start_time": "2022-02-05T13:04:24.655Z"
   },
   {
    "duration": 14,
    "start_time": "2022-02-05T13:04:26.846Z"
   },
   {
    "duration": 22,
    "start_time": "2022-02-05T13:05:13.510Z"
   },
   {
    "duration": 317,
    "start_time": "2022-02-05T13:05:41.403Z"
   },
   {
    "duration": 12,
    "start_time": "2022-02-05T13:05:47.909Z"
   },
   {
    "duration": 14,
    "start_time": "2022-02-05T13:07:06.452Z"
   },
   {
    "duration": 21,
    "start_time": "2022-02-05T13:07:50.241Z"
   },
   {
    "duration": 20,
    "start_time": "2022-02-05T13:08:13.222Z"
   },
   {
    "duration": 12,
    "start_time": "2022-02-05T13:08:15.005Z"
   },
   {
    "duration": 25,
    "start_time": "2022-02-05T13:08:43.153Z"
   },
   {
    "duration": 13,
    "start_time": "2022-02-05T13:08:45.196Z"
   },
   {
    "duration": 21,
    "start_time": "2022-02-05T13:08:53.396Z"
   },
   {
    "duration": 12,
    "start_time": "2022-02-05T13:08:55.207Z"
   },
   {
    "duration": 3,
    "start_time": "2022-02-05T13:08:58.811Z"
   },
   {
    "duration": 474,
    "start_time": "2022-02-05T13:08:58.818Z"
   },
   {
    "duration": 26,
    "start_time": "2022-02-05T13:08:59.295Z"
   },
   {
    "duration": 21,
    "start_time": "2022-02-05T13:08:59.324Z"
   },
   {
    "duration": 18,
    "start_time": "2022-02-05T13:08:59.348Z"
   },
   {
    "duration": 11,
    "start_time": "2022-02-05T13:08:59.368Z"
   },
   {
    "duration": 12,
    "start_time": "2022-02-05T13:08:59.381Z"
   },
   {
    "duration": 60,
    "start_time": "2022-02-05T13:08:59.396Z"
   },
   {
    "duration": 30,
    "start_time": "2022-02-05T13:08:59.461Z"
   },
   {
    "duration": 58,
    "start_time": "2022-02-05T13:08:59.494Z"
   },
   {
    "duration": 25,
    "start_time": "2022-02-05T13:08:59.555Z"
   },
   {
    "duration": 22,
    "start_time": "2022-02-05T13:08:59.582Z"
   },
   {
    "duration": 44,
    "start_time": "2022-02-05T13:08:59.606Z"
   },
   {
    "duration": 361,
    "start_time": "2022-02-05T13:08:59.652Z"
   },
   {
    "duration": 19,
    "start_time": "2022-02-05T13:09:00.016Z"
   },
   {
    "duration": 20,
    "start_time": "2022-02-05T13:09:00.049Z"
   },
   {
    "duration": 15,
    "start_time": "2022-02-05T13:09:00.071Z"
   },
   {
    "duration": 247,
    "start_time": "2022-02-05T13:09:00.089Z"
   },
   {
    "duration": 202,
    "start_time": "2022-02-05T13:09:00.339Z"
   },
   {
    "duration": 80,
    "start_time": "2022-02-05T13:09:00.544Z"
   },
   {
    "duration": 14,
    "start_time": "2022-02-05T13:09:35.342Z"
   },
   {
    "duration": 25,
    "start_time": "2022-02-05T13:10:21.859Z"
   },
   {
    "duration": 13,
    "start_time": "2022-02-05T13:10:23.743Z"
   },
   {
    "duration": 19,
    "start_time": "2022-02-05T13:11:12.258Z"
   },
   {
    "duration": 11,
    "start_time": "2022-02-05T13:11:14.008Z"
   },
   {
    "duration": 31,
    "start_time": "2022-02-05T13:12:28.171Z"
   },
   {
    "duration": 23,
    "start_time": "2022-02-05T13:12:29.857Z"
   },
   {
    "duration": 35,
    "start_time": "2022-02-05T13:13:29.411Z"
   },
   {
    "duration": 25,
    "start_time": "2022-02-05T13:13:31.820Z"
   },
   {
    "duration": 30,
    "start_time": "2022-02-05T13:14:00.981Z"
   },
   {
    "duration": 24,
    "start_time": "2022-02-05T13:14:02.932Z"
   },
   {
    "duration": 30,
    "start_time": "2022-02-05T13:14:34.078Z"
   },
   {
    "duration": 25,
    "start_time": "2022-02-05T13:14:40.016Z"
   },
   {
    "duration": 243,
    "start_time": "2022-02-05T13:15:57.678Z"
   },
   {
    "duration": 39,
    "start_time": "2022-02-05T13:16:00.878Z"
   },
   {
    "duration": 38,
    "start_time": "2022-02-05T13:16:03.451Z"
   },
   {
    "duration": 44,
    "start_time": "2022-02-05T13:16:35.082Z"
   },
   {
    "duration": 23,
    "start_time": "2022-02-05T13:16:42.873Z"
   },
   {
    "duration": 29,
    "start_time": "2022-02-05T13:42:10.802Z"
   },
   {
    "duration": 25,
    "start_time": "2022-02-05T13:42:13.113Z"
   },
   {
    "duration": 33,
    "start_time": "2022-02-05T13:44:33.805Z"
   },
   {
    "duration": 24,
    "start_time": "2022-02-05T13:44:35.778Z"
   },
   {
    "duration": 34,
    "start_time": "2022-02-05T13:45:08.126Z"
   },
   {
    "duration": 23,
    "start_time": "2022-02-05T13:45:09.936Z"
   },
   {
    "duration": 21,
    "start_time": "2022-02-05T13:47:38.513Z"
   },
   {
    "duration": 1266,
    "start_time": "2022-02-05T13:49:02.915Z"
   },
   {
    "duration": 537,
    "start_time": "2022-02-05T13:49:04.184Z"
   },
   {
    "duration": 27,
    "start_time": "2022-02-05T13:49:04.724Z"
   },
   {
    "duration": 22,
    "start_time": "2022-02-05T13:49:04.754Z"
   },
   {
    "duration": 18,
    "start_time": "2022-02-05T13:49:04.778Z"
   },
   {
    "duration": 9,
    "start_time": "2022-02-05T13:49:04.799Z"
   },
   {
    "duration": 48,
    "start_time": "2022-02-05T13:49:04.811Z"
   },
   {
    "duration": 42,
    "start_time": "2022-02-05T13:49:04.862Z"
   },
   {
    "duration": 60,
    "start_time": "2022-02-05T13:49:04.909Z"
   },
   {
    "duration": 28,
    "start_time": "2022-02-05T13:49:04.972Z"
   },
   {
    "duration": 52,
    "start_time": "2022-02-05T13:49:05.002Z"
   },
   {
    "duration": 24,
    "start_time": "2022-02-05T13:49:05.056Z"
   },
   {
    "duration": 24,
    "start_time": "2022-02-05T13:49:05.082Z"
   },
   {
    "duration": 77,
    "start_time": "2022-02-05T13:49:05.108Z"
   },
   {
    "duration": 34,
    "start_time": "2022-02-05T13:49:05.188Z"
   },
   {
    "duration": 53,
    "start_time": "2022-02-05T13:49:05.224Z"
   },
   {
    "duration": 602,
    "start_time": "2022-02-05T13:51:47.967Z"
   },
   {
    "duration": 331,
    "start_time": "2022-02-05T13:52:02.134Z"
   },
   {
    "duration": 1472,
    "start_time": "2022-02-05T13:52:07.800Z"
   },
   {
    "duration": 688,
    "start_time": "2022-02-05T13:52:09.275Z"
   },
   {
    "duration": 28,
    "start_time": "2022-02-05T13:52:09.967Z"
   },
   {
    "duration": 28,
    "start_time": "2022-02-05T13:52:09.999Z"
   },
   {
    "duration": 31,
    "start_time": "2022-02-05T13:52:10.030Z"
   },
   {
    "duration": 21,
    "start_time": "2022-02-05T13:52:10.064Z"
   },
   {
    "duration": 23,
    "start_time": "2022-02-05T13:52:10.088Z"
   },
   {
    "duration": 67,
    "start_time": "2022-02-05T13:52:10.117Z"
   },
   {
    "duration": 38,
    "start_time": "2022-02-05T13:52:10.187Z"
   },
   {
    "duration": 60,
    "start_time": "2022-02-05T13:52:10.228Z"
   },
   {
    "duration": 27,
    "start_time": "2022-02-05T13:52:10.291Z"
   },
   {
    "duration": 42,
    "start_time": "2022-02-05T13:52:10.321Z"
   },
   {
    "duration": 21,
    "start_time": "2022-02-05T13:52:10.366Z"
   },
   {
    "duration": 73,
    "start_time": "2022-02-05T13:52:10.390Z"
   },
   {
    "duration": 34,
    "start_time": "2022-02-05T13:52:10.466Z"
   },
   {
    "duration": 65,
    "start_time": "2022-02-05T13:52:10.503Z"
   },
   {
    "duration": 293,
    "start_time": "2022-02-05T13:52:21.580Z"
   },
   {
    "duration": 250,
    "start_time": "2022-02-05T13:55:35.080Z"
   },
   {
    "duration": 1114,
    "start_time": "2022-02-05T13:55:40.335Z"
   },
   {
    "duration": 523,
    "start_time": "2022-02-05T13:55:41.452Z"
   },
   {
    "duration": 26,
    "start_time": "2022-02-05T13:55:41.978Z"
   },
   {
    "duration": 21,
    "start_time": "2022-02-05T13:55:42.007Z"
   },
   {
    "duration": 26,
    "start_time": "2022-02-05T13:55:42.031Z"
   },
   {
    "duration": 9,
    "start_time": "2022-02-05T13:55:42.060Z"
   },
   {
    "duration": 13,
    "start_time": "2022-02-05T13:55:42.072Z"
   },
   {
    "duration": 78,
    "start_time": "2022-02-05T13:55:42.088Z"
   },
   {
    "duration": 34,
    "start_time": "2022-02-05T13:55:42.172Z"
   },
   {
    "duration": 54,
    "start_time": "2022-02-05T13:55:42.210Z"
   },
   {
    "duration": 25,
    "start_time": "2022-02-05T13:55:42.266Z"
   },
   {
    "duration": 26,
    "start_time": "2022-02-05T13:55:42.293Z"
   },
   {
    "duration": 41,
    "start_time": "2022-02-05T13:55:42.322Z"
   },
   {
    "duration": 46,
    "start_time": "2022-02-05T13:55:42.365Z"
   },
   {
    "duration": 53,
    "start_time": "2022-02-05T13:55:42.413Z"
   },
   {
    "duration": 41,
    "start_time": "2022-02-05T13:55:42.469Z"
   },
   {
    "duration": 2128,
    "start_time": "2022-02-05T13:55:42.513Z"
   },
   {
    "duration": 184,
    "start_time": "2022-02-05T13:55:44.643Z"
   },
   {
    "duration": 245,
    "start_time": "2022-02-05T13:55:44.830Z"
   },
   {
    "duration": 209,
    "start_time": "2022-02-05T13:55:45.077Z"
   },
   {
    "duration": 80,
    "start_time": "2022-02-05T13:55:45.289Z"
   },
   {
    "duration": 2284,
    "start_time": "2022-02-05T13:56:15.307Z"
   },
   {
    "duration": 183,
    "start_time": "2022-02-05T13:56:17.593Z"
   },
   {
    "duration": 513,
    "start_time": "2022-02-05T13:56:31.374Z"
   },
   {
    "duration": 29,
    "start_time": "2022-02-05T13:56:33.114Z"
   },
   {
    "duration": 24,
    "start_time": "2022-02-05T13:56:46.764Z"
   },
   {
    "duration": 42,
    "start_time": "2022-02-05T13:56:52.303Z"
   },
   {
    "duration": 36,
    "start_time": "2022-02-05T13:56:54.150Z"
   },
   {
    "duration": 204,
    "start_time": "2022-02-05T13:57:08.188Z"
   },
   {
    "duration": 33,
    "start_time": "2022-02-05T13:58:00.481Z"
   },
   {
    "duration": 30,
    "start_time": "2022-02-05T13:58:14.601Z"
   },
   {
    "duration": 317,
    "start_time": "2022-02-05T14:04:58.390Z"
   },
   {
    "duration": 157,
    "start_time": "2022-02-05T14:05:26.719Z"
   },
   {
    "duration": 12,
    "start_time": "2022-02-05T14:05:34.947Z"
   },
   {
    "duration": 18,
    "start_time": "2022-02-05T14:05:45.744Z"
   },
   {
    "duration": 26,
    "start_time": "2022-02-05T14:06:09.596Z"
   },
   {
    "duration": 11,
    "start_time": "2022-02-05T14:06:15.211Z"
   },
   {
    "duration": 35,
    "start_time": "2022-02-05T14:06:33.361Z"
   },
   {
    "duration": 25,
    "start_time": "2022-02-05T14:06:35.084Z"
   },
   {
    "duration": 23,
    "start_time": "2022-02-05T14:06:58.734Z"
   },
   {
    "duration": 202,
    "start_time": "2022-02-05T14:07:47.971Z"
   },
   {
    "duration": 31,
    "start_time": "2022-02-05T14:08:19.389Z"
   },
   {
    "duration": 25,
    "start_time": "2022-02-05T14:08:24.696Z"
   },
   {
    "duration": 32,
    "start_time": "2022-02-05T14:10:26.498Z"
   },
   {
    "duration": 10,
    "start_time": "2022-02-05T14:11:27.488Z"
   },
   {
    "duration": 37,
    "start_time": "2022-02-05T14:11:35.707Z"
   },
   {
    "duration": 5,
    "start_time": "2022-02-05T14:17:15.255Z"
   },
   {
    "duration": 30,
    "start_time": "2022-02-05T14:17:17.406Z"
   },
   {
    "duration": 26,
    "start_time": "2022-02-05T14:17:19.617Z"
   },
   {
    "duration": 25,
    "start_time": "2022-02-05T14:17:54.984Z"
   },
   {
    "duration": 4,
    "start_time": "2022-02-05T14:19:02.983Z"
   },
   {
    "duration": 5,
    "start_time": "2022-02-05T14:20:14.575Z"
   },
   {
    "duration": 4,
    "start_time": "2022-02-05T14:20:49.496Z"
   },
   {
    "duration": 471,
    "start_time": "2022-02-05T14:20:49.503Z"
   },
   {
    "duration": 24,
    "start_time": "2022-02-05T14:20:49.977Z"
   },
   {
    "duration": 27,
    "start_time": "2022-02-05T14:20:50.004Z"
   },
   {
    "duration": 18,
    "start_time": "2022-02-05T14:20:50.033Z"
   },
   {
    "duration": 22,
    "start_time": "2022-02-05T14:20:50.053Z"
   },
   {
    "duration": 26,
    "start_time": "2022-02-05T14:20:50.077Z"
   },
   {
    "duration": 44,
    "start_time": "2022-02-05T14:20:50.107Z"
   },
   {
    "duration": 30,
    "start_time": "2022-02-05T14:20:50.154Z"
   },
   {
    "duration": 28,
    "start_time": "2022-02-05T14:20:50.187Z"
   },
   {
    "duration": 48,
    "start_time": "2022-02-05T14:20:50.218Z"
   },
   {
    "duration": 24,
    "start_time": "2022-02-05T14:20:50.268Z"
   },
   {
    "duration": 24,
    "start_time": "2022-02-05T14:20:50.295Z"
   },
   {
    "duration": 29,
    "start_time": "2022-02-05T14:20:50.322Z"
   },
   {
    "duration": 8,
    "start_time": "2022-02-05T14:20:50.354Z"
   },
   {
    "duration": 35,
    "start_time": "2022-02-05T14:20:50.364Z"
   },
   {
    "duration": 58,
    "start_time": "2022-02-05T14:20:50.401Z"
   },
   {
    "duration": 36,
    "start_time": "2022-02-05T14:20:50.462Z"
   },
   {
    "duration": 25,
    "start_time": "2022-02-05T14:20:50.500Z"
   },
   {
    "duration": 55,
    "start_time": "2022-02-05T14:20:50.527Z"
   },
   {
    "duration": 24,
    "start_time": "2022-02-05T14:20:50.585Z"
   },
   {
    "duration": 4,
    "start_time": "2022-02-05T14:20:50.612Z"
   },
   {
    "duration": 31,
    "start_time": "2022-02-05T14:20:50.651Z"
   },
   {
    "duration": 24,
    "start_time": "2022-02-05T14:20:50.684Z"
   },
   {
    "duration": 43,
    "start_time": "2022-02-05T14:20:50.710Z"
   },
   {
    "duration": 25,
    "start_time": "2022-02-05T14:21:08.857Z"
   },
   {
    "duration": 250,
    "start_time": "2022-02-05T14:23:27.546Z"
   },
   {
    "duration": 4,
    "start_time": "2022-02-05T14:24:06.028Z"
   },
   {
    "duration": 4,
    "start_time": "2022-02-05T14:24:10.478Z"
   },
   {
    "duration": 507,
    "start_time": "2022-02-05T14:24:10.484Z"
   },
   {
    "duration": 28,
    "start_time": "2022-02-05T14:24:10.995Z"
   },
   {
    "duration": 23,
    "start_time": "2022-02-05T14:24:11.026Z"
   },
   {
    "duration": 18,
    "start_time": "2022-02-05T14:24:11.052Z"
   },
   {
    "duration": 9,
    "start_time": "2022-02-05T14:24:11.073Z"
   },
   {
    "duration": 16,
    "start_time": "2022-02-05T14:24:11.084Z"
   },
   {
    "duration": 66,
    "start_time": "2022-02-05T14:24:11.104Z"
   },
   {
    "duration": 30,
    "start_time": "2022-02-05T14:24:11.173Z"
   },
   {
    "duration": 45,
    "start_time": "2022-02-05T14:24:11.205Z"
   },
   {
    "duration": 23,
    "start_time": "2022-02-05T14:24:11.253Z"
   },
   {
    "duration": 22,
    "start_time": "2022-02-05T14:24:11.278Z"
   },
   {
    "duration": 45,
    "start_time": "2022-02-05T14:24:11.303Z"
   },
   {
    "duration": 236,
    "start_time": "2022-02-05T14:24:11.351Z"
   },
   {
    "duration": -105257,
    "start_time": "2022-02-05T14:25:56.848Z"
   },
   {
    "duration": -105260,
    "start_time": "2022-02-05T14:25:56.853Z"
   },
   {
    "duration": -105279,
    "start_time": "2022-02-05T14:25:56.874Z"
   },
   {
    "duration": -105281,
    "start_time": "2022-02-05T14:25:56.878Z"
   },
   {
    "duration": -105279,
    "start_time": "2022-02-05T14:25:56.879Z"
   },
   {
    "duration": -105279,
    "start_time": "2022-02-05T14:25:56.881Z"
   },
   {
    "duration": -105279,
    "start_time": "2022-02-05T14:25:56.883Z"
   },
   {
    "duration": -105278,
    "start_time": "2022-02-05T14:25:56.885Z"
   },
   {
    "duration": -105278,
    "start_time": "2022-02-05T14:25:56.887Z"
   },
   {
    "duration": -105278,
    "start_time": "2022-02-05T14:25:56.889Z"
   },
   {
    "duration": 271,
    "start_time": "2022-02-05T14:24:18.408Z"
   },
   {
    "duration": 176,
    "start_time": "2022-02-05T14:25:17.724Z"
   },
   {
    "duration": 1340,
    "start_time": "2022-02-05T14:25:27.255Z"
   },
   {
    "duration": 505,
    "start_time": "2022-02-05T14:25:28.598Z"
   },
   {
    "duration": 26,
    "start_time": "2022-02-05T14:25:29.106Z"
   },
   {
    "duration": 21,
    "start_time": "2022-02-05T14:25:29.134Z"
   },
   {
    "duration": 18,
    "start_time": "2022-02-05T14:25:29.157Z"
   },
   {
    "duration": 11,
    "start_time": "2022-02-05T14:25:29.178Z"
   },
   {
    "duration": 13,
    "start_time": "2022-02-05T14:25:29.191Z"
   },
   {
    "duration": 72,
    "start_time": "2022-02-05T14:25:29.206Z"
   },
   {
    "duration": 30,
    "start_time": "2022-02-05T14:25:29.282Z"
   },
   {
    "duration": 42,
    "start_time": "2022-02-05T14:25:29.316Z"
   },
   {
    "duration": 23,
    "start_time": "2022-02-05T14:25:29.361Z"
   },
   {
    "duration": 24,
    "start_time": "2022-02-05T14:25:29.386Z"
   },
   {
    "duration": 45,
    "start_time": "2022-02-05T14:25:29.412Z"
   },
   {
    "duration": 354,
    "start_time": "2022-02-05T14:25:29.459Z"
   },
   {
    "duration": -105283,
    "start_time": "2022-02-05T14:27:15.099Z"
   },
   {
    "duration": -105287,
    "start_time": "2022-02-05T14:27:15.105Z"
   },
   {
    "duration": -105290,
    "start_time": "2022-02-05T14:27:15.110Z"
   },
   {
    "duration": -105294,
    "start_time": "2022-02-05T14:27:15.116Z"
   },
   {
    "duration": -105294,
    "start_time": "2022-02-05T14:27:15.117Z"
   },
   {
    "duration": -105294,
    "start_time": "2022-02-05T14:27:15.119Z"
   },
   {
    "duration": -105294,
    "start_time": "2022-02-05T14:27:15.120Z"
   },
   {
    "duration": -105293,
    "start_time": "2022-02-05T14:27:15.121Z"
   },
   {
    "duration": -105293,
    "start_time": "2022-02-05T14:27:15.122Z"
   },
   {
    "duration": -105293,
    "start_time": "2022-02-05T14:27:15.124Z"
   },
   {
    "duration": 4,
    "start_time": "2022-02-05T14:25:41.855Z"
   },
   {
    "duration": 248,
    "start_time": "2022-02-05T14:25:47.912Z"
   },
   {
    "duration": 266,
    "start_time": "2022-02-05T14:27:14.289Z"
   },
   {
    "duration": 305,
    "start_time": "2022-02-05T14:28:00.260Z"
   },
   {
    "duration": 259,
    "start_time": "2022-02-05T14:29:56.918Z"
   },
   {
    "duration": 304,
    "start_time": "2022-02-05T14:30:05.944Z"
   },
   {
    "duration": 1112,
    "start_time": "2022-02-05T14:30:17.853Z"
   },
   {
    "duration": 675,
    "start_time": "2022-02-05T14:30:32.938Z"
   },
   {
    "duration": 719,
    "start_time": "2022-02-05T14:31:13.204Z"
   },
   {
    "duration": 245,
    "start_time": "2022-02-05T14:31:23.466Z"
   },
   {
    "duration": 5,
    "start_time": "2022-02-05T14:32:12.350Z"
   },
   {
    "duration": 4,
    "start_time": "2022-02-05T14:32:14.834Z"
   },
   {
    "duration": 518,
    "start_time": "2022-02-05T14:32:14.841Z"
   },
   {
    "duration": 26,
    "start_time": "2022-02-05T14:32:15.362Z"
   },
   {
    "duration": 24,
    "start_time": "2022-02-05T14:32:15.391Z"
   },
   {
    "duration": 34,
    "start_time": "2022-02-05T14:32:15.417Z"
   },
   {
    "duration": 9,
    "start_time": "2022-02-05T14:32:15.454Z"
   },
   {
    "duration": 12,
    "start_time": "2022-02-05T14:32:15.465Z"
   },
   {
    "duration": 34,
    "start_time": "2022-02-05T14:32:15.481Z"
   },
   {
    "duration": 57,
    "start_time": "2022-02-05T14:32:15.518Z"
   },
   {
    "duration": 26,
    "start_time": "2022-02-05T14:32:15.577Z"
   },
   {
    "duration": 50,
    "start_time": "2022-02-05T14:32:15.606Z"
   },
   {
    "duration": 22,
    "start_time": "2022-02-05T14:32:15.659Z"
   },
   {
    "duration": 19,
    "start_time": "2022-02-05T14:32:15.684Z"
   },
   {
    "duration": 361,
    "start_time": "2022-02-05T14:32:15.706Z"
   },
   {
    "duration": -105263,
    "start_time": "2022-02-05T14:34:01.333Z"
   },
   {
    "duration": -105269,
    "start_time": "2022-02-05T14:34:01.341Z"
   },
   {
    "duration": -105290,
    "start_time": "2022-02-05T14:34:01.363Z"
   },
   {
    "duration": -105291,
    "start_time": "2022-02-05T14:34:01.366Z"
   },
   {
    "duration": -105291,
    "start_time": "2022-02-05T14:34:01.367Z"
   },
   {
    "duration": -105290,
    "start_time": "2022-02-05T14:34:01.368Z"
   },
   {
    "duration": -105290,
    "start_time": "2022-02-05T14:34:01.370Z"
   },
   {
    "duration": -105290,
    "start_time": "2022-02-05T14:34:01.371Z"
   },
   {
    "duration": -105289,
    "start_time": "2022-02-05T14:34:01.372Z"
   },
   {
    "duration": -105289,
    "start_time": "2022-02-05T14:34:01.373Z"
   },
   {
    "duration": 237,
    "start_time": "2022-02-05T14:32:22.627Z"
   },
   {
    "duration": 280,
    "start_time": "2022-02-05T14:32:30.222Z"
   },
   {
    "duration": 4,
    "start_time": "2022-02-05T14:32:35.863Z"
   },
   {
    "duration": 538,
    "start_time": "2022-02-05T14:32:35.870Z"
   },
   {
    "duration": 28,
    "start_time": "2022-02-05T14:32:36.411Z"
   },
   {
    "duration": 24,
    "start_time": "2022-02-05T14:32:36.442Z"
   },
   {
    "duration": 19,
    "start_time": "2022-02-05T14:32:36.469Z"
   },
   {
    "duration": 8,
    "start_time": "2022-02-05T14:32:36.490Z"
   },
   {
    "duration": 14,
    "start_time": "2022-02-05T14:32:36.501Z"
   },
   {
    "duration": 34,
    "start_time": "2022-02-05T14:32:36.550Z"
   },
   {
    "duration": 31,
    "start_time": "2022-02-05T14:32:36.588Z"
   },
   {
    "duration": 42,
    "start_time": "2022-02-05T14:32:36.622Z"
   },
   {
    "duration": 26,
    "start_time": "2022-02-05T14:32:36.667Z"
   },
   {
    "duration": 22,
    "start_time": "2022-02-05T14:32:36.695Z"
   },
   {
    "duration": 48,
    "start_time": "2022-02-05T14:32:36.719Z"
   },
   {
    "duration": 268,
    "start_time": "2022-02-05T14:32:36.769Z"
   },
   {
    "duration": -105297,
    "start_time": "2022-02-05T14:34:22.337Z"
   },
   {
    "duration": -105297,
    "start_time": "2022-02-05T14:34:22.338Z"
   },
   {
    "duration": -105299,
    "start_time": "2022-02-05T14:34:22.342Z"
   },
   {
    "duration": -105299,
    "start_time": "2022-02-05T14:34:22.343Z"
   },
   {
    "duration": -105300,
    "start_time": "2022-02-05T14:34:22.345Z"
   },
   {
    "duration": -105299,
    "start_time": "2022-02-05T14:34:22.346Z"
   },
   {
    "duration": -105299,
    "start_time": "2022-02-05T14:34:22.347Z"
   },
   {
    "duration": -105299,
    "start_time": "2022-02-05T14:34:22.348Z"
   },
   {
    "duration": -105299,
    "start_time": "2022-02-05T14:34:22.350Z"
   },
   {
    "duration": -105299,
    "start_time": "2022-02-05T14:34:22.351Z"
   },
   {
    "duration": 271,
    "start_time": "2022-02-05T14:33:29.547Z"
   },
   {
    "duration": 25,
    "start_time": "2022-02-05T14:33:56.925Z"
   },
   {
    "duration": 6,
    "start_time": "2022-02-05T14:34:23.148Z"
   },
   {
    "duration": 275,
    "start_time": "2022-02-05T14:34:25.232Z"
   },
   {
    "duration": 28,
    "start_time": "2022-02-05T14:34:34.237Z"
   },
   {
    "duration": 238,
    "start_time": "2022-02-05T14:34:43.492Z"
   },
   {
    "duration": 1227,
    "start_time": "2022-02-05T14:35:28.982Z"
   },
   {
    "duration": 525,
    "start_time": "2022-02-05T14:35:30.212Z"
   },
   {
    "duration": 26,
    "start_time": "2022-02-05T14:35:30.741Z"
   },
   {
    "duration": 27,
    "start_time": "2022-02-05T14:35:30.770Z"
   },
   {
    "duration": 18,
    "start_time": "2022-02-05T14:35:30.799Z"
   },
   {
    "duration": 31,
    "start_time": "2022-02-05T14:35:30.819Z"
   },
   {
    "duration": 34,
    "start_time": "2022-02-05T14:35:30.853Z"
   },
   {
    "duration": 53,
    "start_time": "2022-02-05T14:35:30.890Z"
   },
   {
    "duration": 30,
    "start_time": "2022-02-05T14:35:30.947Z"
   },
   {
    "duration": 27,
    "start_time": "2022-02-05T14:35:30.980Z"
   },
   {
    "duration": 49,
    "start_time": "2022-02-05T14:35:31.009Z"
   },
   {
    "duration": 25,
    "start_time": "2022-02-05T14:35:31.061Z"
   },
   {
    "duration": 21,
    "start_time": "2022-02-05T14:35:31.088Z"
   },
   {
    "duration": 8,
    "start_time": "2022-02-05T14:35:31.112Z"
   },
   {
    "duration": 437,
    "start_time": "2022-02-05T14:35:31.122Z"
   },
   {
    "duration": -105283,
    "start_time": "2022-02-05T14:37:16.845Z"
   },
   {
    "duration": -105300,
    "start_time": "2022-02-05T14:37:16.863Z"
   },
   {
    "duration": -105299,
    "start_time": "2022-02-05T14:37:16.864Z"
   },
   {
    "duration": -105298,
    "start_time": "2022-02-05T14:37:16.865Z"
   },
   {
    "duration": -105298,
    "start_time": "2022-02-05T14:37:16.866Z"
   },
   {
    "duration": -105298,
    "start_time": "2022-02-05T14:37:16.868Z"
   },
   {
    "duration": -105297,
    "start_time": "2022-02-05T14:37:16.869Z"
   },
   {
    "duration": -105296,
    "start_time": "2022-02-05T14:37:16.870Z"
   },
   {
    "duration": -105296,
    "start_time": "2022-02-05T14:37:16.871Z"
   },
   {
    "duration": -105295,
    "start_time": "2022-02-05T14:37:16.872Z"
   },
   {
    "duration": 31,
    "start_time": "2022-02-05T14:35:48.744Z"
   },
   {
    "duration": 28,
    "start_time": "2022-02-05T14:37:14.362Z"
   },
   {
    "duration": 251,
    "start_time": "2022-02-05T14:37:23.812Z"
   },
   {
    "duration": 238,
    "start_time": "2022-02-05T14:41:13.594Z"
   },
   {
    "duration": 4,
    "start_time": "2022-02-05T14:41:29.302Z"
   },
   {
    "duration": 23,
    "start_time": "2022-02-05T14:41:38.353Z"
   },
   {
    "duration": 5,
    "start_time": "2022-02-05T14:42:48.553Z"
   },
   {
    "duration": 6,
    "start_time": "2022-02-05T14:42:50.329Z"
   },
   {
    "duration": 4,
    "start_time": "2022-02-05T14:42:57.846Z"
   },
   {
    "duration": 498,
    "start_time": "2022-02-05T14:42:57.853Z"
   },
   {
    "duration": 25,
    "start_time": "2022-02-05T14:42:58.354Z"
   },
   {
    "duration": 21,
    "start_time": "2022-02-05T14:42:58.382Z"
   },
   {
    "duration": 47,
    "start_time": "2022-02-05T14:42:58.405Z"
   },
   {
    "duration": 8,
    "start_time": "2022-02-05T14:42:58.454Z"
   },
   {
    "duration": 13,
    "start_time": "2022-02-05T14:42:58.464Z"
   },
   {
    "duration": 36,
    "start_time": "2022-02-05T14:42:58.479Z"
   },
   {
    "duration": 53,
    "start_time": "2022-02-05T14:42:58.518Z"
   },
   {
    "duration": 26,
    "start_time": "2022-02-05T14:42:58.573Z"
   },
   {
    "duration": 22,
    "start_time": "2022-02-05T14:42:58.601Z"
   },
   {
    "duration": 43,
    "start_time": "2022-02-05T14:42:58.625Z"
   },
   {
    "duration": 20,
    "start_time": "2022-02-05T14:42:58.670Z"
   },
   {
    "duration": 4,
    "start_time": "2022-02-05T14:42:58.692Z"
   },
   {
    "duration": 5,
    "start_time": "2022-02-05T14:42:58.699Z"
   },
   {
    "duration": 72,
    "start_time": "2022-02-05T14:42:58.707Z"
   },
   {
    "duration": 24,
    "start_time": "2022-02-05T14:42:58.781Z"
   },
   {
    "duration": 62,
    "start_time": "2022-02-05T14:42:58.807Z"
   },
   {
    "duration": 23,
    "start_time": "2022-02-05T14:42:58.872Z"
   },
   {
    "duration": 64,
    "start_time": "2022-02-05T14:42:58.898Z"
   },
   {
    "duration": 25,
    "start_time": "2022-02-05T14:42:58.965Z"
   },
   {
    "duration": 62,
    "start_time": "2022-02-05T14:42:58.993Z"
   },
   {
    "duration": 28,
    "start_time": "2022-02-05T14:42:59.057Z"
   },
   {
    "duration": 20,
    "start_time": "2022-02-05T14:42:59.088Z"
   },
   {
    "duration": 20,
    "start_time": "2022-02-05T14:43:54.769Z"
   },
   {
    "duration": 243,
    "start_time": "2022-02-05T14:45:58.775Z"
   },
   {
    "duration": 10,
    "start_time": "2022-02-05T14:46:08.473Z"
   },
   {
    "duration": 34,
    "start_time": "2022-02-05T14:46:15.144Z"
   },
   {
    "duration": 8,
    "start_time": "2022-02-05T14:48:27.057Z"
   },
   {
    "duration": 35,
    "start_time": "2022-02-05T14:48:33.901Z"
   },
   {
    "duration": 33,
    "start_time": "2022-02-05T14:50:17.004Z"
   },
   {
    "duration": 34,
    "start_time": "2022-02-05T14:50:24.608Z"
   },
   {
    "duration": 10,
    "start_time": "2022-02-05T14:52:59.900Z"
   },
   {
    "duration": 36,
    "start_time": "2022-02-05T14:53:06.934Z"
   },
   {
    "duration": 9,
    "start_time": "2022-02-05T14:54:59.395Z"
   },
   {
    "duration": 34,
    "start_time": "2022-02-05T14:55:05.647Z"
   },
   {
    "duration": 83,
    "start_time": "2022-02-05T14:56:02.213Z"
   },
   {
    "duration": 8,
    "start_time": "2022-02-05T14:56:49.447Z"
   },
   {
    "duration": 34,
    "start_time": "2022-02-05T14:56:57.259Z"
   },
   {
    "duration": 24,
    "start_time": "2022-02-05T14:57:35.659Z"
   },
   {
    "duration": 6,
    "start_time": "2022-02-05T14:58:40.735Z"
   },
   {
    "duration": 25,
    "start_time": "2022-02-05T14:58:46.289Z"
   },
   {
    "duration": 5,
    "start_time": "2022-02-05T14:59:26.879Z"
   },
   {
    "duration": 24,
    "start_time": "2022-02-05T14:59:28.680Z"
   },
   {
    "duration": 6,
    "start_time": "2022-02-05T14:59:32.842Z"
   },
   {
    "duration": 23,
    "start_time": "2022-02-05T14:59:34.571Z"
   },
   {
    "duration": 1331,
    "start_time": "2022-02-05T14:59:50.508Z"
   },
   {
    "duration": 534,
    "start_time": "2022-02-05T14:59:51.841Z"
   },
   {
    "duration": 27,
    "start_time": "2022-02-05T14:59:52.378Z"
   },
   {
    "duration": 23,
    "start_time": "2022-02-05T14:59:52.408Z"
   },
   {
    "duration": 19,
    "start_time": "2022-02-05T14:59:52.434Z"
   },
   {
    "duration": 16,
    "start_time": "2022-02-05T14:59:52.456Z"
   },
   {
    "duration": 13,
    "start_time": "2022-02-05T14:59:52.475Z"
   },
   {
    "duration": 57,
    "start_time": "2022-02-05T14:59:52.491Z"
   },
   {
    "duration": 31,
    "start_time": "2022-02-05T14:59:52.552Z"
   },
   {
    "duration": 26,
    "start_time": "2022-02-05T14:59:52.586Z"
   },
   {
    "duration": 47,
    "start_time": "2022-02-05T14:59:52.614Z"
   },
   {
    "duration": 24,
    "start_time": "2022-02-05T14:59:52.663Z"
   },
   {
    "duration": 20,
    "start_time": "2022-02-05T14:59:52.690Z"
   },
   {
    "duration": 6,
    "start_time": "2022-02-05T14:59:52.712Z"
   },
   {
    "duration": 53,
    "start_time": "2022-02-05T14:59:52.720Z"
   },
   {
    "duration": 5,
    "start_time": "2022-02-05T14:59:52.775Z"
   },
   {
    "duration": 68,
    "start_time": "2022-02-05T14:59:52.782Z"
   },
   {
    "duration": 24,
    "start_time": "2022-02-05T14:59:52.853Z"
   },
   {
    "duration": 42,
    "start_time": "2022-02-05T14:59:52.880Z"
   },
   {
    "duration": 45,
    "start_time": "2022-02-05T14:59:52.925Z"
   },
   {
    "duration": 13,
    "start_time": "2022-02-05T14:59:52.972Z"
   },
   {
    "duration": 34,
    "start_time": "2022-02-05T14:59:52.987Z"
   },
   {
    "duration": 9,
    "start_time": "2022-02-05T14:59:53.047Z"
   },
   {
    "duration": 35,
    "start_time": "2022-02-05T14:59:53.059Z"
   },
   {
    "duration": 73,
    "start_time": "2022-02-05T14:59:53.097Z"
   },
   {
    "duration": 25,
    "start_time": "2022-02-05T14:59:53.173Z"
   },
   {
    "duration": 11,
    "start_time": "2022-02-05T14:59:53.204Z"
   },
   {
    "duration": 58,
    "start_time": "2022-02-05T14:59:53.218Z"
   },
   {
    "duration": 32,
    "start_time": "2022-02-05T14:59:53.278Z"
   },
   {
    "duration": 38,
    "start_time": "2022-02-05T14:59:53.313Z"
   },
   {
    "duration": 15,
    "start_time": "2022-02-05T14:59:53.354Z"
   },
   {
    "duration": 32,
    "start_time": "2022-02-05T14:59:53.372Z"
   },
   {
    "duration": 5,
    "start_time": "2022-02-05T15:00:05.317Z"
   },
   {
    "duration": 25,
    "start_time": "2022-02-05T15:00:07.220Z"
   },
   {
    "duration": 5,
    "start_time": "2022-02-05T15:01:03.422Z"
   },
   {
    "duration": 5,
    "start_time": "2022-02-05T15:01:08.110Z"
   },
   {
    "duration": 26,
    "start_time": "2022-02-05T15:01:10.154Z"
   },
   {
    "duration": 5,
    "start_time": "2022-02-05T15:01:42.239Z"
   },
   {
    "duration": 8,
    "start_time": "2022-02-05T16:13:12.598Z"
   },
   {
    "duration": 5,
    "start_time": "2022-02-05T16:13:15.100Z"
   },
   {
    "duration": 33,
    "start_time": "2022-02-05T16:13:17.191Z"
   },
   {
    "duration": 5,
    "start_time": "2022-02-05T16:13:21.220Z"
   },
   {
    "duration": 21,
    "start_time": "2022-02-05T16:13:30.148Z"
   },
   {
    "duration": 26,
    "start_time": "2022-02-05T16:13:54.854Z"
   },
   {
    "duration": 5,
    "start_time": "2022-02-05T16:14:08.832Z"
   },
   {
    "duration": 571,
    "start_time": "2022-02-05T16:14:08.841Z"
   },
   {
    "duration": 32,
    "start_time": "2022-02-05T16:14:09.415Z"
   },
   {
    "duration": 26,
    "start_time": "2022-02-05T16:14:09.451Z"
   },
   {
    "duration": 22,
    "start_time": "2022-02-05T16:14:09.479Z"
   },
   {
    "duration": 8,
    "start_time": "2022-02-05T16:14:09.505Z"
   },
   {
    "duration": 9,
    "start_time": "2022-02-05T16:14:09.548Z"
   },
   {
    "duration": 41,
    "start_time": "2022-02-05T16:14:09.562Z"
   },
   {
    "duration": 65,
    "start_time": "2022-02-05T16:14:09.606Z"
   },
   {
    "duration": 31,
    "start_time": "2022-02-05T16:14:09.673Z"
   },
   {
    "duration": 46,
    "start_time": "2022-02-05T16:14:09.706Z"
   },
   {
    "duration": 25,
    "start_time": "2022-02-05T16:14:09.755Z"
   },
   {
    "duration": 22,
    "start_time": "2022-02-05T16:14:09.783Z"
   },
   {
    "duration": 7,
    "start_time": "2022-02-05T16:14:09.808Z"
   },
   {
    "duration": 8,
    "start_time": "2022-02-05T16:14:09.849Z"
   },
   {
    "duration": 11,
    "start_time": "2022-02-05T16:14:09.860Z"
   },
   {
    "duration": 40,
    "start_time": "2022-02-05T16:14:09.874Z"
   },
   {
    "duration": 35,
    "start_time": "2022-02-05T16:14:09.917Z"
   },
   {
    "duration": 37,
    "start_time": "2022-02-05T16:14:09.955Z"
   },
   {
    "duration": 69,
    "start_time": "2022-02-05T16:14:09.996Z"
   },
   {
    "duration": 26,
    "start_time": "2022-02-05T16:14:10.068Z"
   },
   {
    "duration": 61,
    "start_time": "2022-02-05T16:14:10.097Z"
   },
   {
    "duration": 25,
    "start_time": "2022-02-05T16:14:10.165Z"
   },
   {
    "duration": 11,
    "start_time": "2022-02-05T16:14:10.194Z"
   },
   {
    "duration": 83,
    "start_time": "2022-02-05T16:14:10.208Z"
   },
   {
    "duration": 10,
    "start_time": "2022-02-05T16:14:10.295Z"
   },
   {
    "duration": 58,
    "start_time": "2022-02-05T16:14:10.308Z"
   },
   {
    "duration": 40,
    "start_time": "2022-02-05T16:14:10.369Z"
   },
   {
    "duration": 52,
    "start_time": "2022-02-05T16:14:10.412Z"
   },
   {
    "duration": 12,
    "start_time": "2022-02-05T16:14:10.468Z"
   },
   {
    "duration": 80,
    "start_time": "2022-02-05T16:14:10.485Z"
   },
   {
    "duration": 52,
    "start_time": "2022-02-05T16:14:10.568Z"
   },
   {
    "duration": 54,
    "start_time": "2022-02-05T16:14:10.623Z"
   },
   {
    "duration": 9,
    "start_time": "2022-02-05T16:14:10.680Z"
   },
   {
    "duration": 60,
    "start_time": "2022-02-05T16:14:10.692Z"
   },
   {
    "duration": 30,
    "start_time": "2022-02-05T16:14:38.367Z"
   },
   {
    "duration": 27,
    "start_time": "2022-02-05T16:14:40.952Z"
   },
   {
    "duration": 8,
    "start_time": "2022-02-05T16:14:54.194Z"
   },
   {
    "duration": 34,
    "start_time": "2022-02-05T16:14:56.128Z"
   },
   {
    "duration": 11,
    "start_time": "2022-02-05T16:16:41.378Z"
   },
   {
    "duration": 19,
    "start_time": "2022-02-05T16:16:56.198Z"
   },
   {
    "duration": 12,
    "start_time": "2022-02-05T16:17:23.424Z"
   },
   {
    "duration": 5,
    "start_time": "2022-02-05T16:26:09.523Z"
   },
   {
    "duration": 19,
    "start_time": "2022-02-05T16:26:16.684Z"
   },
   {
    "duration": 465,
    "start_time": "2022-02-05T16:26:36.372Z"
   },
   {
    "duration": 12,
    "start_time": "2022-02-05T16:26:55.631Z"
   },
   {
    "duration": 5,
    "start_time": "2022-02-05T16:27:58.525Z"
   },
   {
    "duration": 36,
    "start_time": "2022-02-05T16:30:56.627Z"
   },
   {
    "duration": 33,
    "start_time": "2022-02-05T16:31:28.569Z"
   },
   {
    "duration": 5,
    "start_time": "2022-02-05T16:32:20.573Z"
   },
   {
    "duration": 4,
    "start_time": "2022-02-05T16:32:24.182Z"
   },
   {
    "duration": 509,
    "start_time": "2022-02-05T16:32:24.188Z"
   },
   {
    "duration": 26,
    "start_time": "2022-02-05T16:32:24.700Z"
   },
   {
    "duration": 23,
    "start_time": "2022-02-05T16:32:24.729Z"
   },
   {
    "duration": 22,
    "start_time": "2022-02-05T16:32:24.754Z"
   },
   {
    "duration": 8,
    "start_time": "2022-02-05T16:32:24.778Z"
   },
   {
    "duration": 18,
    "start_time": "2022-02-05T16:32:24.788Z"
   },
   {
    "duration": 17,
    "start_time": "2022-02-05T16:32:24.808Z"
   },
   {
    "duration": 38,
    "start_time": "2022-02-05T16:32:24.853Z"
   },
   {
    "duration": 55,
    "start_time": "2022-02-05T16:32:24.895Z"
   },
   {
    "duration": 36,
    "start_time": "2022-02-05T16:32:24.953Z"
   },
   {
    "duration": 25,
    "start_time": "2022-02-05T16:32:24.992Z"
   },
   {
    "duration": 46,
    "start_time": "2022-02-05T16:32:25.020Z"
   },
   {
    "duration": 21,
    "start_time": "2022-02-05T16:32:25.068Z"
   },
   {
    "duration": 5,
    "start_time": "2022-02-05T16:32:25.092Z"
   },
   {
    "duration": 9,
    "start_time": "2022-02-05T16:32:25.100Z"
   },
   {
    "duration": 37,
    "start_time": "2022-02-05T16:32:25.111Z"
   },
   {
    "duration": 25,
    "start_time": "2022-02-05T16:32:25.151Z"
   },
   {
    "duration": 8,
    "start_time": "2022-02-05T16:32:25.179Z"
   },
   {
    "duration": 20,
    "start_time": "2022-02-05T16:32:25.190Z"
   },
   {
    "duration": 5,
    "start_time": "2022-02-05T16:32:25.212Z"
   },
   {
    "duration": 68,
    "start_time": "2022-02-05T16:32:25.219Z"
   },
   {
    "duration": 24,
    "start_time": "2022-02-05T16:32:25.289Z"
   },
   {
    "duration": 54,
    "start_time": "2022-02-05T16:32:25.315Z"
   },
   {
    "duration": 25,
    "start_time": "2022-02-05T16:32:25.371Z"
   },
   {
    "duration": 24,
    "start_time": "2022-02-05T16:32:25.399Z"
   },
   {
    "duration": 46,
    "start_time": "2022-02-05T16:32:25.428Z"
   },
   {
    "duration": 10,
    "start_time": "2022-02-05T16:32:25.478Z"
   },
   {
    "duration": 60,
    "start_time": "2022-02-05T16:32:25.490Z"
   },
   {
    "duration": 37,
    "start_time": "2022-02-05T16:32:25.553Z"
   },
   {
    "duration": 27,
    "start_time": "2022-02-05T16:32:25.592Z"
   },
   {
    "duration": 9,
    "start_time": "2022-02-05T16:32:25.649Z"
   },
   {
    "duration": 39,
    "start_time": "2022-02-05T16:32:25.660Z"
   },
   {
    "duration": 56,
    "start_time": "2022-02-05T16:32:25.702Z"
   },
   {
    "duration": 24,
    "start_time": "2022-02-05T16:32:25.760Z"
   },
   {
    "duration": 11,
    "start_time": "2022-02-05T16:32:25.787Z"
   },
   {
    "duration": 63,
    "start_time": "2022-02-05T16:32:25.800Z"
   },
   {
    "duration": 5,
    "start_time": "2022-02-05T16:32:25.865Z"
   },
   {
    "duration": 37,
    "start_time": "2022-02-05T16:32:25.872Z"
   },
   {
    "duration": 11,
    "start_time": "2022-02-05T16:35:50.676Z"
   },
   {
    "duration": 6170,
    "start_time": "2022-02-05T16:39:23.397Z"
   },
   {
    "duration": 7031,
    "start_time": "2022-02-05T16:40:01.011Z"
   },
   {
    "duration": 10,
    "start_time": "2022-02-05T16:40:23.551Z"
   },
   {
    "duration": 7190,
    "start_time": "2022-02-05T16:45:33.599Z"
   },
   {
    "duration": 7327,
    "start_time": "2022-02-05T16:45:55.681Z"
   },
   {
    "duration": 7033,
    "start_time": "2022-02-05T16:46:42.543Z"
   },
   {
    "duration": 5,
    "start_time": "2022-02-05T16:46:55.396Z"
   },
   {
    "duration": 508,
    "start_time": "2022-02-05T16:46:55.404Z"
   },
   {
    "duration": 28,
    "start_time": "2022-02-05T16:46:55.915Z"
   },
   {
    "duration": 24,
    "start_time": "2022-02-05T16:46:55.947Z"
   },
   {
    "duration": 19,
    "start_time": "2022-02-05T16:46:55.974Z"
   },
   {
    "duration": 9,
    "start_time": "2022-02-05T16:46:55.996Z"
   },
   {
    "duration": 44,
    "start_time": "2022-02-05T16:46:56.007Z"
   },
   {
    "duration": 10,
    "start_time": "2022-02-05T16:46:56.055Z"
   },
   {
    "duration": 33,
    "start_time": "2022-02-05T16:46:56.068Z"
   },
   {
    "duration": 65,
    "start_time": "2022-02-05T16:46:56.103Z"
   },
   {
    "duration": 27,
    "start_time": "2022-02-05T16:46:56.171Z"
   },
   {
    "duration": 27,
    "start_time": "2022-02-05T16:46:56.200Z"
   },
   {
    "duration": 39,
    "start_time": "2022-02-05T16:46:56.230Z"
   },
   {
    "duration": 20,
    "start_time": "2022-02-05T16:46:56.272Z"
   },
   {
    "duration": 7,
    "start_time": "2022-02-05T16:46:56.295Z"
   },
   {
    "duration": 9,
    "start_time": "2022-02-05T16:46:56.305Z"
   },
   {
    "duration": 5,
    "start_time": "2022-02-05T16:46:56.349Z"
   },
   {
    "duration": 29,
    "start_time": "2022-02-05T16:46:56.356Z"
   },
   {
    "duration": 5,
    "start_time": "2022-02-05T16:46:56.387Z"
   },
   {
    "duration": 23,
    "start_time": "2022-02-05T16:46:56.394Z"
   },
   {
    "duration": 5,
    "start_time": "2022-02-05T16:46:56.449Z"
   },
   {
    "duration": 45,
    "start_time": "2022-02-05T16:46:56.457Z"
   },
   {
    "duration": 40,
    "start_time": "2022-02-05T16:46:56.507Z"
   },
   {
    "duration": 30,
    "start_time": "2022-02-05T16:46:56.552Z"
   },
   {
    "duration": 24,
    "start_time": "2022-02-05T16:46:56.585Z"
   },
   {
    "duration": 42,
    "start_time": "2022-02-05T16:46:56.612Z"
   },
   {
    "duration": 34,
    "start_time": "2022-02-05T16:46:56.657Z"
   },
   {
    "duration": 7,
    "start_time": "2022-02-05T16:46:56.694Z"
   },
   {
    "duration": 64,
    "start_time": "2022-02-05T16:46:56.704Z"
   },
   {
    "duration": 35,
    "start_time": "2022-02-05T16:46:56.770Z"
   },
   {
    "duration": 43,
    "start_time": "2022-02-05T16:46:56.807Z"
   },
   {
    "duration": 9,
    "start_time": "2022-02-05T16:46:56.852Z"
   },
   {
    "duration": 42,
    "start_time": "2022-02-05T16:46:56.864Z"
   },
   {
    "duration": 56,
    "start_time": "2022-02-05T16:46:56.909Z"
   },
   {
    "duration": 25,
    "start_time": "2022-02-05T16:46:56.967Z"
   },
   {
    "duration": 15,
    "start_time": "2022-02-05T16:46:56.994Z"
   },
   {
    "duration": 64,
    "start_time": "2022-02-05T16:46:57.012Z"
   },
   {
    "duration": 34,
    "start_time": "2022-02-05T16:46:57.079Z"
   },
   {
    "duration": 36,
    "start_time": "2022-02-05T16:46:57.115Z"
   },
   {
    "duration": 5855,
    "start_time": "2022-02-05T16:46:57.154Z"
   },
   {
    "duration": -105326,
    "start_time": "2022-02-05T16:48:48.337Z"
   },
   {
    "duration": -105326,
    "start_time": "2022-02-05T16:48:48.338Z"
   },
   {
    "duration": 35,
    "start_time": "2022-02-05T16:49:37.789Z"
   },
   {
    "duration": 6,
    "start_time": "2022-02-05T16:50:10.597Z"
   },
   {
    "duration": 26,
    "start_time": "2022-02-05T16:50:12.951Z"
   },
   {
    "duration": 6,
    "start_time": "2022-02-05T16:50:20.503Z"
   },
   {
    "duration": 26,
    "start_time": "2022-02-05T16:50:23.218Z"
   },
   {
    "duration": 5,
    "start_time": "2022-02-05T16:50:45.673Z"
   },
   {
    "duration": 27,
    "start_time": "2022-02-05T16:50:47.802Z"
   },
   {
    "duration": 25,
    "start_time": "2022-02-05T16:55:58.579Z"
   },
   {
    "duration": 20,
    "start_time": "2022-02-05T16:56:04.066Z"
   },
   {
    "duration": 938,
    "start_time": "2022-02-05T16:57:27.948Z"
   },
   {
    "duration": 18,
    "start_time": "2022-02-05T16:59:26.535Z"
   },
   {
    "duration": 29,
    "start_time": "2022-02-05T17:02:42.304Z"
   },
   {
    "duration": 15,
    "start_time": "2022-02-05T17:02:44.620Z"
   },
   {
    "duration": 4,
    "start_time": "2022-02-05T17:03:02.061Z"
   },
   {
    "duration": 14,
    "start_time": "2022-02-05T17:03:13.222Z"
   },
   {
    "duration": 10,
    "start_time": "2022-02-05T17:03:50.436Z"
   },
   {
    "duration": 23,
    "start_time": "2022-02-05T17:03:52.261Z"
   },
   {
    "duration": 33,
    "start_time": "2022-02-05T17:04:46.064Z"
   },
   {
    "duration": 17,
    "start_time": "2022-02-05T17:04:49.012Z"
   },
   {
    "duration": 32,
    "start_time": "2022-02-05T17:05:01.027Z"
   },
   {
    "duration": 15,
    "start_time": "2022-02-05T17:05:03.504Z"
   },
   {
    "duration": 91,
    "start_time": "2022-02-05T17:06:08.922Z"
   },
   {
    "duration": 3,
    "start_time": "2022-02-05T17:06:19.705Z"
   },
   {
    "duration": 15,
    "start_time": "2022-02-05T17:06:27.218Z"
   },
   {
    "duration": 5,
    "start_time": "2022-02-05T17:06:48.164Z"
   },
   {
    "duration": 13,
    "start_time": "2022-02-05T17:06:50.476Z"
   },
   {
    "duration": 10,
    "start_time": "2022-02-05T17:06:56.517Z"
   },
   {
    "duration": 23,
    "start_time": "2022-02-05T17:06:58.363Z"
   },
   {
    "duration": 34,
    "start_time": "2022-02-05T17:08:12.216Z"
   },
   {
    "duration": 17,
    "start_time": "2022-02-05T17:08:15.755Z"
   },
   {
    "duration": 5,
    "start_time": "2022-02-05T17:09:02.925Z"
   },
   {
    "duration": 14,
    "start_time": "2022-02-05T17:09:16.708Z"
   },
   {
    "duration": 4,
    "start_time": "2022-02-05T17:09:31.898Z"
   },
   {
    "duration": 14,
    "start_time": "2022-02-05T17:09:33.621Z"
   },
   {
    "duration": 9,
    "start_time": "2022-02-05T17:09:46.504Z"
   },
   {
    "duration": 34,
    "start_time": "2022-02-05T17:09:48.396Z"
   },
   {
    "duration": 8,
    "start_time": "2022-02-05T17:09:51.504Z"
   },
   {
    "duration": 34,
    "start_time": "2022-02-05T17:09:53.492Z"
   },
   {
    "duration": 18,
    "start_time": "2022-02-05T17:10:00.993Z"
   },
   {
    "duration": 11,
    "start_time": "2022-02-05T17:10:03.929Z"
   },
   {
    "duration": 24,
    "start_time": "2022-02-05T17:10:06.605Z"
   },
   {
    "duration": 9,
    "start_time": "2022-02-05T17:10:31.296Z"
   },
   {
    "duration": 36,
    "start_time": "2022-02-05T17:10:37.360Z"
   },
   {
    "duration": 1500,
    "start_time": "2022-02-05T17:10:57.805Z"
   },
   {
    "duration": 521,
    "start_time": "2022-02-05T17:10:59.308Z"
   },
   {
    "duration": 27,
    "start_time": "2022-02-05T17:10:59.832Z"
   },
   {
    "duration": 22,
    "start_time": "2022-02-05T17:10:59.862Z"
   },
   {
    "duration": 18,
    "start_time": "2022-02-05T17:10:59.886Z"
   },
   {
    "duration": 42,
    "start_time": "2022-02-05T17:10:59.906Z"
   },
   {
    "duration": 15,
    "start_time": "2022-02-05T17:10:59.951Z"
   },
   {
    "duration": 10,
    "start_time": "2022-02-05T17:10:59.969Z"
   },
   {
    "duration": 66,
    "start_time": "2022-02-05T17:10:59.983Z"
   },
   {
    "duration": 33,
    "start_time": "2022-02-05T17:11:00.053Z"
   },
   {
    "duration": 26,
    "start_time": "2022-02-05T17:11:00.088Z"
   },
   {
    "duration": 44,
    "start_time": "2022-02-05T17:11:00.117Z"
   },
   {
    "duration": 24,
    "start_time": "2022-02-05T17:11:00.164Z"
   },
   {
    "duration": 22,
    "start_time": "2022-02-05T17:11:00.191Z"
   },
   {
    "duration": 36,
    "start_time": "2022-02-05T17:11:00.216Z"
   },
   {
    "duration": 7,
    "start_time": "2022-02-05T17:11:00.255Z"
   },
   {
    "duration": 26,
    "start_time": "2022-02-05T17:11:00.265Z"
   },
   {
    "duration": 34,
    "start_time": "2022-02-05T17:11:00.294Z"
   },
   {
    "duration": 23,
    "start_time": "2022-02-05T17:11:00.331Z"
   },
   {
    "duration": 28,
    "start_time": "2022-02-05T17:11:00.357Z"
   },
   {
    "duration": 6,
    "start_time": "2022-02-05T17:11:00.387Z"
   },
   {
    "duration": 56,
    "start_time": "2022-02-05T17:11:00.395Z"
   },
   {
    "duration": 25,
    "start_time": "2022-02-05T17:11:00.454Z"
   },
   {
    "duration": 55,
    "start_time": "2022-02-05T17:11:00.482Z"
   },
   {
    "duration": 4,
    "start_time": "2022-02-05T17:11:00.549Z"
   },
   {
    "duration": 47,
    "start_time": "2022-02-05T17:11:00.555Z"
   },
   {
    "duration": 46,
    "start_time": "2022-02-05T17:11:00.607Z"
   },
   {
    "duration": 49,
    "start_time": "2022-02-05T17:11:00.656Z"
   },
   {
    "duration": 19,
    "start_time": "2022-02-05T17:11:00.708Z"
   },
   {
    "duration": 32,
    "start_time": "2022-02-05T17:11:00.729Z"
   },
   {
    "duration": 53,
    "start_time": "2022-02-05T17:11:00.764Z"
   },
   {
    "duration": 3,
    "start_time": "2022-02-05T17:11:00.821Z"
   },
   {
    "duration": 23,
    "start_time": "2022-02-05T17:11:00.827Z"
   },
   {
    "duration": 12,
    "start_time": "2022-02-05T17:11:00.853Z"
   },
   {
    "duration": 24,
    "start_time": "2022-02-05T17:11:00.867Z"
   },
   {
    "duration": 54,
    "start_time": "2022-02-05T17:11:00.894Z"
   },
   {
    "duration": 4,
    "start_time": "2022-02-05T17:11:00.951Z"
   },
   {
    "duration": 21,
    "start_time": "2022-02-05T17:11:00.958Z"
   },
   {
    "duration": 21,
    "start_time": "2022-02-05T17:11:00.981Z"
   },
   {
    "duration": 24,
    "start_time": "2022-02-05T17:11:01.004Z"
   },
   {
    "duration": 35,
    "start_time": "2022-02-05T17:11:01.048Z"
   },
   {
    "duration": 13,
    "start_time": "2022-02-05T17:11:01.086Z"
   },
   {
    "duration": 6581,
    "start_time": "2022-02-05T17:11:01.102Z"
   },
   {
    "duration": -105327,
    "start_time": "2022-02-05T17:12:53.012Z"
   },
   {
    "duration": -105331,
    "start_time": "2022-02-05T17:12:53.018Z"
   },
   {
    "duration": 34,
    "start_time": "2022-02-05T17:12:16.238Z"
   },
   {
    "duration": 14,
    "start_time": "2022-02-05T17:12:20.450Z"
   },
   {
    "duration": 4,
    "start_time": "2022-02-05T17:13:31.273Z"
   },
   {
    "duration": 14,
    "start_time": "2022-02-05T17:13:33.279Z"
   },
   {
    "duration": 28,
    "start_time": "2022-02-05T17:13:52.225Z"
   },
   {
    "duration": 3,
    "start_time": "2022-02-05T17:13:54.335Z"
   },
   {
    "duration": 14,
    "start_time": "2022-02-05T17:13:56.347Z"
   },
   {
    "duration": 9,
    "start_time": "2022-02-05T17:14:01.791Z"
   },
   {
    "duration": 22,
    "start_time": "2022-02-05T17:14:04.681Z"
   },
   {
    "duration": 10,
    "start_time": "2022-02-05T17:14:13.318Z"
   },
   {
    "duration": 26,
    "start_time": "2022-02-05T17:14:15.790Z"
   },
   {
    "duration": 33,
    "start_time": "2022-02-05T17:14:20.861Z"
   },
   {
    "duration": 4,
    "start_time": "2022-02-05T17:14:23.369Z"
   },
   {
    "duration": 12,
    "start_time": "2022-02-05T17:14:26.336Z"
   },
   {
    "duration": 9,
    "start_time": "2022-02-05T17:14:30.758Z"
   },
   {
    "duration": 22,
    "start_time": "2022-02-05T17:14:32.866Z"
   },
   {
    "duration": 26,
    "start_time": "2022-02-05T17:14:37.806Z"
   },
   {
    "duration": 4,
    "start_time": "2022-02-05T17:14:39.733Z"
   },
   {
    "duration": 13,
    "start_time": "2022-02-05T17:14:41.744Z"
   },
   {
    "duration": 9,
    "start_time": "2022-02-05T17:14:53.626Z"
   },
   {
    "duration": 23,
    "start_time": "2022-02-05T17:14:56.888Z"
   },
   {
    "duration": 23,
    "start_time": "2022-02-05T17:15:17.462Z"
   },
   {
    "duration": 11,
    "start_time": "2022-02-05T17:15:43.795Z"
   },
   {
    "duration": 10,
    "start_time": "2022-02-05T17:18:53.641Z"
   },
   {
    "duration": 27,
    "start_time": "2022-02-05T17:19:00.044Z"
   },
   {
    "duration": 14,
    "start_time": "2022-02-05T17:21:07.284Z"
   },
   {
    "duration": 46,
    "start_time": "2022-02-05T17:21:18.856Z"
   },
   {
    "duration": 5,
    "start_time": "2022-02-05T17:21:49.765Z"
   },
   {
    "duration": 27,
    "start_time": "2022-02-05T17:21:52.154Z"
   },
   {
    "duration": 9,
    "start_time": "2022-02-05T17:22:50.737Z"
   },
   {
    "duration": 5,
    "start_time": "2022-02-05T17:22:52.435Z"
   },
   {
    "duration": 5,
    "start_time": "2022-02-05T17:24:22.884Z"
   },
   {
    "duration": 32,
    "start_time": "2022-02-05T17:24:24.773Z"
   },
   {
    "duration": 382,
    "start_time": "2022-02-05T17:26:34.131Z"
   },
   {
    "duration": 241,
    "start_time": "2022-02-05T17:26:45.862Z"
   },
   {
    "duration": 273,
    "start_time": "2022-02-05T17:26:56.156Z"
   },
   {
    "duration": 270,
    "start_time": "2022-02-05T17:27:01.507Z"
   },
   {
    "duration": 277,
    "start_time": "2022-02-05T17:27:16.253Z"
   },
   {
    "duration": 32,
    "start_time": "2022-02-05T17:27:24.970Z"
   },
   {
    "duration": 250,
    "start_time": "2022-02-05T17:27:59.512Z"
   },
   {
    "duration": 259,
    "start_time": "2022-02-05T17:29:06.186Z"
   },
   {
    "duration": 273,
    "start_time": "2022-02-05T17:29:19.912Z"
   },
   {
    "duration": 322,
    "start_time": "2022-02-05T17:30:40.465Z"
   },
   {
    "duration": 31,
    "start_time": "2022-02-05T17:30:54.538Z"
   },
   {
    "duration": 1301,
    "start_time": "2022-02-05T17:31:18.737Z"
   },
   {
    "duration": 30,
    "start_time": "2022-02-05T17:31:21.492Z"
   },
   {
    "duration": 641,
    "start_time": "2022-02-05T17:31:36.270Z"
   },
   {
    "duration": 29,
    "start_time": "2022-02-05T17:31:38.307Z"
   },
   {
    "duration": 680,
    "start_time": "2022-02-05T17:32:18.172Z"
   },
   {
    "duration": 30,
    "start_time": "2022-02-05T17:32:20.637Z"
   },
   {
    "duration": 30,
    "start_time": "2022-02-05T17:32:25.828Z"
   },
   {
    "duration": 636,
    "start_time": "2022-02-05T17:32:41.418Z"
   },
   {
    "duration": 1108,
    "start_time": "2022-02-05T17:33:55.996Z"
   },
   {
    "duration": 30,
    "start_time": "2022-02-05T17:33:58.106Z"
   },
   {
    "duration": 32,
    "start_time": "2022-02-05T17:34:02.166Z"
   },
   {
    "duration": 644,
    "start_time": "2022-02-05T17:34:20.304Z"
   },
   {
    "duration": 32,
    "start_time": "2022-02-05T17:34:22.733Z"
   },
   {
    "duration": 1299,
    "start_time": "2022-02-05T17:34:57.883Z"
   },
   {
    "duration": 515,
    "start_time": "2022-02-05T17:34:59.184Z"
   },
   {
    "duration": 27,
    "start_time": "2022-02-05T17:34:59.701Z"
   },
   {
    "duration": 21,
    "start_time": "2022-02-05T17:34:59.731Z"
   },
   {
    "duration": 20,
    "start_time": "2022-02-05T17:34:59.754Z"
   },
   {
    "duration": 8,
    "start_time": "2022-02-05T17:34:59.776Z"
   },
   {
    "duration": 18,
    "start_time": "2022-02-05T17:34:59.787Z"
   },
   {
    "duration": 47,
    "start_time": "2022-02-05T17:34:59.808Z"
   },
   {
    "duration": 38,
    "start_time": "2022-02-05T17:34:59.858Z"
   },
   {
    "duration": 64,
    "start_time": "2022-02-05T17:34:59.899Z"
   },
   {
    "duration": 28,
    "start_time": "2022-02-05T17:34:59.966Z"
   },
   {
    "duration": 25,
    "start_time": "2022-02-05T17:34:59.997Z"
   },
   {
    "duration": 49,
    "start_time": "2022-02-05T17:35:00.025Z"
   },
   {
    "duration": 26,
    "start_time": "2022-02-05T17:35:00.077Z"
   },
   {
    "duration": 8,
    "start_time": "2022-02-05T17:35:00.106Z"
   },
   {
    "duration": 35,
    "start_time": "2022-02-05T17:35:00.117Z"
   },
   {
    "duration": 21,
    "start_time": "2022-02-05T17:35:00.156Z"
   },
   {
    "duration": 49,
    "start_time": "2022-02-05T17:35:00.180Z"
   },
   {
    "duration": 18,
    "start_time": "2022-02-05T17:35:00.232Z"
   },
   {
    "duration": 39,
    "start_time": "2022-02-05T17:35:00.253Z"
   },
   {
    "duration": 10,
    "start_time": "2022-02-05T17:35:00.295Z"
   },
   {
    "duration": 51,
    "start_time": "2022-02-05T17:35:00.308Z"
   },
   {
    "duration": 4,
    "start_time": "2022-02-05T17:35:00.364Z"
   },
   {
    "duration": 33,
    "start_time": "2022-02-05T17:35:00.371Z"
   },
   {
    "duration": 37,
    "start_time": "2022-02-05T17:35:00.407Z"
   },
   {
    "duration": 4,
    "start_time": "2022-02-05T17:35:00.446Z"
   },
   {
    "duration": 22,
    "start_time": "2022-02-05T17:35:00.453Z"
   },
   {
    "duration": 22,
    "start_time": "2022-02-05T17:35:00.477Z"
   },
   {
    "duration": 40,
    "start_time": "2022-02-05T17:35:00.502Z"
   },
   {
    "duration": 18,
    "start_time": "2022-02-05T17:35:00.545Z"
   },
   {
    "duration": 37,
    "start_time": "2022-02-05T17:35:00.565Z"
   },
   {
    "duration": 45,
    "start_time": "2022-02-05T17:35:00.604Z"
   },
   {
    "duration": 4,
    "start_time": "2022-02-05T17:35:00.652Z"
   },
   {
    "duration": 44,
    "start_time": "2022-02-05T17:35:00.658Z"
   },
   {
    "duration": 36,
    "start_time": "2022-02-05T17:35:00.704Z"
   },
   {
    "duration": 47,
    "start_time": "2022-02-05T17:35:00.742Z"
   },
   {
    "duration": 39,
    "start_time": "2022-02-05T17:35:00.791Z"
   },
   {
    "duration": 4,
    "start_time": "2022-02-05T17:35:00.833Z"
   },
   {
    "duration": 18,
    "start_time": "2022-02-05T17:35:00.839Z"
   },
   {
    "duration": 13,
    "start_time": "2022-02-05T17:35:00.859Z"
   },
   {
    "duration": 23,
    "start_time": "2022-02-05T17:35:00.874Z"
   },
   {
    "duration": 37,
    "start_time": "2022-02-05T17:35:00.899Z"
   },
   {
    "duration": 19,
    "start_time": "2022-02-05T17:35:00.938Z"
   },
   {
    "duration": 18,
    "start_time": "2022-02-05T17:35:00.960Z"
   },
   {
    "duration": 31,
    "start_time": "2022-02-05T17:35:00.981Z"
   },
   {
    "duration": 751,
    "start_time": "2022-02-05T17:35:01.014Z"
   },
   {
    "duration": 33,
    "start_time": "2022-02-05T17:35:01.768Z"
   },
   {
    "duration": 576,
    "start_time": "2022-02-05T17:36:02.942Z"
   },
   {
    "duration": 676,
    "start_time": "2022-02-05T17:40:10.636Z"
   },
   {
    "duration": 33,
    "start_time": "2022-02-05T17:40:13.664Z"
   },
   {
    "duration": 30,
    "start_time": "2022-02-05T17:40:17.428Z"
   },
   {
    "duration": 237,
    "start_time": "2022-02-05T17:42:13.792Z"
   },
   {
    "duration": 32,
    "start_time": "2022-02-05T17:42:17.232Z"
   },
   {
    "duration": 237,
    "start_time": "2022-02-05T17:42:35.002Z"
   },
   {
    "duration": 30,
    "start_time": "2022-02-05T17:42:36.747Z"
   },
   {
    "duration": 5,
    "start_time": "2022-02-05T17:44:31.271Z"
   },
   {
    "duration": 31,
    "start_time": "2022-02-05T17:44:33.029Z"
   },
   {
    "duration": 1100,
    "start_time": "2022-02-05T17:45:28.139Z"
   },
   {
    "duration": 30,
    "start_time": "2022-02-05T17:45:30.907Z"
   },
   {
    "duration": 4,
    "start_time": "2022-02-05T17:46:05.416Z"
   },
   {
    "duration": 576,
    "start_time": "2022-02-05T17:46:05.423Z"
   },
   {
    "duration": 29,
    "start_time": "2022-02-05T17:46:06.003Z"
   },
   {
    "duration": 28,
    "start_time": "2022-02-05T17:46:06.036Z"
   },
   {
    "duration": 28,
    "start_time": "2022-02-05T17:46:06.066Z"
   },
   {
    "duration": 19,
    "start_time": "2022-02-05T17:46:06.097Z"
   },
   {
    "duration": 20,
    "start_time": "2022-02-05T17:46:06.118Z"
   },
   {
    "duration": 10,
    "start_time": "2022-02-05T17:46:06.149Z"
   },
   {
    "duration": 37,
    "start_time": "2022-02-05T17:46:06.163Z"
   },
   {
    "duration": 57,
    "start_time": "2022-02-05T17:46:06.203Z"
   },
   {
    "duration": 27,
    "start_time": "2022-02-05T17:46:06.262Z"
   },
   {
    "duration": 24,
    "start_time": "2022-02-05T17:46:06.292Z"
   },
   {
    "duration": 51,
    "start_time": "2022-02-05T17:46:06.318Z"
   },
   {
    "duration": 129,
    "start_time": "2022-02-05T17:46:06.372Z"
   },
   {
    "duration": 5,
    "start_time": "2022-02-05T17:46:06.504Z"
   },
   {
    "duration": 11,
    "start_time": "2022-02-05T17:46:06.512Z"
   },
   {
    "duration": 7,
    "start_time": "2022-02-05T17:46:06.525Z"
   },
   {
    "duration": 30,
    "start_time": "2022-02-05T17:46:06.535Z"
   },
   {
    "duration": 7,
    "start_time": "2022-02-05T17:46:06.568Z"
   },
   {
    "duration": 31,
    "start_time": "2022-02-05T17:46:06.577Z"
   },
   {
    "duration": 8,
    "start_time": "2022-02-05T17:46:06.610Z"
   },
   {
    "duration": 60,
    "start_time": "2022-02-05T17:46:06.621Z"
   },
   {
    "duration": 4,
    "start_time": "2022-02-05T17:46:06.686Z"
   },
   {
    "duration": 15,
    "start_time": "2022-02-05T17:46:06.693Z"
   },
   {
    "duration": 60,
    "start_time": "2022-02-05T17:46:06.710Z"
   },
   {
    "duration": 4,
    "start_time": "2022-02-05T17:46:06.773Z"
   },
   {
    "duration": 46,
    "start_time": "2022-02-05T17:46:06.779Z"
   },
   {
    "duration": 13,
    "start_time": "2022-02-05T17:46:06.828Z"
   },
   {
    "duration": 25,
    "start_time": "2022-02-05T17:46:06.843Z"
   },
   {
    "duration": 9,
    "start_time": "2022-02-05T17:46:06.871Z"
   },
   {
    "duration": 26,
    "start_time": "2022-02-05T17:46:06.883Z"
   },
   {
    "duration": 63,
    "start_time": "2022-02-05T17:46:06.911Z"
   },
   {
    "duration": 4,
    "start_time": "2022-02-05T17:46:06.977Z"
   },
   {
    "duration": 26,
    "start_time": "2022-02-05T17:46:06.983Z"
   },
   {
    "duration": 11,
    "start_time": "2022-02-05T17:46:07.013Z"
   },
   {
    "duration": 48,
    "start_time": "2022-02-05T17:46:07.027Z"
   },
   {
    "duration": 32,
    "start_time": "2022-02-05T17:46:07.078Z"
   },
   {
    "duration": 5,
    "start_time": "2022-02-05T17:46:07.113Z"
   },
   {
    "duration": 21,
    "start_time": "2022-02-05T17:46:07.150Z"
   },
   {
    "duration": 14,
    "start_time": "2022-02-05T17:46:07.173Z"
   },
   {
    "duration": 30,
    "start_time": "2022-02-05T17:46:07.190Z"
   },
   {
    "duration": 32,
    "start_time": "2022-02-05T17:46:07.248Z"
   },
   {
    "duration": 17,
    "start_time": "2022-02-05T17:46:07.283Z"
   },
   {
    "duration": 6,
    "start_time": "2022-02-05T17:46:07.304Z"
   },
   {
    "duration": 69,
    "start_time": "2022-02-05T17:46:07.313Z"
   },
   {
    "duration": 6138,
    "start_time": "2022-02-05T17:46:07.384Z"
   },
   {
    "duration": -105323,
    "start_time": "2022-02-05T17:47:58.855Z"
   },
   {
    "duration": 5,
    "start_time": "2022-02-05T18:01:01.128Z"
   },
   {
    "duration": 29,
    "start_time": "2022-02-05T18:01:03.340Z"
   },
   {
    "duration": 244,
    "start_time": "2022-02-05T18:01:38.883Z"
   },
   {
    "duration": 348,
    "start_time": "2022-02-05T18:03:33.499Z"
   },
   {
    "duration": 253,
    "start_time": "2022-02-05T18:06:30.355Z"
   },
   {
    "duration": 24,
    "start_time": "2022-02-05T18:10:55.773Z"
   },
   {
    "duration": 82,
    "start_time": "2022-02-05T18:15:50.478Z"
   },
   {
    "duration": 241,
    "start_time": "2022-02-05T18:16:07.341Z"
   },
   {
    "duration": 86,
    "start_time": "2022-02-05T18:28:18.349Z"
   },
   {
    "duration": 22,
    "start_time": "2022-02-05T18:28:26.435Z"
   },
   {
    "duration": 66,
    "start_time": "2022-02-05T18:29:05.790Z"
   },
   {
    "duration": 52,
    "start_time": "2022-02-05T18:29:08.987Z"
   },
   {
    "duration": 4,
    "start_time": "2022-02-05T18:29:13.710Z"
   },
   {
    "duration": 553,
    "start_time": "2022-02-05T18:29:13.717Z"
   },
   {
    "duration": 27,
    "start_time": "2022-02-05T18:29:14.273Z"
   },
   {
    "duration": 23,
    "start_time": "2022-02-05T18:29:14.303Z"
   },
   {
    "duration": 26,
    "start_time": "2022-02-05T18:29:14.329Z"
   },
   {
    "duration": 9,
    "start_time": "2022-02-05T18:29:14.358Z"
   },
   {
    "duration": 15,
    "start_time": "2022-02-05T18:29:14.369Z"
   },
   {
    "duration": 10,
    "start_time": "2022-02-05T18:29:14.386Z"
   },
   {
    "duration": 73,
    "start_time": "2022-02-05T18:29:14.400Z"
   },
   {
    "duration": 91,
    "start_time": "2022-02-05T18:29:14.476Z"
   },
   {
    "duration": 25,
    "start_time": "2022-02-05T18:29:14.570Z"
   },
   {
    "duration": 78,
    "start_time": "2022-02-05T18:29:14.597Z"
   },
   {
    "duration": 24,
    "start_time": "2022-02-05T18:29:14.678Z"
   },
   {
    "duration": 78,
    "start_time": "2022-02-05T18:29:14.704Z"
   },
   {
    "duration": 5,
    "start_time": "2022-02-05T18:29:14.785Z"
   },
   {
    "duration": 9,
    "start_time": "2022-02-05T18:29:14.792Z"
   },
   {
    "duration": 5,
    "start_time": "2022-02-05T18:29:14.804Z"
   },
   {
    "duration": 55,
    "start_time": "2022-02-05T18:29:14.812Z"
   },
   {
    "duration": 5,
    "start_time": "2022-02-05T18:29:14.869Z"
   },
   {
    "duration": 23,
    "start_time": "2022-02-05T18:29:14.876Z"
   },
   {
    "duration": 5,
    "start_time": "2022-02-05T18:29:14.902Z"
   },
   {
    "duration": 110,
    "start_time": "2022-02-05T18:29:14.909Z"
   },
   {
    "duration": 5,
    "start_time": "2022-02-05T18:29:15.021Z"
   },
   {
    "duration": 35,
    "start_time": "2022-02-05T18:29:15.028Z"
   },
   {
    "duration": 49,
    "start_time": "2022-02-05T18:29:15.066Z"
   },
   {
    "duration": 4,
    "start_time": "2022-02-05T18:29:15.117Z"
   },
   {
    "duration": 16,
    "start_time": "2022-02-05T18:29:15.151Z"
   },
   {
    "duration": 16,
    "start_time": "2022-02-05T18:29:15.170Z"
   },
   {
    "duration": 23,
    "start_time": "2022-02-05T18:29:15.189Z"
   },
   {
    "duration": 34,
    "start_time": "2022-02-05T18:29:15.215Z"
   },
   {
    "duration": 25,
    "start_time": "2022-02-05T18:29:15.251Z"
   },
   {
    "duration": 70,
    "start_time": "2022-02-05T18:29:15.279Z"
   },
   {
    "duration": 3,
    "start_time": "2022-02-05T18:29:15.352Z"
   },
   {
    "duration": 20,
    "start_time": "2022-02-05T18:29:15.357Z"
   },
   {
    "duration": 9,
    "start_time": "2022-02-05T18:29:15.379Z"
   },
   {
    "duration": 26,
    "start_time": "2022-02-05T18:29:15.390Z"
   },
   {
    "duration": 58,
    "start_time": "2022-02-05T18:29:15.449Z"
   },
   {
    "duration": 3,
    "start_time": "2022-02-05T18:29:15.510Z"
   },
   {
    "duration": 42,
    "start_time": "2022-02-05T18:29:15.515Z"
   },
   {
    "duration": 9,
    "start_time": "2022-02-05T18:29:15.559Z"
   },
   {
    "duration": 25,
    "start_time": "2022-02-05T18:29:15.571Z"
   },
   {
    "duration": 55,
    "start_time": "2022-02-05T18:29:15.598Z"
   },
   {
    "duration": 12,
    "start_time": "2022-02-05T18:29:15.656Z"
   },
   {
    "duration": 9,
    "start_time": "2022-02-05T18:29:15.670Z"
   },
   {
    "duration": 31,
    "start_time": "2022-02-05T18:29:15.682Z"
   },
   {
    "duration": 265,
    "start_time": "2022-02-05T18:29:15.716Z"
   },
   {
    "duration": -105329,
    "start_time": "2022-02-05T18:31:01.313Z"
   },
   {
    "duration": 40,
    "start_time": "2022-02-05T18:31:25.621Z"
   },
   {
    "duration": 22,
    "start_time": "2022-02-05T18:31:34.861Z"
   },
   {
    "duration": 32,
    "start_time": "2022-02-05T18:31:42.852Z"
   },
   {
    "duration": 27,
    "start_time": "2022-02-05T18:31:48.249Z"
   },
   {
    "duration": 4,
    "start_time": "2022-02-05T18:32:05.120Z"
   },
   {
    "duration": 506,
    "start_time": "2022-02-05T18:32:05.127Z"
   },
   {
    "duration": 24,
    "start_time": "2022-02-05T18:32:05.636Z"
   },
   {
    "duration": 37,
    "start_time": "2022-02-05T18:32:05.662Z"
   },
   {
    "duration": 23,
    "start_time": "2022-02-05T18:32:05.702Z"
   },
   {
    "duration": 22,
    "start_time": "2022-02-05T18:32:05.727Z"
   },
   {
    "duration": 11,
    "start_time": "2022-02-05T18:32:05.751Z"
   },
   {
    "duration": 23,
    "start_time": "2022-02-05T18:32:05.764Z"
   },
   {
    "duration": 39,
    "start_time": "2022-02-05T18:32:05.791Z"
   },
   {
    "duration": 37,
    "start_time": "2022-02-05T18:32:05.833Z"
   },
   {
    "duration": 24,
    "start_time": "2022-02-05T18:32:05.872Z"
   },
   {
    "duration": 23,
    "start_time": "2022-02-05T18:32:05.898Z"
   },
   {
    "duration": 42,
    "start_time": "2022-02-05T18:32:05.923Z"
   },
   {
    "duration": 20,
    "start_time": "2022-02-05T18:32:05.967Z"
   },
   {
    "duration": 6,
    "start_time": "2022-02-05T18:32:05.989Z"
   },
   {
    "duration": 6,
    "start_time": "2022-02-05T18:32:05.997Z"
   },
   {
    "duration": 43,
    "start_time": "2022-02-05T18:32:06.005Z"
   },
   {
    "duration": 24,
    "start_time": "2022-02-05T18:32:06.051Z"
   },
   {
    "duration": 6,
    "start_time": "2022-02-05T18:32:06.078Z"
   },
   {
    "duration": 20,
    "start_time": "2022-02-05T18:32:06.087Z"
   },
   {
    "duration": 5,
    "start_time": "2022-02-05T18:32:06.109Z"
   },
   {
    "duration": 37,
    "start_time": "2022-02-05T18:32:06.148Z"
   },
   {
    "duration": 4,
    "start_time": "2022-02-05T18:32:06.187Z"
   },
   {
    "duration": 24,
    "start_time": "2022-02-05T18:32:06.193Z"
   },
   {
    "duration": 47,
    "start_time": "2022-02-05T18:32:06.219Z"
   },
   {
    "duration": 3,
    "start_time": "2022-02-05T18:32:06.269Z"
   },
   {
    "duration": 13,
    "start_time": "2022-02-05T18:32:06.278Z"
   },
   {
    "duration": 10,
    "start_time": "2022-02-05T18:32:06.294Z"
   },
   {
    "duration": 53,
    "start_time": "2022-02-05T18:32:06.307Z"
   },
   {
    "duration": 9,
    "start_time": "2022-02-05T18:32:06.363Z"
   },
   {
    "duration": 24,
    "start_time": "2022-02-05T18:32:06.375Z"
   },
   {
    "duration": 65,
    "start_time": "2022-02-05T18:32:06.401Z"
   },
   {
    "duration": 4,
    "start_time": "2022-02-05T18:32:06.469Z"
   },
   {
    "duration": 16,
    "start_time": "2022-02-05T18:32:06.475Z"
   },
   {
    "duration": 11,
    "start_time": "2022-02-05T18:32:06.494Z"
   },
   {
    "duration": 57,
    "start_time": "2022-02-05T18:32:06.508Z"
   },
   {
    "duration": 28,
    "start_time": "2022-02-05T18:32:06.569Z"
   },
   {
    "duration": 5,
    "start_time": "2022-02-05T18:32:06.600Z"
   },
   {
    "duration": 48,
    "start_time": "2022-02-05T18:32:06.607Z"
   },
   {
    "duration": 12,
    "start_time": "2022-02-05T18:32:06.658Z"
   },
   {
    "duration": 22,
    "start_time": "2022-02-05T18:32:06.672Z"
   },
   {
    "duration": 22,
    "start_time": "2022-02-05T18:32:06.697Z"
   },
   {
    "duration": 38,
    "start_time": "2022-02-05T18:32:06.721Z"
   },
   {
    "duration": 6,
    "start_time": "2022-02-05T18:32:06.761Z"
   },
   {
    "duration": 31,
    "start_time": "2022-02-05T18:32:06.770Z"
   },
   {
    "duration": 269,
    "start_time": "2022-02-05T18:32:06.804Z"
   },
   {
    "duration": -105313,
    "start_time": "2022-02-05T18:33:52.390Z"
   },
   {
    "duration": 5,
    "start_time": "2022-02-05T19:56:48.708Z"
   },
   {
    "duration": 24,
    "start_time": "2022-02-05T20:00:42.012Z"
   },
   {
    "duration": 9,
    "start_time": "2022-02-05T20:02:24.368Z"
   },
   {
    "duration": 31,
    "start_time": "2022-02-05T20:02:33.772Z"
   },
   {
    "duration": 51,
    "start_time": "2022-02-05T20:07:43.476Z"
   },
   {
    "duration": 19,
    "start_time": "2022-02-05T20:08:02.367Z"
   },
   {
    "duration": 3,
    "start_time": "2022-02-05T20:09:23.909Z"
   },
   {
    "duration": 14,
    "start_time": "2022-02-05T20:09:29.694Z"
   },
   {
    "duration": 60,
    "start_time": "2022-02-05T20:10:03.809Z"
   },
   {
    "duration": 4,
    "start_time": "2022-02-05T20:10:05.708Z"
   },
   {
    "duration": 16,
    "start_time": "2022-02-05T20:10:07.645Z"
   },
   {
    "duration": 9,
    "start_time": "2022-02-05T20:11:11.968Z"
   },
   {
    "duration": 24,
    "start_time": "2022-02-05T20:11:13.840Z"
   },
   {
    "duration": 13,
    "start_time": "2022-02-05T20:12:01.848Z"
   },
   {
    "duration": 25,
    "start_time": "2022-02-05T20:12:34.030Z"
   },
   {
    "duration": 17,
    "start_time": "2022-02-05T20:15:21.356Z"
   },
   {
    "duration": 38,
    "start_time": "2022-02-05T20:15:26.339Z"
   },
   {
    "duration": 9,
    "start_time": "2022-02-05T20:16:36.192Z"
   },
   {
    "duration": 15,
    "start_time": "2022-02-05T20:16:38.267Z"
   },
   {
    "duration": 11,
    "start_time": "2022-02-05T20:17:15.646Z"
   },
   {
    "duration": 15,
    "start_time": "2022-02-05T20:17:17.528Z"
   },
   {
    "duration": 9,
    "start_time": "2022-02-05T20:18:32.279Z"
   },
   {
    "duration": 16,
    "start_time": "2022-02-05T20:18:34.277Z"
   },
   {
    "duration": 15,
    "start_time": "2022-02-05T20:19:18.649Z"
   },
   {
    "duration": 10,
    "start_time": "2022-02-05T20:19:27.745Z"
   },
   {
    "duration": 85,
    "start_time": "2022-02-05T20:19:30.652Z"
   },
   {
    "duration": 10,
    "start_time": "2022-02-05T20:20:30.283Z"
   },
   {
    "duration": 17,
    "start_time": "2022-02-05T20:20:39.090Z"
   },
   {
    "duration": 8,
    "start_time": "2022-02-05T20:21:53.686Z"
   },
   {
    "duration": 10,
    "start_time": "2022-02-05T20:22:22.513Z"
   },
   {
    "duration": 17,
    "start_time": "2022-02-05T20:22:24.710Z"
   },
   {
    "duration": 16,
    "start_time": "2022-02-05T20:23:12.267Z"
   },
   {
    "duration": 13,
    "start_time": "2022-02-05T20:23:14.194Z"
   },
   {
    "duration": 22,
    "start_time": "2022-02-05T20:23:16.239Z"
   },
   {
    "duration": 5,
    "start_time": "2022-02-05T20:25:22.976Z"
   },
   {
    "duration": 24,
    "start_time": "2022-02-05T20:25:29.416Z"
   },
   {
    "duration": 7,
    "start_time": "2022-02-05T20:25:57.141Z"
   },
   {
    "duration": 6,
    "start_time": "2022-02-05T20:26:17.105Z"
   },
   {
    "duration": 5,
    "start_time": "2022-02-05T20:26:31.790Z"
   },
   {
    "duration": 19,
    "start_time": "2022-02-05T20:26:38.427Z"
   },
   {
    "duration": 11,
    "start_time": "2022-02-05T20:29:28.612Z"
   },
   {
    "duration": 31,
    "start_time": "2022-02-05T20:29:34.081Z"
   },
   {
    "duration": 11,
    "start_time": "2022-02-05T20:30:22.926Z"
   },
   {
    "duration": 32,
    "start_time": "2022-02-05T20:30:24.772Z"
   },
   {
    "duration": 18,
    "start_time": "2022-02-05T20:30:36.795Z"
   },
   {
    "duration": 32,
    "start_time": "2022-02-05T20:30:38.876Z"
   },
   {
    "duration": 11,
    "start_time": "2022-02-05T20:33:33.017Z"
   },
   {
    "duration": 37,
    "start_time": "2022-02-05T20:33:40.469Z"
   },
   {
    "duration": 36,
    "start_time": "2022-02-05T20:35:14.291Z"
   },
   {
    "duration": 13,
    "start_time": "2022-02-05T20:36:43.871Z"
   },
   {
    "duration": 16,
    "start_time": "2022-02-05T20:40:00.951Z"
   },
   {
    "duration": 18,
    "start_time": "2022-02-05T20:40:57.153Z"
   },
   {
    "duration": 23,
    "start_time": "2022-02-05T21:12:20.571Z"
   },
   {
    "duration": 84,
    "start_time": "2022-02-05T21:18:27.375Z"
   },
   {
    "duration": 92,
    "start_time": "2022-02-05T21:20:42.937Z"
   },
   {
    "duration": 89,
    "start_time": "2022-02-05T21:21:04.280Z"
   },
   {
    "duration": 6,
    "start_time": "2022-02-05T21:21:07.972Z"
   },
   {
    "duration": 294,
    "start_time": "2022-02-05T21:22:26.104Z"
   },
   {
    "duration": 41,
    "start_time": "2022-02-05T21:22:31.571Z"
   },
   {
    "duration": 5,
    "start_time": "2022-02-05T21:26:40.879Z"
   },
   {
    "duration": 41,
    "start_time": "2022-02-05T21:26:42.932Z"
   },
   {
    "duration": 6,
    "start_time": "2022-02-05T21:27:14.927Z"
   },
   {
    "duration": 7,
    "start_time": "2022-02-05T21:28:05.823Z"
   },
   {
    "duration": 53,
    "start_time": "2022-02-05T21:28:07.792Z"
   },
   {
    "duration": 5,
    "start_time": "2022-02-05T21:28:22.504Z"
   },
   {
    "duration": 542,
    "start_time": "2022-02-05T21:28:22.512Z"
   },
   {
    "duration": 27,
    "start_time": "2022-02-05T21:28:23.057Z"
   },
   {
    "duration": 21,
    "start_time": "2022-02-05T21:28:23.087Z"
   },
   {
    "duration": 44,
    "start_time": "2022-02-05T21:28:23.111Z"
   },
   {
    "duration": 15,
    "start_time": "2022-02-05T21:28:23.158Z"
   },
   {
    "duration": 13,
    "start_time": "2022-02-05T21:28:23.175Z"
   },
   {
    "duration": 10,
    "start_time": "2022-02-05T21:28:23.191Z"
   },
   {
    "duration": 68,
    "start_time": "2022-02-05T21:28:23.205Z"
   },
   {
    "duration": 29,
    "start_time": "2022-02-05T21:28:23.277Z"
   },
   {
    "duration": 49,
    "start_time": "2022-02-05T21:28:23.308Z"
   },
   {
    "duration": 28,
    "start_time": "2022-02-05T21:28:23.360Z"
   },
   {
    "duration": 23,
    "start_time": "2022-02-05T21:28:23.391Z"
   },
   {
    "duration": 46,
    "start_time": "2022-02-05T21:28:23.416Z"
   },
   {
    "duration": 6,
    "start_time": "2022-02-05T21:28:23.465Z"
   },
   {
    "duration": 11,
    "start_time": "2022-02-05T21:28:23.474Z"
   },
   {
    "duration": 7,
    "start_time": "2022-02-05T21:28:23.487Z"
   },
   {
    "duration": 15,
    "start_time": "2022-02-05T21:28:23.497Z"
   },
   {
    "duration": 36,
    "start_time": "2022-02-05T21:28:23.515Z"
   },
   {
    "duration": 61,
    "start_time": "2022-02-05T21:28:23.554Z"
   },
   {
    "duration": 4,
    "start_time": "2022-02-05T21:28:23.618Z"
   },
   {
    "duration": 15,
    "start_time": "2022-02-05T21:28:23.648Z"
   },
   {
    "duration": 10,
    "start_time": "2022-02-05T21:28:23.665Z"
   },
   {
    "duration": 29,
    "start_time": "2022-02-05T21:28:23.677Z"
   },
   {
    "duration": 61,
    "start_time": "2022-02-05T21:28:23.708Z"
   },
   {
    "duration": 4,
    "start_time": "2022-02-05T21:28:23.772Z"
   },
   {
    "duration": 13,
    "start_time": "2022-02-05T21:28:23.782Z"
   },
   {
    "duration": 10,
    "start_time": "2022-02-05T21:28:23.799Z"
   },
   {
    "duration": 54,
    "start_time": "2022-02-05T21:28:23.811Z"
   },
   {
    "duration": 27,
    "start_time": "2022-02-05T21:28:23.867Z"
   },
   {
    "duration": 4,
    "start_time": "2022-02-05T21:28:23.897Z"
   },
   {
    "duration": 47,
    "start_time": "2022-02-05T21:28:23.903Z"
   },
   {
    "duration": 13,
    "start_time": "2022-02-05T21:28:23.953Z"
   },
   {
    "duration": 24,
    "start_time": "2022-02-05T21:28:23.968Z"
   },
   {
    "duration": 11,
    "start_time": "2022-02-05T21:28:23.995Z"
   },
   {
    "duration": 39,
    "start_time": "2022-02-05T21:28:24.009Z"
   },
   {
    "duration": 21,
    "start_time": "2022-02-05T21:28:24.050Z"
   },
   {
    "duration": 5,
    "start_time": "2022-02-05T21:28:24.074Z"
   },
   {
    "duration": 10,
    "start_time": "2022-02-05T21:28:24.082Z"
   },
   {
    "duration": 12,
    "start_time": "2022-02-05T21:28:24.095Z"
   },
   {
    "duration": 8,
    "start_time": "2022-02-05T21:28:24.110Z"
   },
   {
    "duration": 14,
    "start_time": "2022-02-05T21:28:24.150Z"
   },
   {
    "duration": 30,
    "start_time": "2022-02-05T21:28:24.168Z"
   },
   {
    "duration": 53,
    "start_time": "2022-02-05T21:28:24.201Z"
   },
   {
    "duration": 37,
    "start_time": "2022-02-05T21:28:24.257Z"
   },
   {
    "duration": 14,
    "start_time": "2022-02-05T21:28:24.297Z"
   },
   {
    "duration": 41,
    "start_time": "2022-02-05T21:28:24.314Z"
   },
   {
    "duration": 24,
    "start_time": "2022-02-05T21:28:24.358Z"
   },
   {
    "duration": 7,
    "start_time": "2022-02-05T21:28:24.385Z"
   },
   {
    "duration": 332,
    "start_time": "2022-02-05T21:28:24.394Z"
   },
   {
    "duration": 4,
    "start_time": "2022-02-05T21:28:24.729Z"
   },
   {
    "duration": 52,
    "start_time": "2022-02-05T21:28:24.736Z"
   },
   {
    "duration": 281,
    "start_time": "2022-02-05T21:29:01.519Z"
   },
   {
    "duration": 6,
    "start_time": "2022-02-05T21:29:03.602Z"
   },
   {
    "duration": 44,
    "start_time": "2022-02-05T21:29:05.463Z"
   },
   {
    "duration": 6,
    "start_time": "2022-02-05T21:30:59.224Z"
   },
   {
    "duration": 7,
    "start_time": "2022-02-05T21:31:02.151Z"
   },
   {
    "duration": 45,
    "start_time": "2022-02-05T21:31:03.906Z"
   },
   {
    "duration": 4,
    "start_time": "2022-02-05T21:31:18.900Z"
   },
   {
    "duration": 560,
    "start_time": "2022-02-05T21:31:18.907Z"
   },
   {
    "duration": 31,
    "start_time": "2022-02-05T21:31:19.470Z"
   },
   {
    "duration": 28,
    "start_time": "2022-02-05T21:31:19.505Z"
   },
   {
    "duration": 26,
    "start_time": "2022-02-05T21:31:19.536Z"
   },
   {
    "duration": 12,
    "start_time": "2022-02-05T21:31:19.565Z"
   },
   {
    "duration": 15,
    "start_time": "2022-02-05T21:31:19.580Z"
   },
   {
    "duration": 10,
    "start_time": "2022-02-05T21:31:19.597Z"
   },
   {
    "duration": 42,
    "start_time": "2022-02-05T21:31:19.649Z"
   },
   {
    "duration": 53,
    "start_time": "2022-02-05T21:31:19.695Z"
   },
   {
    "duration": 44,
    "start_time": "2022-02-05T21:31:19.752Z"
   },
   {
    "duration": 49,
    "start_time": "2022-02-05T21:31:19.799Z"
   },
   {
    "duration": 37,
    "start_time": "2022-02-05T21:31:19.852Z"
   },
   {
    "duration": 40,
    "start_time": "2022-02-05T21:31:19.892Z"
   },
   {
    "duration": 15,
    "start_time": "2022-02-05T21:31:19.936Z"
   },
   {
    "duration": 7,
    "start_time": "2022-02-05T21:31:19.954Z"
   },
   {
    "duration": 5,
    "start_time": "2022-02-05T21:31:19.965Z"
   },
   {
    "duration": 7,
    "start_time": "2022-02-05T21:31:19.974Z"
   },
   {
    "duration": 6,
    "start_time": "2022-02-05T21:31:19.984Z"
   },
   {
    "duration": 97,
    "start_time": "2022-02-05T21:31:19.992Z"
   },
   {
    "duration": 5,
    "start_time": "2022-02-05T21:31:20.091Z"
   },
   {
    "duration": 19,
    "start_time": "2022-02-05T21:31:20.098Z"
   },
   {
    "duration": 34,
    "start_time": "2022-02-05T21:31:20.119Z"
   },
   {
    "duration": 23,
    "start_time": "2022-02-05T21:31:20.156Z"
   },
   {
    "duration": 38,
    "start_time": "2022-02-05T21:31:20.182Z"
   },
   {
    "duration": 29,
    "start_time": "2022-02-05T21:31:20.222Z"
   },
   {
    "duration": 15,
    "start_time": "2022-02-05T21:31:20.257Z"
   },
   {
    "duration": 13,
    "start_time": "2022-02-05T21:31:20.276Z"
   },
   {
    "duration": 66,
    "start_time": "2022-02-05T21:31:20.292Z"
   },
   {
    "duration": 40,
    "start_time": "2022-02-05T21:31:20.362Z"
   },
   {
    "duration": 5,
    "start_time": "2022-02-05T21:31:20.405Z"
   },
   {
    "duration": 51,
    "start_time": "2022-02-05T21:31:20.413Z"
   },
   {
    "duration": 11,
    "start_time": "2022-02-05T21:31:20.467Z"
   },
   {
    "duration": 26,
    "start_time": "2022-02-05T21:31:20.481Z"
   },
   {
    "duration": 41,
    "start_time": "2022-02-05T21:31:20.510Z"
   },
   {
    "duration": 12,
    "start_time": "2022-02-05T21:31:20.554Z"
   },
   {
    "duration": 31,
    "start_time": "2022-02-05T21:31:20.569Z"
   },
   {
    "duration": 5,
    "start_time": "2022-02-05T21:31:20.603Z"
   },
   {
    "duration": 39,
    "start_time": "2022-02-05T21:31:20.611Z"
   },
   {
    "duration": 10,
    "start_time": "2022-02-05T21:31:20.653Z"
   },
   {
    "duration": 7,
    "start_time": "2022-02-05T21:31:20.665Z"
   },
   {
    "duration": 14,
    "start_time": "2022-02-05T21:31:20.675Z"
   },
   {
    "duration": 70,
    "start_time": "2022-02-05T21:31:20.692Z"
   },
   {
    "duration": 16,
    "start_time": "2022-02-05T21:31:20.765Z"
   },
   {
    "duration": 64,
    "start_time": "2022-02-05T21:31:20.784Z"
   },
   {
    "duration": 19,
    "start_time": "2022-02-05T21:31:20.852Z"
   },
   {
    "duration": 22,
    "start_time": "2022-02-05T21:31:20.874Z"
   },
   {
    "duration": 54,
    "start_time": "2022-02-05T21:31:20.899Z"
   },
   {
    "duration": 8,
    "start_time": "2022-02-05T21:31:20.956Z"
   },
   {
    "duration": 308,
    "start_time": "2022-02-05T21:31:20.967Z"
   },
   {
    "duration": 6,
    "start_time": "2022-02-05T21:31:21.277Z"
   },
   {
    "duration": 6,
    "start_time": "2022-02-05T21:31:21.287Z"
   },
   {
    "duration": 68,
    "start_time": "2022-02-05T21:31:21.296Z"
   },
   {
    "duration": 6,
    "start_time": "2022-02-05T21:31:45.039Z"
   },
   {
    "duration": 36,
    "start_time": "2022-02-05T21:31:54.678Z"
   },
   {
    "duration": 41,
    "start_time": "2022-02-05T21:32:09.271Z"
   },
   {
    "duration": 394,
    "start_time": "2022-02-05T21:32:42.116Z"
   },
   {
    "duration": 5,
    "start_time": "2022-02-05T21:32:54.855Z"
   },
   {
    "duration": 5,
    "start_time": "2022-02-05T21:32:57.014Z"
   },
   {
    "duration": 6,
    "start_time": "2022-02-05T21:33:04.464Z"
   },
   {
    "duration": 42,
    "start_time": "2022-02-05T21:33:10.223Z"
   },
   {
    "duration": 3,
    "start_time": "2022-02-05T21:33:57.710Z"
   },
   {
    "duration": 13,
    "start_time": "2022-02-05T21:40:11.252Z"
   },
   {
    "duration": 247,
    "start_time": "2022-02-05T21:41:42.640Z"
   },
   {
    "duration": 8,
    "start_time": "2022-02-05T21:41:49.394Z"
   },
   {
    "duration": 11,
    "start_time": "2022-02-05T21:42:22.153Z"
   },
   {
    "duration": 8,
    "start_time": "2022-02-05T21:42:59.820Z"
   },
   {
    "duration": 2818,
    "start_time": "2022-02-05T21:46:44.723Z"
   },
   {
    "duration": 373,
    "start_time": "2022-02-05T21:48:40.468Z"
   },
   {
    "duration": 474,
    "start_time": "2022-02-05T21:51:22.564Z"
   },
   {
    "duration": 482,
    "start_time": "2022-02-05T21:52:25.483Z"
   },
   {
    "duration": 466,
    "start_time": "2022-02-05T21:55:17.979Z"
   },
   {
    "duration": 6346,
    "start_time": "2022-02-05T21:55:36.536Z"
   },
   {
    "duration": 457,
    "start_time": "2022-02-05T21:56:48.342Z"
   },
   {
    "duration": 257,
    "start_time": "2022-02-05T21:57:35.701Z"
   },
   {
    "duration": 486,
    "start_time": "2022-02-05T21:59:30.044Z"
   },
   {
    "duration": 598,
    "start_time": "2022-02-05T21:59:54.768Z"
   },
   {
    "duration": 477,
    "start_time": "2022-02-05T22:02:18.556Z"
   },
   {
    "duration": 274,
    "start_time": "2022-02-05T22:04:00.677Z"
   },
   {
    "duration": 274,
    "start_time": "2022-02-05T22:04:12.375Z"
   },
   {
    "duration": 267,
    "start_time": "2022-02-05T22:06:18.038Z"
   },
   {
    "duration": 11,
    "start_time": "2022-02-05T22:09:07.841Z"
   },
   {
    "duration": 12,
    "start_time": "2022-02-05T22:10:02.512Z"
   },
   {
    "duration": 276,
    "start_time": "2022-02-05T22:10:25.539Z"
   },
   {
    "duration": 11,
    "start_time": "2022-02-05T22:23:49.934Z"
   },
   {
    "duration": 15,
    "start_time": "2022-02-05T22:24:30.945Z"
   },
   {
    "duration": 395,
    "start_time": "2022-02-05T22:24:57.961Z"
   },
   {
    "duration": 13,
    "start_time": "2022-02-05T22:28:07.361Z"
   },
   {
    "duration": 267,
    "start_time": "2022-02-05T22:28:36.641Z"
   },
   {
    "duration": 245,
    "start_time": "2022-02-06T06:39:44.130Z"
   },
   {
    "duration": 1093,
    "start_time": "2022-02-06T06:39:49.838Z"
   },
   {
    "duration": 413,
    "start_time": "2022-02-06T06:39:50.933Z"
   },
   {
    "duration": 21,
    "start_time": "2022-02-06T06:39:51.348Z"
   },
   {
    "duration": 18,
    "start_time": "2022-02-06T06:39:51.371Z"
   },
   {
    "duration": 14,
    "start_time": "2022-02-06T06:39:51.391Z"
   },
   {
    "duration": 7,
    "start_time": "2022-02-06T06:39:51.407Z"
   },
   {
    "duration": 11,
    "start_time": "2022-02-06T06:39:51.418Z"
   },
   {
    "duration": 10,
    "start_time": "2022-02-06T06:39:51.431Z"
   },
   {
    "duration": 31,
    "start_time": "2022-02-06T06:39:51.444Z"
   },
   {
    "duration": 24,
    "start_time": "2022-02-06T06:39:51.477Z"
   },
   {
    "duration": 32,
    "start_time": "2022-02-06T06:39:51.502Z"
   },
   {
    "duration": 19,
    "start_time": "2022-02-06T06:39:51.536Z"
   },
   {
    "duration": 19,
    "start_time": "2022-02-06T06:39:51.556Z"
   },
   {
    "duration": 41,
    "start_time": "2022-02-06T06:39:51.577Z"
   },
   {
    "duration": 5,
    "start_time": "2022-02-06T06:39:51.620Z"
   },
   {
    "duration": 9,
    "start_time": "2022-02-06T06:39:51.627Z"
   },
   {
    "duration": 4,
    "start_time": "2022-02-06T06:39:51.638Z"
   },
   {
    "duration": 6,
    "start_time": "2022-02-06T06:39:51.643Z"
   },
   {
    "duration": 5,
    "start_time": "2022-02-06T06:39:51.651Z"
   },
   {
    "duration": 75,
    "start_time": "2022-02-06T06:39:51.658Z"
   },
   {
    "duration": 2,
    "start_time": "2022-02-06T06:39:51.735Z"
   },
   {
    "duration": 14,
    "start_time": "2022-02-06T06:39:51.739Z"
   },
   {
    "duration": 9,
    "start_time": "2022-02-06T06:39:51.755Z"
   },
   {
    "duration": 15,
    "start_time": "2022-02-06T06:39:51.765Z"
   },
   {
    "duration": 46,
    "start_time": "2022-02-06T06:39:51.782Z"
   },
   {
    "duration": 3,
    "start_time": "2022-02-06T06:39:51.830Z"
   },
   {
    "duration": 11,
    "start_time": "2022-02-06T06:39:51.837Z"
   },
   {
    "duration": 6,
    "start_time": "2022-02-06T06:39:51.850Z"
   },
   {
    "duration": 14,
    "start_time": "2022-02-06T06:39:51.858Z"
   },
   {
    "duration": 46,
    "start_time": "2022-02-06T06:39:51.873Z"
   },
   {
    "duration": 3,
    "start_time": "2022-02-06T06:39:51.921Z"
   },
   {
    "duration": 31,
    "start_time": "2022-02-06T06:39:51.926Z"
   },
   {
    "duration": 29,
    "start_time": "2022-02-06T06:39:51.958Z"
   },
   {
    "duration": 44,
    "start_time": "2022-02-06T06:39:51.988Z"
   },
   {
    "duration": 27,
    "start_time": "2022-02-06T06:39:52.034Z"
   },
   {
    "duration": 28,
    "start_time": "2022-02-06T06:39:52.062Z"
   },
   {
    "duration": 33,
    "start_time": "2022-02-06T06:39:52.092Z"
   },
   {
    "duration": 32,
    "start_time": "2022-02-06T06:39:52.127Z"
   },
   {
    "duration": 24,
    "start_time": "2022-02-06T06:39:52.160Z"
   },
   {
    "duration": 26,
    "start_time": "2022-02-06T06:39:52.186Z"
   },
   {
    "duration": 10,
    "start_time": "2022-02-06T06:39:52.213Z"
   },
   {
    "duration": 23,
    "start_time": "2022-02-06T06:39:52.225Z"
   },
   {
    "duration": 32,
    "start_time": "2022-02-06T06:39:52.250Z"
   },
   {
    "duration": 7,
    "start_time": "2022-02-06T06:39:52.284Z"
   },
   {
    "duration": 46,
    "start_time": "2022-02-06T06:39:52.293Z"
   },
   {
    "duration": 8,
    "start_time": "2022-02-06T06:39:52.341Z"
   },
   {
    "duration": 20,
    "start_time": "2022-02-06T06:39:52.351Z"
   },
   {
    "duration": 15,
    "start_time": "2022-02-06T06:39:52.373Z"
   },
   {
    "duration": 12,
    "start_time": "2022-02-06T06:39:52.389Z"
   },
   {
    "duration": 201,
    "start_time": "2022-02-06T06:39:52.402Z"
   },
   {
    "duration": 8,
    "start_time": "2022-02-06T06:39:52.604Z"
   },
   {
    "duration": 7,
    "start_time": "2022-02-06T06:39:52.614Z"
   },
   {
    "duration": 50,
    "start_time": "2022-02-06T06:39:52.622Z"
   },
   {
    "duration": 7,
    "start_time": "2022-02-06T06:39:52.674Z"
   },
   {
    "duration": 8,
    "start_time": "2022-02-06T06:39:52.682Z"
   },
   {
    "duration": 189,
    "start_time": "2022-02-06T06:39:52.692Z"
   },
   {
    "duration": 9,
    "start_time": "2022-02-06T06:39:52.883Z"
   },
   {
    "duration": 185,
    "start_time": "2022-02-06T06:39:52.894Z"
   },
   {
    "duration": 9,
    "start_time": "2022-02-06T06:39:53.081Z"
   },
   {
    "duration": 185,
    "start_time": "2022-02-06T06:39:53.091Z"
   },
   {
    "duration": 4,
    "start_time": "2022-02-06T07:01:39.830Z"
   },
   {
    "duration": 4,
    "start_time": "2022-02-06T07:01:50.198Z"
   },
   {
    "duration": 3,
    "start_time": "2022-02-06T07:03:53.906Z"
   },
   {
    "duration": 4,
    "start_time": "2022-02-06T07:03:59.516Z"
   },
   {
    "duration": 4,
    "start_time": "2022-02-06T07:05:35.516Z"
   },
   {
    "duration": 4,
    "start_time": "2022-02-06T07:05:37.378Z"
   },
   {
    "duration": 3,
    "start_time": "2022-02-06T07:06:07.212Z"
   },
   {
    "duration": 5,
    "start_time": "2022-02-06T07:06:13.212Z"
   },
   {
    "duration": 3,
    "start_time": "2022-02-06T07:07:26.863Z"
   },
   {
    "duration": 4,
    "start_time": "2022-02-06T07:07:33.938Z"
   },
   {
    "duration": 3,
    "start_time": "2022-02-06T07:09:41.311Z"
   },
   {
    "duration": 75,
    "start_time": "2022-02-06T07:10:19.512Z"
   },
   {
    "duration": 4,
    "start_time": "2022-02-06T07:13:37.888Z"
   },
   {
    "duration": 544,
    "start_time": "2022-02-06T07:13:54.776Z"
   },
   {
    "duration": 26,
    "start_time": "2022-02-06T07:14:16.895Z"
   },
   {
    "duration": 538,
    "start_time": "2022-02-06T07:15:34.186Z"
   },
   {
    "duration": 4,
    "start_time": "2022-02-06T07:15:56.026Z"
   },
   {
    "duration": 4,
    "start_time": "2022-02-06T07:16:03.382Z"
   },
   {
    "duration": 4,
    "start_time": "2022-02-06T07:16:08.831Z"
   },
   {
    "duration": 378,
    "start_time": "2022-02-06T07:17:14.998Z"
   },
   {
    "duration": 67,
    "start_time": "2022-02-06T07:18:17.228Z"
   },
   {
    "duration": 71,
    "start_time": "2022-02-06T07:18:40.670Z"
   },
   {
    "duration": 8,
    "start_time": "2022-02-06T07:19:19.133Z"
   },
   {
    "duration": 8,
    "start_time": "2022-02-06T07:19:21.192Z"
   },
   {
    "duration": 13,
    "start_time": "2022-02-06T07:19:57.579Z"
   },
   {
    "duration": 7,
    "start_time": "2022-02-06T07:25:09.471Z"
   },
   {
    "duration": 14,
    "start_time": "2022-02-06T07:25:48.008Z"
   },
   {
    "duration": 15,
    "start_time": "2022-02-06T07:26:49.516Z"
   },
   {
    "duration": 12,
    "start_time": "2022-02-06T07:27:09.491Z"
   },
   {
    "duration": 14,
    "start_time": "2022-02-06T07:28:51.346Z"
   },
   {
    "duration": 203,
    "start_time": "2022-02-06T07:29:44.358Z"
   },
   {
    "duration": 12,
    "start_time": "2022-02-06T07:31:46.855Z"
   },
   {
    "duration": 77,
    "start_time": "2022-02-06T07:37:29.075Z"
   },
   {
    "duration": 215,
    "start_time": "2022-02-06T07:37:55.024Z"
   },
   {
    "duration": 216,
    "start_time": "2022-02-06T07:38:23.143Z"
   },
   {
    "duration": 247,
    "start_time": "2022-02-06T07:38:50.310Z"
   },
   {
    "duration": 212,
    "start_time": "2022-02-06T07:39:09.188Z"
   },
   {
    "duration": 228,
    "start_time": "2022-02-06T07:40:49.987Z"
   },
   {
    "duration": 230,
    "start_time": "2022-02-06T07:41:35.267Z"
   },
   {
    "duration": 221,
    "start_time": "2022-02-06T07:43:53.488Z"
   },
   {
    "duration": 28,
    "start_time": "2022-02-06T07:45:54.219Z"
   },
   {
    "duration": 278,
    "start_time": "2022-02-06T07:46:22.589Z"
   },
   {
    "duration": 799,
    "start_time": "2022-02-06T07:50:24.110Z"
   },
   {
    "duration": 210,
    "start_time": "2022-02-06T07:51:40.637Z"
   },
   {
    "duration": 79,
    "start_time": "2022-02-06T07:53:05.134Z"
   },
   {
    "duration": 192,
    "start_time": "2022-02-06T07:53:09.275Z"
   },
   {
    "duration": 5690,
    "start_time": "2022-02-06T07:53:28.155Z"
   },
   {
    "duration": 353,
    "start_time": "2022-02-06T07:54:39.981Z"
   },
   {
    "duration": 214,
    "start_time": "2022-02-06T07:55:03.609Z"
   },
   {
    "duration": 302,
    "start_time": "2022-02-06T07:58:40.971Z"
   },
   {
    "duration": 196,
    "start_time": "2022-02-06T07:58:59.213Z"
   },
   {
    "duration": 285,
    "start_time": "2022-02-06T08:01:14.467Z"
   },
   {
    "duration": 1820,
    "start_time": "2022-02-06T08:01:54.149Z"
   },
   {
    "duration": 340,
    "start_time": "2022-02-06T08:02:04.434Z"
   },
   {
    "duration": 311,
    "start_time": "2022-02-06T08:03:20.483Z"
   },
   {
    "duration": 363,
    "start_time": "2022-02-06T08:03:54.819Z"
   },
   {
    "duration": 202,
    "start_time": "2022-02-06T08:05:37.114Z"
   },
   {
    "duration": 358,
    "start_time": "2022-02-06T08:05:51.298Z"
   },
   {
    "duration": 259,
    "start_time": "2022-02-06T08:05:58.267Z"
   },
   {
    "duration": 28,
    "start_time": "2022-02-06T08:07:44.098Z"
   },
   {
    "duration": 1834,
    "start_time": "2022-02-06T08:08:14.057Z"
   },
   {
    "duration": 27,
    "start_time": "2022-02-06T08:08:46.288Z"
   },
   {
    "duration": 303,
    "start_time": "2022-02-06T08:10:14.972Z"
   },
   {
    "duration": 277,
    "start_time": "2022-02-06T08:11:34.378Z"
   },
   {
    "duration": 308,
    "start_time": "2022-02-06T08:14:03.547Z"
   },
   {
    "duration": 279,
    "start_time": "2022-02-06T08:14:30.942Z"
   },
   {
    "duration": 194,
    "start_time": "2022-02-06T08:14:59.195Z"
   },
   {
    "duration": 205,
    "start_time": "2022-02-06T08:15:05.668Z"
   },
   {
    "duration": 334,
    "start_time": "2022-02-06T08:19:05.549Z"
   },
   {
    "duration": 27,
    "start_time": "2022-02-06T08:49:48.762Z"
   },
   {
    "duration": 14,
    "start_time": "2022-02-06T08:50:55.892Z"
   },
   {
    "duration": 15,
    "start_time": "2022-02-06T08:51:56.593Z"
   },
   {
    "duration": 5,
    "start_time": "2022-02-06T08:56:51.880Z"
   },
   {
    "duration": 25,
    "start_time": "2022-02-06T08:56:59.000Z"
   },
   {
    "duration": 12,
    "start_time": "2022-02-06T09:00:31.890Z"
   },
   {
    "duration": 8,
    "start_time": "2022-02-06T09:00:33.869Z"
   },
   {
    "duration": 11,
    "start_time": "2022-02-06T09:02:31.352Z"
   },
   {
    "duration": 3,
    "start_time": "2022-02-06T09:02:57.700Z"
   },
   {
    "duration": 4,
    "start_time": "2022-02-06T09:03:08.000Z"
   },
   {
    "duration": 4,
    "start_time": "2022-02-06T09:03:30.986Z"
   },
   {
    "duration": 5,
    "start_time": "2022-02-06T09:04:12.727Z"
   },
   {
    "duration": 263,
    "start_time": "2022-02-06T09:04:32.191Z"
   },
   {
    "duration": 29,
    "start_time": "2022-02-06T09:04:47.593Z"
   },
   {
    "duration": 227,
    "start_time": "2022-02-06T09:04:57.939Z"
   },
   {
    "duration": 349,
    "start_time": "2022-02-06T09:05:07.067Z"
   },
   {
    "duration": 65,
    "start_time": "2022-02-06T09:05:29.015Z"
   },
   {
    "duration": 6,
    "start_time": "2022-02-06T09:05:32.503Z"
   },
   {
    "duration": 4,
    "start_time": "2022-02-06T09:05:37.774Z"
   },
   {
    "duration": 5,
    "start_time": "2022-02-06T09:05:45.697Z"
   },
   {
    "duration": 6,
    "start_time": "2022-02-06T09:05:57.405Z"
   },
   {
    "duration": 6,
    "start_time": "2022-02-06T09:05:59.266Z"
   },
   {
    "duration": 4,
    "start_time": "2022-02-06T09:06:04.297Z"
   },
   {
    "duration": 311,
    "start_time": "2022-02-06T09:07:33.296Z"
   },
   {
    "duration": 242,
    "start_time": "2022-02-06T09:07:52.458Z"
   },
   {
    "duration": 212,
    "start_time": "2022-02-06T09:08:01.654Z"
   },
   {
    "duration": 9,
    "start_time": "2022-02-06T09:08:38.248Z"
   },
   {
    "duration": 5,
    "start_time": "2022-02-06T09:08:53.446Z"
   },
   {
    "duration": 2,
    "start_time": "2022-02-06T09:09:25.196Z"
   },
   {
    "duration": 3,
    "start_time": "2022-02-06T09:11:27.280Z"
   },
   {
    "duration": 67,
    "start_time": "2022-02-06T09:12:28.387Z"
   },
   {
    "duration": 202,
    "start_time": "2022-02-06T09:12:44.129Z"
   },
   {
    "duration": 5,
    "start_time": "2022-02-06T09:13:02.558Z"
   },
   {
    "duration": 8,
    "start_time": "2022-02-06T09:19:53.562Z"
   },
   {
    "duration": 10,
    "start_time": "2022-02-06T09:21:05.321Z"
   },
   {
    "duration": 5,
    "start_time": "2022-02-06T09:21:16.797Z"
   },
   {
    "duration": 5,
    "start_time": "2022-02-06T09:21:44.595Z"
   },
   {
    "duration": 6,
    "start_time": "2022-02-06T09:22:08.674Z"
   },
   {
    "duration": 6,
    "start_time": "2022-02-06T09:22:20.613Z"
   },
   {
    "duration": 5,
    "start_time": "2022-02-06T09:22:46.729Z"
   },
   {
    "duration": 13,
    "start_time": "2022-02-06T09:23:38.882Z"
   },
   {
    "duration": 12,
    "start_time": "2022-02-06T09:23:44.556Z"
   },
   {
    "duration": 223,
    "start_time": "2022-02-06T09:24:31.041Z"
   },
   {
    "duration": 5,
    "start_time": "2022-02-06T09:24:41.590Z"
   },
   {
    "duration": 12,
    "start_time": "2022-02-06T09:26:06.801Z"
   },
   {
    "duration": 12,
    "start_time": "2022-02-06T09:26:19.973Z"
   },
   {
    "duration": 11,
    "start_time": "2022-02-06T09:26:35.302Z"
   },
   {
    "duration": 5,
    "start_time": "2022-02-06T09:26:48.354Z"
   },
   {
    "duration": 5,
    "start_time": "2022-02-06T09:27:06.389Z"
   },
   {
    "duration": 5,
    "start_time": "2022-02-06T09:29:48.971Z"
   },
   {
    "duration": 66,
    "start_time": "2022-02-06T09:32:27.367Z"
   },
   {
    "duration": 29,
    "start_time": "2022-02-06T09:35:02.301Z"
   },
   {
    "duration": 222,
    "start_time": "2022-02-06T09:35:55.218Z"
   },
   {
    "duration": 10,
    "start_time": "2022-02-06T09:36:16.840Z"
   },
   {
    "duration": 5,
    "start_time": "2022-02-06T09:40:06.946Z"
   },
   {
    "duration": 5,
    "start_time": "2022-02-06T09:40:34.501Z"
   },
   {
    "duration": 226,
    "start_time": "2022-02-06T09:41:47.434Z"
   },
   {
    "duration": 5,
    "start_time": "2022-02-06T09:42:02.545Z"
   },
   {
    "duration": 5,
    "start_time": "2022-02-06T09:42:21.042Z"
   },
   {
    "duration": 5,
    "start_time": "2022-02-06T09:42:29.445Z"
   },
   {
    "duration": 6,
    "start_time": "2022-02-06T09:42:34.537Z"
   },
   {
    "duration": 6,
    "start_time": "2022-02-06T09:42:37.181Z"
   },
   {
    "duration": 5,
    "start_time": "2022-02-06T09:44:09.006Z"
   },
   {
    "duration": 7,
    "start_time": "2022-02-06T09:54:33.157Z"
   },
   {
    "duration": 6,
    "start_time": "2022-02-06T09:54:48.477Z"
   },
   {
    "duration": 6,
    "start_time": "2022-02-06T09:55:01.345Z"
   },
   {
    "duration": 9,
    "start_time": "2022-02-06T09:55:40.933Z"
   },
   {
    "duration": 6,
    "start_time": "2022-02-06T09:55:46.517Z"
   },
   {
    "duration": 6,
    "start_time": "2022-02-06T09:55:56.642Z"
   },
   {
    "duration": 7,
    "start_time": "2022-02-06T09:56:47.390Z"
   },
   {
    "duration": 12,
    "start_time": "2022-02-06T09:57:09.756Z"
   },
   {
    "duration": 5,
    "start_time": "2022-02-06T09:57:55.875Z"
   },
   {
    "duration": 7,
    "start_time": "2022-02-06T09:58:58.646Z"
   },
   {
    "duration": 5,
    "start_time": "2022-02-06T09:59:53.362Z"
   },
   {
    "duration": 3,
    "start_time": "2022-02-06T10:17:30.623Z"
   },
   {
    "duration": 468,
    "start_time": "2022-02-06T10:17:30.628Z"
   },
   {
    "duration": 23,
    "start_time": "2022-02-06T10:17:31.098Z"
   },
   {
    "duration": 22,
    "start_time": "2022-02-06T10:17:31.123Z"
   },
   {
    "duration": 16,
    "start_time": "2022-02-06T10:17:31.147Z"
   },
   {
    "duration": 10,
    "start_time": "2022-02-06T10:17:31.165Z"
   },
   {
    "duration": 30,
    "start_time": "2022-02-06T10:17:31.177Z"
   },
   {
    "duration": 39,
    "start_time": "2022-02-06T10:17:31.210Z"
   },
   {
    "duration": 23,
    "start_time": "2022-02-06T10:17:31.252Z"
   },
   {
    "duration": 20,
    "start_time": "2022-02-06T10:17:31.277Z"
   },
   {
    "duration": 31,
    "start_time": "2022-02-06T10:17:31.299Z"
   },
   {
    "duration": 17,
    "start_time": "2022-02-06T10:17:31.332Z"
   },
   {
    "duration": 15,
    "start_time": "2022-02-06T10:17:31.351Z"
   },
   {
    "duration": 4,
    "start_time": "2022-02-06T10:17:31.368Z"
   },
   {
    "duration": 24,
    "start_time": "2022-02-06T10:17:31.374Z"
   },
   {
    "duration": 30,
    "start_time": "2022-02-06T10:17:31.400Z"
   },
   {
    "duration": 37,
    "start_time": "2022-02-06T10:17:31.432Z"
   },
   {
    "duration": 27,
    "start_time": "2022-02-06T10:17:31.471Z"
   },
   {
    "duration": 59,
    "start_time": "2022-02-06T10:17:31.500Z"
   },
   {
    "duration": 3,
    "start_time": "2022-02-06T10:17:31.561Z"
   },
   {
    "duration": 27,
    "start_time": "2022-02-06T10:17:31.566Z"
   },
   {
    "duration": 20,
    "start_time": "2022-02-06T10:17:31.595Z"
   },
   {
    "duration": 25,
    "start_time": "2022-02-06T10:17:31.622Z"
   },
   {
    "duration": 27,
    "start_time": "2022-02-06T10:17:31.650Z"
   },
   {
    "duration": 3,
    "start_time": "2022-02-06T10:17:31.678Z"
   },
   {
    "duration": 21,
    "start_time": "2022-02-06T10:17:31.683Z"
   },
   {
    "duration": 25,
    "start_time": "2022-02-06T10:17:31.706Z"
   },
   {
    "duration": 21,
    "start_time": "2022-02-06T10:17:31.733Z"
   },
   {
    "duration": 34,
    "start_time": "2022-02-06T10:17:31.756Z"
   },
   {
    "duration": 4,
    "start_time": "2022-02-06T10:17:31.792Z"
   },
   {
    "duration": 25,
    "start_time": "2022-02-06T10:17:31.798Z"
   },
   {
    "duration": 17,
    "start_time": "2022-02-06T10:17:31.824Z"
   },
   {
    "duration": 17,
    "start_time": "2022-02-06T10:17:31.842Z"
   },
   {
    "duration": 13,
    "start_time": "2022-02-06T10:17:31.861Z"
   },
   {
    "duration": 16,
    "start_time": "2022-02-06T10:17:31.876Z"
   },
   {
    "duration": 28,
    "start_time": "2022-02-06T10:17:31.894Z"
   },
   {
    "duration": 12,
    "start_time": "2022-02-06T10:17:31.924Z"
   },
   {
    "duration": 29,
    "start_time": "2022-02-06T10:17:31.937Z"
   },
   {
    "duration": 12,
    "start_time": "2022-02-06T10:17:31.968Z"
   },
   {
    "duration": 10,
    "start_time": "2022-02-06T10:17:31.981Z"
   },
   {
    "duration": 12,
    "start_time": "2022-02-06T10:17:31.993Z"
   },
   {
    "duration": 21,
    "start_time": "2022-02-06T10:17:32.007Z"
   },
   {
    "duration": 7,
    "start_time": "2022-02-06T10:17:32.030Z"
   },
   {
    "duration": 31,
    "start_time": "2022-02-06T10:17:32.039Z"
   },
   {
    "duration": 8,
    "start_time": "2022-02-06T10:17:32.072Z"
   },
   {
    "duration": 19,
    "start_time": "2022-02-06T10:17:32.081Z"
   },
   {
    "duration": 25,
    "start_time": "2022-02-06T10:17:32.101Z"
   },
   {
    "duration": 10,
    "start_time": "2022-02-06T10:17:32.128Z"
   },
   {
    "duration": 189,
    "start_time": "2022-02-06T10:17:32.139Z"
   },
   {
    "duration": 3,
    "start_time": "2022-02-06T10:17:32.330Z"
   },
   {
    "duration": 6,
    "start_time": "2022-02-06T10:17:32.335Z"
   },
   {
    "duration": 32,
    "start_time": "2022-02-06T10:17:32.342Z"
   },
   {
    "duration": 8,
    "start_time": "2022-02-06T10:17:32.376Z"
   },
   {
    "duration": 34,
    "start_time": "2022-02-06T10:17:32.386Z"
   },
   {
    "duration": 16,
    "start_time": "2022-02-06T10:17:32.422Z"
   },
   {
    "duration": 188,
    "start_time": "2022-02-06T10:17:32.440Z"
   },
   {
    "duration": 317,
    "start_time": "2022-02-06T10:17:32.630Z"
   },
   {
    "duration": 299,
    "start_time": "2022-02-06T10:17:32.949Z"
   },
   {
    "duration": 10,
    "start_time": "2022-02-06T10:17:33.250Z"
   },
   {
    "duration": 16,
    "start_time": "2022-02-06T10:17:33.262Z"
   },
   {
    "duration": 190,
    "start_time": "2022-02-06T10:17:33.280Z"
   },
   {
    "duration": 295,
    "start_time": "2022-02-06T10:17:33.472Z"
   },
   {
    "duration": 280,
    "start_time": "2022-02-06T10:17:33.769Z"
   },
   {
    "duration": 9,
    "start_time": "2022-02-06T10:17:34.050Z"
   },
   {
    "duration": 13,
    "start_time": "2022-02-06T10:17:34.061Z"
   },
   {
    "duration": 203,
    "start_time": "2022-02-06T10:17:34.075Z"
   },
   {
    "duration": 256,
    "start_time": "2022-02-06T10:17:34.280Z"
   },
   {
    "duration": 222,
    "start_time": "2022-02-06T10:17:34.542Z"
   },
   {
    "duration": 2,
    "start_time": "2022-02-06T10:17:34.767Z"
   },
   {
    "duration": 17,
    "start_time": "2022-02-06T10:17:34.771Z"
   },
   {
    "duration": 8,
    "start_time": "2022-02-06T10:17:34.790Z"
   },
   {
    "duration": 26,
    "start_time": "2022-02-06T10:17:34.800Z"
   },
   {
    "duration": 8,
    "start_time": "2022-02-06T10:17:34.828Z"
   },
   {
    "duration": 8,
    "start_time": "2022-02-06T10:17:34.838Z"
   },
   {
    "duration": 7,
    "start_time": "2022-02-06T10:17:34.847Z"
   },
   {
    "duration": 9,
    "start_time": "2022-02-06T10:17:34.856Z"
   },
   {
    "duration": 12,
    "start_time": "2022-02-06T10:17:34.866Z"
   },
   {
    "duration": 41,
    "start_time": "2022-02-06T10:17:34.880Z"
   },
   {
    "duration": 6,
    "start_time": "2022-02-06T10:17:34.923Z"
   },
   {
    "duration": 8,
    "start_time": "2022-02-06T10:17:34.931Z"
   },
   {
    "duration": 7,
    "start_time": "2022-02-06T10:17:34.940Z"
   },
   {
    "duration": 13,
    "start_time": "2022-02-06T10:17:49.200Z"
   },
   {
    "duration": 1012,
    "start_time": "2022-02-12T18:28:54.276Z"
   },
   {
    "duration": 340,
    "start_time": "2022-02-12T18:28:55.290Z"
   },
   {
    "duration": 20,
    "start_time": "2022-02-12T18:28:55.632Z"
   },
   {
    "duration": 15,
    "start_time": "2022-02-12T18:28:55.654Z"
   },
   {
    "duration": 12,
    "start_time": "2022-02-12T18:28:55.671Z"
   },
   {
    "duration": 6,
    "start_time": "2022-02-12T18:28:55.685Z"
   },
   {
    "duration": 34,
    "start_time": "2022-02-12T18:28:55.693Z"
   },
   {
    "duration": 25,
    "start_time": "2022-02-12T18:28:55.730Z"
   },
   {
    "duration": 19,
    "start_time": "2022-02-12T18:28:55.757Z"
   },
   {
    "duration": 16,
    "start_time": "2022-02-12T18:28:55.778Z"
   },
   {
    "duration": 31,
    "start_time": "2022-02-12T18:28:55.796Z"
   },
   {
    "duration": 17,
    "start_time": "2022-02-12T18:28:55.828Z"
   },
   {
    "duration": 13,
    "start_time": "2022-02-12T18:28:55.846Z"
   },
   {
    "duration": 13,
    "start_time": "2022-02-12T18:28:55.860Z"
   },
   {
    "duration": 5,
    "start_time": "2022-02-12T18:28:55.874Z"
   },
   {
    "duration": 2,
    "start_time": "2022-02-12T18:28:55.881Z"
   },
   {
    "duration": 4,
    "start_time": "2022-02-12T18:28:55.885Z"
   },
   {
    "duration": 5,
    "start_time": "2022-02-12T18:28:55.890Z"
   },
   {
    "duration": 91,
    "start_time": "2022-02-12T18:28:55.896Z"
   },
   {
    "duration": 3,
    "start_time": "2022-02-12T18:28:55.989Z"
   },
   {
    "duration": 14,
    "start_time": "2022-02-12T18:28:55.993Z"
   },
   {
    "duration": 9,
    "start_time": "2022-02-12T18:28:56.009Z"
   },
   {
    "duration": 13,
    "start_time": "2022-02-12T18:28:56.026Z"
   },
   {
    "duration": 23,
    "start_time": "2022-02-12T18:28:56.041Z"
   },
   {
    "duration": 4,
    "start_time": "2022-02-12T18:28:56.065Z"
   },
   {
    "duration": 10,
    "start_time": "2022-02-12T18:28:56.070Z"
   },
   {
    "duration": 7,
    "start_time": "2022-02-12T18:28:56.081Z"
   },
   {
    "duration": 47,
    "start_time": "2022-02-12T18:28:56.089Z"
   },
   {
    "duration": 19,
    "start_time": "2022-02-12T18:28:56.138Z"
   },
   {
    "duration": 3,
    "start_time": "2022-02-12T18:28:56.159Z"
   },
   {
    "duration": 11,
    "start_time": "2022-02-12T18:28:56.163Z"
   },
   {
    "duration": 9,
    "start_time": "2022-02-12T18:28:56.175Z"
   },
   {
    "duration": 14,
    "start_time": "2022-02-12T18:28:56.185Z"
   },
   {
    "duration": 35,
    "start_time": "2022-02-12T18:28:56.200Z"
   },
   {
    "duration": 14,
    "start_time": "2022-02-12T18:28:56.237Z"
   },
   {
    "duration": 14,
    "start_time": "2022-02-12T18:28:56.252Z"
   },
   {
    "duration": 3,
    "start_time": "2022-02-12T18:28:56.267Z"
   },
   {
    "duration": 4,
    "start_time": "2022-02-12T18:28:56.272Z"
   },
   {
    "duration": 4,
    "start_time": "2022-02-12T18:28:56.278Z"
   },
   {
    "duration": 6,
    "start_time": "2022-02-12T18:28:56.283Z"
   },
   {
    "duration": 7,
    "start_time": "2022-02-12T18:28:56.290Z"
   },
   {
    "duration": 36,
    "start_time": "2022-02-12T18:28:56.299Z"
   },
   {
    "duration": 5,
    "start_time": "2022-02-12T18:28:56.337Z"
   },
   {
    "duration": 25,
    "start_time": "2022-02-12T18:28:56.344Z"
   },
   {
    "duration": 8,
    "start_time": "2022-02-12T18:28:56.370Z"
   },
   {
    "duration": 12,
    "start_time": "2022-02-12T18:28:56.380Z"
   },
   {
    "duration": 47,
    "start_time": "2022-02-12T18:28:56.394Z"
   },
   {
    "duration": 14,
    "start_time": "2022-02-12T18:28:56.443Z"
   },
   {
    "duration": 159,
    "start_time": "2022-02-12T18:28:56.458Z"
   },
   {
    "duration": 7,
    "start_time": "2022-02-12T18:28:56.618Z"
   },
   {
    "duration": 3,
    "start_time": "2022-02-12T18:28:56.626Z"
   },
   {
    "duration": 26,
    "start_time": "2022-02-12T18:28:56.630Z"
   },
   {
    "duration": 6,
    "start_time": "2022-02-12T18:28:56.657Z"
   },
   {
    "duration": 8,
    "start_time": "2022-02-12T18:28:56.664Z"
   },
   {
    "duration": 15,
    "start_time": "2022-02-12T18:28:56.673Z"
   },
   {
    "duration": 184,
    "start_time": "2022-02-12T18:28:56.690Z"
   },
   {
    "duration": 416,
    "start_time": "2022-02-12T18:28:56.876Z"
   },
   {
    "duration": 270,
    "start_time": "2022-02-12T18:28:57.294Z"
   },
   {
    "duration": 6,
    "start_time": "2022-02-12T18:28:57.566Z"
   },
   {
    "duration": 9,
    "start_time": "2022-02-12T18:28:57.574Z"
   },
   {
    "duration": 219,
    "start_time": "2022-02-12T18:28:57.585Z"
   },
   {
    "duration": 402,
    "start_time": "2022-02-12T18:28:57.805Z"
   },
   {
    "duration": 432,
    "start_time": "2022-02-12T18:28:58.209Z"
   },
   {
    "duration": 10,
    "start_time": "2022-02-12T18:28:58.643Z"
   },
   {
    "duration": 18,
    "start_time": "2022-02-12T18:28:58.655Z"
   },
   {
    "duration": 195,
    "start_time": "2022-02-12T18:28:58.675Z"
   },
   {
    "duration": 261,
    "start_time": "2022-02-12T18:28:58.871Z"
   },
   {
    "duration": 187,
    "start_time": "2022-02-12T18:28:59.136Z"
   },
   {
    "duration": 3,
    "start_time": "2022-02-12T18:28:59.326Z"
   },
   {
    "duration": 13,
    "start_time": "2022-02-12T18:28:59.330Z"
   },
   {
    "duration": 6,
    "start_time": "2022-02-12T18:28:59.344Z"
   },
   {
    "duration": 8,
    "start_time": "2022-02-12T18:28:59.351Z"
   },
   {
    "duration": 4,
    "start_time": "2022-02-12T18:28:59.360Z"
   },
   {
    "duration": 5,
    "start_time": "2022-02-12T18:28:59.366Z"
   },
   {
    "duration": 5,
    "start_time": "2022-02-12T18:28:59.373Z"
   },
   {
    "duration": 7,
    "start_time": "2022-02-12T18:28:59.379Z"
   },
   {
    "duration": 40,
    "start_time": "2022-02-12T18:28:59.387Z"
   },
   {
    "duration": 10,
    "start_time": "2022-02-12T18:28:59.429Z"
   },
   {
    "duration": 4,
    "start_time": "2022-02-12T18:28:59.440Z"
   },
   {
    "duration": 6,
    "start_time": "2022-02-12T18:28:59.445Z"
   },
   {
    "duration": 5,
    "start_time": "2022-02-12T18:28:59.452Z"
   },
   {
    "duration": 3,
    "start_time": "2022-02-12T18:31:37.835Z"
   },
   {
    "duration": 590,
    "start_time": "2022-02-12T18:31:46.005Z"
   },
   {
    "duration": 4,
    "start_time": "2022-02-12T18:31:53.344Z"
   },
   {
    "duration": 17,
    "start_time": "2022-02-12T18:34:57.371Z"
   },
   {
    "duration": 4,
    "start_time": "2022-02-12T18:37:09.719Z"
   },
   {
    "duration": 12,
    "start_time": "2022-02-12T18:37:24.810Z"
   },
   {
    "duration": 3,
    "start_time": "2022-02-12T18:37:27.610Z"
   },
   {
    "duration": 3,
    "start_time": "2022-02-12T18:38:20.580Z"
   },
   {
    "duration": 247,
    "start_time": "2022-02-12T18:46:47.377Z"
   },
   {
    "duration": 940,
    "start_time": "2022-02-12T18:46:57.504Z"
   },
   {
    "duration": 388,
    "start_time": "2022-02-12T18:46:58.445Z"
   },
   {
    "duration": 20,
    "start_time": "2022-02-12T18:46:58.835Z"
   },
   {
    "duration": 15,
    "start_time": "2022-02-12T18:46:58.857Z"
   },
   {
    "duration": 14,
    "start_time": "2022-02-12T18:46:58.873Z"
   },
   {
    "duration": 7,
    "start_time": "2022-02-12T18:46:58.888Z"
   },
   {
    "duration": 9,
    "start_time": "2022-02-12T18:46:58.896Z"
   },
   {
    "duration": 26,
    "start_time": "2022-02-12T18:46:58.906Z"
   },
   {
    "duration": 42,
    "start_time": "2022-02-12T18:46:58.934Z"
   },
   {
    "duration": 18,
    "start_time": "2022-02-12T18:46:58.978Z"
   },
   {
    "duration": 16,
    "start_time": "2022-02-12T18:46:58.998Z"
   },
   {
    "duration": 16,
    "start_time": "2022-02-12T18:46:59.015Z"
   },
   {
    "duration": 37,
    "start_time": "2022-02-12T18:46:59.033Z"
   },
   {
    "duration": 4,
    "start_time": "2022-02-12T18:46:59.072Z"
   },
   {
    "duration": 8,
    "start_time": "2022-02-12T18:46:59.077Z"
   },
   {
    "duration": 3,
    "start_time": "2022-02-12T18:46:59.087Z"
   },
   {
    "duration": 6,
    "start_time": "2022-02-12T18:46:59.091Z"
   },
   {
    "duration": 7,
    "start_time": "2022-02-12T18:46:59.098Z"
   },
   {
    "duration": 79,
    "start_time": "2022-02-12T18:46:59.106Z"
   },
   {
    "duration": 3,
    "start_time": "2022-02-12T18:46:59.186Z"
   },
   {
    "duration": 14,
    "start_time": "2022-02-12T18:46:59.190Z"
   },
   {
    "duration": 5,
    "start_time": "2022-02-12T18:46:59.206Z"
   },
   {
    "duration": 13,
    "start_time": "2022-02-12T18:46:59.213Z"
   },
   {
    "duration": 53,
    "start_time": "2022-02-12T18:46:59.227Z"
   },
   {
    "duration": 2,
    "start_time": "2022-02-12T18:46:59.282Z"
   },
   {
    "duration": 12,
    "start_time": "2022-02-12T18:46:59.285Z"
   },
   {
    "duration": 7,
    "start_time": "2022-02-12T18:46:59.300Z"
   },
   {
    "duration": 15,
    "start_time": "2022-02-12T18:46:59.308Z"
   },
   {
    "duration": 42,
    "start_time": "2022-02-12T18:46:59.325Z"
   },
   {
    "duration": 3,
    "start_time": "2022-02-12T18:46:59.369Z"
   },
   {
    "duration": 12,
    "start_time": "2022-02-12T18:46:59.374Z"
   },
   {
    "duration": 9,
    "start_time": "2022-02-12T18:46:59.387Z"
   },
   {
    "duration": 14,
    "start_time": "2022-02-12T18:46:59.398Z"
   },
   {
    "duration": 9,
    "start_time": "2022-02-12T18:46:59.414Z"
   },
   {
    "duration": 34,
    "start_time": "2022-02-12T18:46:59.425Z"
   },
   {
    "duration": 14,
    "start_time": "2022-02-12T18:46:59.461Z"
   },
   {
    "duration": 3,
    "start_time": "2022-02-12T18:46:59.477Z"
   },
   {
    "duration": 6,
    "start_time": "2022-02-12T18:46:59.481Z"
   },
   {
    "duration": 7,
    "start_time": "2022-02-12T18:46:59.488Z"
   },
   {
    "duration": 5,
    "start_time": "2022-02-12T18:46:59.496Z"
   },
   {
    "duration": 9,
    "start_time": "2022-02-12T18:46:59.502Z"
   },
   {
    "duration": 16,
    "start_time": "2022-02-12T18:46:59.513Z"
   },
   {
    "duration": 33,
    "start_time": "2022-02-12T18:46:59.530Z"
   },
   {
    "duration": 24,
    "start_time": "2022-02-12T18:46:59.565Z"
   },
   {
    "duration": 7,
    "start_time": "2022-02-12T18:46:59.591Z"
   },
   {
    "duration": 10,
    "start_time": "2022-02-12T18:46:59.600Z"
   },
   {
    "duration": 15,
    "start_time": "2022-02-12T18:46:59.612Z"
   },
   {
    "duration": 34,
    "start_time": "2022-02-12T18:46:59.628Z"
   },
   {
    "duration": 171,
    "start_time": "2022-02-12T18:46:59.664Z"
   },
   {
    "duration": 5,
    "start_time": "2022-02-12T18:46:59.837Z"
   },
   {
    "duration": 5,
    "start_time": "2022-02-12T18:46:59.843Z"
   },
   {
    "duration": 33,
    "start_time": "2022-02-12T18:46:59.849Z"
   },
   {
    "duration": 7,
    "start_time": "2022-02-12T18:46:59.884Z"
   },
   {
    "duration": 5,
    "start_time": "2022-02-12T18:46:59.892Z"
   },
   {
    "duration": 13,
    "start_time": "2022-02-12T18:46:59.899Z"
   },
   {
    "duration": 214,
    "start_time": "2022-02-12T18:46:59.914Z"
   },
   {
    "duration": 282,
    "start_time": "2022-02-12T18:47:02.918Z"
   },
   {
    "duration": 12,
    "start_time": "2022-02-12T19:28:43.590Z"
   },
   {
    "duration": 20,
    "start_time": "2022-02-12T19:29:42.179Z"
   },
   {
    "duration": 16,
    "start_time": "2022-02-12T19:29:49.391Z"
   },
   {
    "duration": 10,
    "start_time": "2022-02-12T19:30:32.778Z"
   },
   {
    "duration": 20,
    "start_time": "2022-02-12T19:32:43.913Z"
   },
   {
    "duration": 21,
    "start_time": "2022-02-12T19:32:51.739Z"
   },
   {
    "duration": 11,
    "start_time": "2022-02-12T19:33:00.042Z"
   },
   {
    "duration": 20,
    "start_time": "2022-02-12T19:33:02.932Z"
   },
   {
    "duration": 9,
    "start_time": "2022-02-12T19:33:05.167Z"
   },
   {
    "duration": 3,
    "start_time": "2022-02-12T19:33:08.355Z"
   },
   {
    "duration": 452,
    "start_time": "2022-02-12T19:33:08.359Z"
   },
   {
    "duration": 21,
    "start_time": "2022-02-12T19:33:08.813Z"
   },
   {
    "duration": 18,
    "start_time": "2022-02-12T19:33:08.836Z"
   },
   {
    "duration": 14,
    "start_time": "2022-02-12T19:33:08.856Z"
   },
   {
    "duration": 6,
    "start_time": "2022-02-12T19:33:08.872Z"
   },
   {
    "duration": 8,
    "start_time": "2022-02-12T19:33:08.880Z"
   },
   {
    "duration": 25,
    "start_time": "2022-02-12T19:33:08.891Z"
   },
   {
    "duration": 48,
    "start_time": "2022-02-12T19:33:08.918Z"
   },
   {
    "duration": 9,
    "start_time": "2022-02-12T19:33:08.967Z"
   },
   {
    "duration": 21,
    "start_time": "2022-02-12T19:33:08.977Z"
   },
   {
    "duration": 16,
    "start_time": "2022-02-12T19:33:09.000Z"
   },
   {
    "duration": 16,
    "start_time": "2022-02-12T19:33:09.017Z"
   },
   {
    "duration": 35,
    "start_time": "2022-02-12T19:33:09.034Z"
   },
   {
    "duration": 4,
    "start_time": "2022-02-12T19:33:09.071Z"
   },
   {
    "duration": 5,
    "start_time": "2022-02-12T19:33:09.076Z"
   },
   {
    "duration": 4,
    "start_time": "2022-02-12T19:33:09.083Z"
   },
   {
    "duration": 6,
    "start_time": "2022-02-12T19:33:09.088Z"
   },
   {
    "duration": 5,
    "start_time": "2022-02-12T19:33:09.095Z"
   },
   {
    "duration": 78,
    "start_time": "2022-02-12T19:33:09.101Z"
   },
   {
    "duration": 2,
    "start_time": "2022-02-12T19:33:09.181Z"
   },
   {
    "duration": 14,
    "start_time": "2022-02-12T19:33:09.185Z"
   },
   {
    "duration": 6,
    "start_time": "2022-02-12T19:33:09.203Z"
   },
   {
    "duration": 16,
    "start_time": "2022-02-12T19:33:09.211Z"
   },
   {
    "duration": 56,
    "start_time": "2022-02-12T19:33:09.229Z"
   },
   {
    "duration": 3,
    "start_time": "2022-02-12T19:33:09.287Z"
   },
   {
    "duration": 12,
    "start_time": "2022-02-12T19:33:09.291Z"
   },
   {
    "duration": 7,
    "start_time": "2022-02-12T19:33:09.305Z"
   },
   {
    "duration": 15,
    "start_time": "2022-02-12T19:33:09.313Z"
   },
   {
    "duration": 37,
    "start_time": "2022-02-12T19:33:09.330Z"
   },
   {
    "duration": 2,
    "start_time": "2022-02-12T19:33:09.369Z"
   },
   {
    "duration": 11,
    "start_time": "2022-02-12T19:33:09.372Z"
   },
   {
    "duration": 8,
    "start_time": "2022-02-12T19:33:09.384Z"
   },
   {
    "duration": 13,
    "start_time": "2022-02-12T19:33:09.394Z"
   },
   {
    "duration": 168,
    "start_time": "2022-02-12T19:33:09.408Z"
   },
   {
    "duration": -111620,
    "start_time": "2022-02-12T19:35:01.198Z"
   },
   {
    "duration": -111622,
    "start_time": "2022-02-12T19:35:01.201Z"
   },
   {
    "duration": -111625,
    "start_time": "2022-02-12T19:35:01.204Z"
   },
   {
    "duration": -111626,
    "start_time": "2022-02-12T19:35:01.206Z"
   },
   {
    "duration": -111628,
    "start_time": "2022-02-12T19:35:01.209Z"
   },
   {
    "duration": -111630,
    "start_time": "2022-02-12T19:35:01.212Z"
   },
   {
    "duration": -111641,
    "start_time": "2022-02-12T19:35:01.224Z"
   },
   {
    "duration": -111642,
    "start_time": "2022-02-12T19:35:01.226Z"
   },
   {
    "duration": -111644,
    "start_time": "2022-02-12T19:35:01.229Z"
   },
   {
    "duration": -111646,
    "start_time": "2022-02-12T19:35:01.232Z"
   },
   {
    "duration": -111648,
    "start_time": "2022-02-12T19:35:01.235Z"
   },
   {
    "duration": -111649,
    "start_time": "2022-02-12T19:35:01.237Z"
   },
   {
    "duration": -111651,
    "start_time": "2022-02-12T19:35:01.240Z"
   },
   {
    "duration": -111653,
    "start_time": "2022-02-12T19:35:01.243Z"
   },
   {
    "duration": -111669,
    "start_time": "2022-02-12T19:35:01.260Z"
   },
   {
    "duration": -111672,
    "start_time": "2022-02-12T19:35:01.264Z"
   },
   {
    "duration": -111676,
    "start_time": "2022-02-12T19:35:01.269Z"
   },
   {
    "duration": -111679,
    "start_time": "2022-02-12T19:35:01.272Z"
   },
   {
    "duration": -111682,
    "start_time": "2022-02-12T19:35:01.276Z"
   },
   {
    "duration": -111686,
    "start_time": "2022-02-12T19:35:01.281Z"
   },
   {
    "duration": -111688,
    "start_time": "2022-02-12T19:35:01.284Z"
   },
   {
    "duration": -111690,
    "start_time": "2022-02-12T19:35:01.287Z"
   },
   {
    "duration": -111692,
    "start_time": "2022-02-12T19:35:01.290Z"
   },
   {
    "duration": -111694,
    "start_time": "2022-02-12T19:35:01.293Z"
   },
   {
    "duration": -111696,
    "start_time": "2022-02-12T19:35:01.296Z"
   },
   {
    "duration": -111698,
    "start_time": "2022-02-12T19:35:01.299Z"
   },
   {
    "duration": -111700,
    "start_time": "2022-02-12T19:35:01.302Z"
   },
   {
    "duration": -111702,
    "start_time": "2022-02-12T19:35:01.305Z"
   },
   {
    "duration": -111706,
    "start_time": "2022-02-12T19:35:01.310Z"
   },
   {
    "duration": -111709,
    "start_time": "2022-02-12T19:35:01.314Z"
   },
   {
    "duration": -111711,
    "start_time": "2022-02-12T19:35:01.317Z"
   },
   {
    "duration": -111712,
    "start_time": "2022-02-12T19:35:01.319Z"
   },
   {
    "duration": -111715,
    "start_time": "2022-02-12T19:35:01.322Z"
   },
   {
    "duration": -111717,
    "start_time": "2022-02-12T19:35:01.325Z"
   },
   {
    "duration": -111720,
    "start_time": "2022-02-12T19:35:01.329Z"
   },
   {
    "duration": -111722,
    "start_time": "2022-02-12T19:35:01.332Z"
   },
   {
    "duration": -111724,
    "start_time": "2022-02-12T19:35:01.335Z"
   },
   {
    "duration": -111679,
    "start_time": "2022-02-12T19:35:01.337Z"
   },
   {
    "duration": -111682,
    "start_time": "2022-02-12T19:35:01.341Z"
   },
   {
    "duration": -111684,
    "start_time": "2022-02-12T19:35:01.344Z"
   },
   {
    "duration": -111686,
    "start_time": "2022-02-12T19:35:01.347Z"
   },
   {
    "duration": -111688,
    "start_time": "2022-02-12T19:35:01.350Z"
   },
   {
    "duration": -111690,
    "start_time": "2022-02-12T19:35:01.353Z"
   },
   {
    "duration": -111693,
    "start_time": "2022-02-12T19:35:01.357Z"
   },
   {
    "duration": -111705,
    "start_time": "2022-02-12T19:35:01.370Z"
   },
   {
    "duration": -111711,
    "start_time": "2022-02-12T19:35:01.377Z"
   },
   {
    "duration": -111715,
    "start_time": "2022-02-12T19:35:01.382Z"
   },
   {
    "duration": 39,
    "start_time": "2022-02-12T19:33:46.722Z"
   },
   {
    "duration": 10,
    "start_time": "2022-02-12T19:35:32.392Z"
   },
   {
    "duration": 126,
    "start_time": "2022-02-12T19:36:04.626Z"
   },
   {
    "duration": 125,
    "start_time": "2022-02-12T19:37:28.467Z"
   },
   {
    "duration": 135,
    "start_time": "2022-02-12T19:37:39.544Z"
   },
   {
    "duration": 1014,
    "start_time": "2022-02-12T19:37:58.255Z"
   },
   {
    "duration": 360,
    "start_time": "2022-02-12T19:37:59.271Z"
   },
   {
    "duration": 20,
    "start_time": "2022-02-12T19:37:59.633Z"
   },
   {
    "duration": 16,
    "start_time": "2022-02-12T19:37:59.655Z"
   },
   {
    "duration": 15,
    "start_time": "2022-02-12T19:37:59.672Z"
   },
   {
    "duration": 9,
    "start_time": "2022-02-12T19:37:59.689Z"
   },
   {
    "duration": 10,
    "start_time": "2022-02-12T19:37:59.700Z"
   },
   {
    "duration": 29,
    "start_time": "2022-02-12T19:37:59.712Z"
   },
   {
    "duration": 33,
    "start_time": "2022-02-12T19:37:59.743Z"
   },
   {
    "duration": 12,
    "start_time": "2022-02-12T19:37:59.778Z"
   },
   {
    "duration": 17,
    "start_time": "2022-02-12T19:37:59.792Z"
   },
   {
    "duration": 16,
    "start_time": "2022-02-12T19:37:59.811Z"
   },
   {
    "duration": 41,
    "start_time": "2022-02-12T19:37:59.828Z"
   },
   {
    "duration": 15,
    "start_time": "2022-02-12T19:37:59.871Z"
   },
   {
    "duration": 2,
    "start_time": "2022-02-12T19:37:59.888Z"
   },
   {
    "duration": 12,
    "start_time": "2022-02-12T19:37:59.891Z"
   },
   {
    "duration": 223,
    "start_time": "2022-02-12T19:37:59.905Z"
   },
   {
    "duration": -111876,
    "start_time": "2022-02-12T19:39:52.008Z"
   },
   {
    "duration": -111880,
    "start_time": "2022-02-12T19:39:52.012Z"
   },
   {
    "duration": -111883,
    "start_time": "2022-02-12T19:39:52.016Z"
   },
   {
    "duration": -111886,
    "start_time": "2022-02-12T19:39:52.020Z"
   },
   {
    "duration": -111898,
    "start_time": "2022-02-12T19:39:52.033Z"
   },
   {
    "duration": -111900,
    "start_time": "2022-02-12T19:39:52.036Z"
   },
   {
    "duration": -111902,
    "start_time": "2022-02-12T19:39:52.039Z"
   },
   {
    "duration": -111904,
    "start_time": "2022-02-12T19:39:52.042Z"
   },
   {
    "duration": -111906,
    "start_time": "2022-02-12T19:39:52.045Z"
   },
   {
    "duration": -111909,
    "start_time": "2022-02-12T19:39:52.049Z"
   },
   {
    "duration": -111912,
    "start_time": "2022-02-12T19:39:52.053Z"
   },
   {
    "duration": -111914,
    "start_time": "2022-02-12T19:39:52.056Z"
   },
   {
    "duration": -111917,
    "start_time": "2022-02-12T19:39:52.059Z"
   },
   {
    "duration": -111919,
    "start_time": "2022-02-12T19:39:52.062Z"
   },
   {
    "duration": -111921,
    "start_time": "2022-02-12T19:39:52.065Z"
   },
   {
    "duration": -111924,
    "start_time": "2022-02-12T19:39:52.069Z"
   },
   {
    "duration": -111926,
    "start_time": "2022-02-12T19:39:52.072Z"
   },
   {
    "duration": -111928,
    "start_time": "2022-02-12T19:39:52.075Z"
   },
   {
    "duration": -111930,
    "start_time": "2022-02-12T19:39:52.078Z"
   },
   {
    "duration": -111932,
    "start_time": "2022-02-12T19:39:52.081Z"
   },
   {
    "duration": -111934,
    "start_time": "2022-02-12T19:39:52.085Z"
   },
   {
    "duration": -111937,
    "start_time": "2022-02-12T19:39:52.089Z"
   },
   {
    "duration": -111939,
    "start_time": "2022-02-12T19:39:52.093Z"
   },
   {
    "duration": -111941,
    "start_time": "2022-02-12T19:39:52.096Z"
   },
   {
    "duration": -111943,
    "start_time": "2022-02-12T19:39:52.099Z"
   },
   {
    "duration": -111945,
    "start_time": "2022-02-12T19:39:52.102Z"
   },
   {
    "duration": -111946,
    "start_time": "2022-02-12T19:39:52.105Z"
   },
   {
    "duration": -111948,
    "start_time": "2022-02-12T19:39:52.108Z"
   },
   {
    "duration": -111951,
    "start_time": "2022-02-12T19:39:52.112Z"
   },
   {
    "duration": -111954,
    "start_time": "2022-02-12T19:39:52.116Z"
   },
   {
    "duration": -111956,
    "start_time": "2022-02-12T19:39:52.119Z"
   },
   {
    "duration": -111957,
    "start_time": "2022-02-12T19:39:52.121Z"
   },
   {
    "duration": -111961,
    "start_time": "2022-02-12T19:39:52.126Z"
   },
   {
    "duration": -111978,
    "start_time": "2022-02-12T19:39:52.144Z"
   },
   {
    "duration": -111983,
    "start_time": "2022-02-12T19:39:52.150Z"
   },
   {
    "duration": -111987,
    "start_time": "2022-02-12T19:39:52.155Z"
   },
   {
    "duration": -111990,
    "start_time": "2022-02-12T19:39:52.158Z"
   },
   {
    "duration": -111992,
    "start_time": "2022-02-12T19:39:52.161Z"
   },
   {
    "duration": -111995,
    "start_time": "2022-02-12T19:39:52.165Z"
   },
   {
    "duration": -111997,
    "start_time": "2022-02-12T19:39:52.168Z"
   },
   {
    "duration": -112000,
    "start_time": "2022-02-12T19:39:52.171Z"
   },
   {
    "duration": -112003,
    "start_time": "2022-02-12T19:39:52.175Z"
   },
   {
    "duration": -112005,
    "start_time": "2022-02-12T19:39:52.178Z"
   },
   {
    "duration": -112008,
    "start_time": "2022-02-12T19:39:52.181Z"
   },
   {
    "duration": -112010,
    "start_time": "2022-02-12T19:39:52.184Z"
   },
   {
    "duration": -112012,
    "start_time": "2022-02-12T19:39:52.187Z"
   },
   {
    "duration": -112014,
    "start_time": "2022-02-12T19:39:52.190Z"
   },
   {
    "duration": -112017,
    "start_time": "2022-02-12T19:39:52.193Z"
   },
   {
    "duration": -112020,
    "start_time": "2022-02-12T19:39:52.197Z"
   },
   {
    "duration": -112022,
    "start_time": "2022-02-12T19:39:52.200Z"
   },
   {
    "duration": -112025,
    "start_time": "2022-02-12T19:39:52.203Z"
   },
   {
    "duration": -112028,
    "start_time": "2022-02-12T19:39:52.207Z"
   },
   {
    "duration": -112031,
    "start_time": "2022-02-12T19:39:52.211Z"
   },
   {
    "duration": -112034,
    "start_time": "2022-02-12T19:39:52.215Z"
   },
   {
    "duration": -112038,
    "start_time": "2022-02-12T19:39:52.219Z"
   },
   {
    "duration": -112040,
    "start_time": "2022-02-12T19:39:52.222Z"
   },
   {
    "duration": -112043,
    "start_time": "2022-02-12T19:39:52.226Z"
   },
   {
    "duration": -112046,
    "start_time": "2022-02-12T19:39:52.229Z"
   },
   {
    "duration": -112049,
    "start_time": "2022-02-12T19:39:52.233Z"
   },
   {
    "duration": -112051,
    "start_time": "2022-02-12T19:39:52.236Z"
   },
   {
    "duration": -112054,
    "start_time": "2022-02-12T19:39:52.239Z"
   },
   {
    "duration": -112066,
    "start_time": "2022-02-12T19:39:52.252Z"
   },
   {
    "duration": -112069,
    "start_time": "2022-02-12T19:39:52.256Z"
   },
   {
    "duration": -112071,
    "start_time": "2022-02-12T19:39:52.259Z"
   },
   {
    "duration": -112072,
    "start_time": "2022-02-12T19:39:52.262Z"
   },
   {
    "duration": -112074,
    "start_time": "2022-02-12T19:39:52.265Z"
   },
   {
    "duration": -112076,
    "start_time": "2022-02-12T19:39:52.268Z"
   },
   {
    "duration": 128,
    "start_time": "2022-02-12T19:38:22.664Z"
   },
   {
    "duration": 5,
    "start_time": "2022-02-12T19:39:37.072Z"
   },
   {
    "duration": 10,
    "start_time": "2022-02-12T19:39:46.585Z"
   },
   {
    "duration": 6,
    "start_time": "2022-02-12T19:44:29.759Z"
   },
   {
    "duration": 4,
    "start_time": "2022-02-12T19:44:32.589Z"
   },
   {
    "duration": 137,
    "start_time": "2022-02-12T19:47:14.760Z"
   },
   {
    "duration": 76,
    "start_time": "2022-02-12T19:48:27.696Z"
   },
   {
    "duration": 3,
    "start_time": "2022-02-12T19:48:29.864Z"
   },
   {
    "duration": 13,
    "start_time": "2022-02-12T19:48:32.452Z"
   },
   {
    "duration": 9,
    "start_time": "2022-02-12T19:48:37.832Z"
   },
   {
    "duration": 997,
    "start_time": "2022-02-12T19:48:56.152Z"
   },
   {
    "duration": 363,
    "start_time": "2022-02-12T19:48:57.151Z"
   },
   {
    "duration": 20,
    "start_time": "2022-02-12T19:48:57.516Z"
   },
   {
    "duration": 19,
    "start_time": "2022-02-12T19:48:57.538Z"
   },
   {
    "duration": 15,
    "start_time": "2022-02-12T19:48:57.559Z"
   },
   {
    "duration": 9,
    "start_time": "2022-02-12T19:48:57.575Z"
   },
   {
    "duration": 12,
    "start_time": "2022-02-12T19:48:57.586Z"
   },
   {
    "duration": 31,
    "start_time": "2022-02-12T19:48:57.601Z"
   },
   {
    "duration": 41,
    "start_time": "2022-02-12T19:48:57.634Z"
   },
   {
    "duration": 15,
    "start_time": "2022-02-12T19:48:57.677Z"
   },
   {
    "duration": 20,
    "start_time": "2022-02-12T19:48:57.693Z"
   },
   {
    "duration": 17,
    "start_time": "2022-02-12T19:48:57.714Z"
   },
   {
    "duration": 41,
    "start_time": "2022-02-12T19:48:57.732Z"
   },
   {
    "duration": 14,
    "start_time": "2022-02-12T19:48:57.775Z"
   },
   {
    "duration": 4,
    "start_time": "2022-02-12T19:48:57.790Z"
   },
   {
    "duration": 10,
    "start_time": "2022-02-12T19:48:57.796Z"
   },
   {
    "duration": 6,
    "start_time": "2022-02-12T19:48:57.807Z"
   },
   {
    "duration": 5,
    "start_time": "2022-02-12T19:48:57.814Z"
   },
   {
    "duration": 7,
    "start_time": "2022-02-12T19:48:57.820Z"
   },
   {
    "duration": 4,
    "start_time": "2022-02-12T19:48:57.828Z"
   },
   {
    "duration": 96,
    "start_time": "2022-02-12T19:48:57.833Z"
   },
   {
    "duration": 3,
    "start_time": "2022-02-12T19:48:57.931Z"
   },
   {
    "duration": 9,
    "start_time": "2022-02-12T19:48:57.937Z"
   },
   {
    "duration": 6,
    "start_time": "2022-02-12T19:48:57.960Z"
   },
   {
    "duration": 19,
    "start_time": "2022-02-12T19:48:57.967Z"
   },
   {
    "duration": 29,
    "start_time": "2022-02-12T19:48:57.987Z"
   },
   {
    "duration": 3,
    "start_time": "2022-02-12T19:48:58.017Z"
   },
   {
    "duration": 10,
    "start_time": "2022-02-12T19:48:58.022Z"
   },
   {
    "duration": 31,
    "start_time": "2022-02-12T19:48:58.034Z"
   },
   {
    "duration": 17,
    "start_time": "2022-02-12T19:48:58.067Z"
   },
   {
    "duration": 31,
    "start_time": "2022-02-12T19:48:58.086Z"
   },
   {
    "duration": 3,
    "start_time": "2022-02-12T19:48:58.119Z"
   },
   {
    "duration": 15,
    "start_time": "2022-02-12T19:48:58.123Z"
   },
   {
    "duration": 24,
    "start_time": "2022-02-12T19:48:58.139Z"
   },
   {
    "duration": 20,
    "start_time": "2022-02-12T19:48:58.165Z"
   },
   {
    "duration": 205,
    "start_time": "2022-02-12T19:48:58.186Z"
   },
   {
    "duration": -111725,
    "start_time": "2022-02-12T19:50:50.118Z"
   },
   {
    "duration": -111727,
    "start_time": "2022-02-12T19:50:50.121Z"
   },
   {
    "duration": -111729,
    "start_time": "2022-02-12T19:50:50.124Z"
   },
   {
    "duration": -111731,
    "start_time": "2022-02-12T19:50:50.127Z"
   },
   {
    "duration": -111732,
    "start_time": "2022-02-12T19:50:50.130Z"
   },
   {
    "duration": -111734,
    "start_time": "2022-02-12T19:50:50.133Z"
   },
   {
    "duration": -111736,
    "start_time": "2022-02-12T19:50:50.136Z"
   },
   {
    "duration": -111738,
    "start_time": "2022-02-12T19:50:50.139Z"
   },
   {
    "duration": -111741,
    "start_time": "2022-02-12T19:50:50.143Z"
   },
   {
    "duration": -111744,
    "start_time": "2022-02-12T19:50:50.146Z"
   },
   {
    "duration": -111745,
    "start_time": "2022-02-12T19:50:50.148Z"
   },
   {
    "duration": -111747,
    "start_time": "2022-02-12T19:50:50.151Z"
   },
   {
    "duration": -111750,
    "start_time": "2022-02-12T19:50:50.155Z"
   },
   {
    "duration": -111752,
    "start_time": "2022-02-12T19:50:50.158Z"
   },
   {
    "duration": -111771,
    "start_time": "2022-02-12T19:50:50.178Z"
   },
   {
    "duration": -111775,
    "start_time": "2022-02-12T19:50:50.183Z"
   },
   {
    "duration": -111777,
    "start_time": "2022-02-12T19:50:50.186Z"
   },
   {
    "duration": -111779,
    "start_time": "2022-02-12T19:50:50.189Z"
   },
   {
    "duration": -111781,
    "start_time": "2022-02-12T19:50:50.192Z"
   },
   {
    "duration": -111784,
    "start_time": "2022-02-12T19:50:50.196Z"
   },
   {
    "duration": -111785,
    "start_time": "2022-02-12T19:50:50.198Z"
   },
   {
    "duration": -111787,
    "start_time": "2022-02-12T19:50:50.201Z"
   },
   {
    "duration": -111792,
    "start_time": "2022-02-12T19:50:50.206Z"
   },
   {
    "duration": -111795,
    "start_time": "2022-02-12T19:50:50.210Z"
   },
   {
    "duration": -111797,
    "start_time": "2022-02-12T19:50:50.213Z"
   },
   {
    "duration": -111799,
    "start_time": "2022-02-12T19:50:50.216Z"
   },
   {
    "duration": -111801,
    "start_time": "2022-02-12T19:50:50.219Z"
   },
   {
    "duration": -111803,
    "start_time": "2022-02-12T19:50:50.222Z"
   },
   {
    "duration": -111804,
    "start_time": "2022-02-12T19:50:50.224Z"
   },
   {
    "duration": -111839,
    "start_time": "2022-02-12T19:50:50.260Z"
   },
   {
    "duration": -111849,
    "start_time": "2022-02-12T19:50:50.271Z"
   },
   {
    "duration": -111855,
    "start_time": "2022-02-12T19:50:50.278Z"
   },
   {
    "duration": -111864,
    "start_time": "2022-02-12T19:50:50.288Z"
   },
   {
    "duration": -111870,
    "start_time": "2022-02-12T19:50:50.295Z"
   },
   {
    "duration": -111879,
    "start_time": "2022-02-12T19:50:50.305Z"
   },
   {
    "duration": -111892,
    "start_time": "2022-02-12T19:50:50.319Z"
   },
   {
    "duration": -111864,
    "start_time": "2022-02-12T19:50:50.322Z"
   },
   {
    "duration": -111869,
    "start_time": "2022-02-12T19:50:50.328Z"
   },
   {
    "duration": -111878,
    "start_time": "2022-02-12T19:50:50.338Z"
   },
   {
    "duration": -111883,
    "start_time": "2022-02-12T19:50:50.344Z"
   },
   {
    "duration": -111892,
    "start_time": "2022-02-12T19:50:50.354Z"
   },
   {
    "duration": -111897,
    "start_time": "2022-02-12T19:50:50.360Z"
   },
   {
    "duration": -111907,
    "start_time": "2022-02-12T19:50:50.371Z"
   },
   {
    "duration": -111912,
    "start_time": "2022-02-12T19:50:50.377Z"
   },
   {
    "duration": -111921,
    "start_time": "2022-02-12T19:50:50.387Z"
   },
   {
    "duration": -111926,
    "start_time": "2022-02-12T19:50:50.393Z"
   },
   {
    "duration": -111936,
    "start_time": "2022-02-12T19:50:50.404Z"
   },
   {
    "duration": 17,
    "start_time": "2022-02-12T19:49:45.969Z"
   },
   {
    "duration": 14,
    "start_time": "2022-02-12T19:49:51.478Z"
   },
   {
    "duration": 14,
    "start_time": "2022-02-12T19:50:02.648Z"
   },
   {
    "duration": 915,
    "start_time": "2022-02-12T19:50:45.922Z"
   },
   {
    "duration": 373,
    "start_time": "2022-02-12T19:50:46.839Z"
   },
   {
    "duration": 20,
    "start_time": "2022-02-12T19:50:47.214Z"
   },
   {
    "duration": 15,
    "start_time": "2022-02-12T19:50:47.236Z"
   },
   {
    "duration": 13,
    "start_time": "2022-02-12T19:50:47.252Z"
   },
   {
    "duration": 6,
    "start_time": "2022-02-12T19:50:47.267Z"
   },
   {
    "duration": 9,
    "start_time": "2022-02-12T19:50:47.274Z"
   },
   {
    "duration": 27,
    "start_time": "2022-02-12T19:50:47.285Z"
   },
   {
    "duration": 21,
    "start_time": "2022-02-12T19:50:47.314Z"
   },
   {
    "duration": 32,
    "start_time": "2022-02-12T19:50:47.336Z"
   },
   {
    "duration": 18,
    "start_time": "2022-02-12T19:50:47.370Z"
   },
   {
    "duration": 16,
    "start_time": "2022-02-12T19:50:47.389Z"
   },
   {
    "duration": 16,
    "start_time": "2022-02-12T19:50:47.406Z"
   },
   {
    "duration": 37,
    "start_time": "2022-02-12T19:50:47.424Z"
   },
   {
    "duration": 3,
    "start_time": "2022-02-12T19:50:47.463Z"
   },
   {
    "duration": 14,
    "start_time": "2022-02-12T19:50:47.468Z"
   },
   {
    "duration": 2,
    "start_time": "2022-02-12T19:50:47.483Z"
   },
   {
    "duration": 5,
    "start_time": "2022-02-12T19:50:47.486Z"
   },
   {
    "duration": 4,
    "start_time": "2022-02-12T19:50:47.492Z"
   },
   {
    "duration": 6,
    "start_time": "2022-02-12T19:50:47.498Z"
   },
   {
    "duration": 85,
    "start_time": "2022-02-12T19:50:47.505Z"
   },
   {
    "duration": 2,
    "start_time": "2022-02-12T19:50:47.592Z"
   },
   {
    "duration": 8,
    "start_time": "2022-02-12T19:50:47.598Z"
   },
   {
    "duration": 7,
    "start_time": "2022-02-12T19:50:47.608Z"
   },
   {
    "duration": 16,
    "start_time": "2022-02-12T19:50:47.617Z"
   },
   {
    "duration": 53,
    "start_time": "2022-02-12T19:50:47.634Z"
   },
   {
    "duration": 2,
    "start_time": "2022-02-12T19:50:47.689Z"
   },
   {
    "duration": 14,
    "start_time": "2022-02-12T19:50:47.693Z"
   },
   {
    "duration": 17,
    "start_time": "2022-02-12T19:50:47.708Z"
   },
   {
    "duration": 21,
    "start_time": "2022-02-12T19:50:47.726Z"
   },
   {
    "duration": 38,
    "start_time": "2022-02-12T19:50:47.748Z"
   },
   {
    "duration": 3,
    "start_time": "2022-02-12T19:50:47.787Z"
   },
   {
    "duration": 12,
    "start_time": "2022-02-12T19:50:47.791Z"
   },
   {
    "duration": 7,
    "start_time": "2022-02-12T19:50:47.805Z"
   },
   {
    "duration": 14,
    "start_time": "2022-02-12T19:50:47.813Z"
   },
   {
    "duration": 33,
    "start_time": "2022-02-12T19:50:47.829Z"
   },
   {
    "duration": 8,
    "start_time": "2022-02-12T19:50:47.864Z"
   },
   {
    "duration": 14,
    "start_time": "2022-02-12T19:50:47.874Z"
   },
   {
    "duration": 3,
    "start_time": "2022-02-12T19:50:47.890Z"
   },
   {
    "duration": 7,
    "start_time": "2022-02-12T19:50:47.895Z"
   },
   {
    "duration": 5,
    "start_time": "2022-02-12T19:50:47.904Z"
   },
   {
    "duration": 5,
    "start_time": "2022-02-12T19:50:47.910Z"
   },
   {
    "duration": 8,
    "start_time": "2022-02-12T19:50:47.917Z"
   },
   {
    "duration": 48,
    "start_time": "2022-02-12T19:50:47.927Z"
   },
   {
    "duration": 8,
    "start_time": "2022-02-12T19:50:47.977Z"
   },
   {
    "duration": 22,
    "start_time": "2022-02-12T19:50:47.986Z"
   },
   {
    "duration": 8,
    "start_time": "2022-02-12T19:50:48.010Z"
   },
   {
    "duration": 43,
    "start_time": "2022-02-12T19:50:48.020Z"
   },
   {
    "duration": 16,
    "start_time": "2022-02-12T19:50:48.065Z"
   },
   {
    "duration": 6,
    "start_time": "2022-02-12T19:50:48.083Z"
   },
   {
    "duration": 194,
    "start_time": "2022-02-12T19:50:48.090Z"
   },
   {
    "duration": 5,
    "start_time": "2022-02-12T19:50:48.286Z"
   },
   {
    "duration": 5,
    "start_time": "2022-02-12T19:50:48.293Z"
   },
   {
    "duration": 29,
    "start_time": "2022-02-12T19:50:48.300Z"
   },
   {
    "duration": 30,
    "start_time": "2022-02-12T19:50:48.332Z"
   },
   {
    "duration": 7,
    "start_time": "2022-02-12T19:50:48.364Z"
   },
   {
    "duration": 14,
    "start_time": "2022-02-12T19:50:48.373Z"
   },
   {
    "duration": 190,
    "start_time": "2022-02-12T19:50:48.389Z"
   },
   {
    "duration": 289,
    "start_time": "2022-02-12T19:50:48.581Z"
   },
   {
    "duration": 276,
    "start_time": "2022-02-12T19:50:48.872Z"
   },
   {
    "duration": 11,
    "start_time": "2022-02-12T19:50:49.150Z"
   },
   {
    "duration": 13,
    "start_time": "2022-02-12T19:50:49.163Z"
   },
   {
    "duration": 182,
    "start_time": "2022-02-12T19:50:49.178Z"
   },
   {
    "duration": 280,
    "start_time": "2022-02-12T19:50:49.362Z"
   },
   {
    "duration": 272,
    "start_time": "2022-02-12T19:50:49.645Z"
   },
   {
    "duration": 9,
    "start_time": "2022-02-12T19:50:49.919Z"
   },
   {
    "duration": 31,
    "start_time": "2022-02-12T19:50:49.929Z"
   },
   {
    "duration": 252,
    "start_time": "2022-02-12T19:50:49.966Z"
   },
   {
    "duration": 228,
    "start_time": "2022-02-12T19:50:50.221Z"
   },
   {
    "duration": 215,
    "start_time": "2022-02-12T19:50:50.451Z"
   },
   {
    "duration": 3,
    "start_time": "2022-02-12T19:50:50.667Z"
   },
   {
    "duration": 29,
    "start_time": "2022-02-12T19:50:50.671Z"
   },
   {
    "duration": 7,
    "start_time": "2022-02-12T19:50:50.702Z"
   },
   {
    "duration": 21,
    "start_time": "2022-02-12T19:50:50.710Z"
   },
   {
    "duration": 12,
    "start_time": "2022-02-12T19:50:50.732Z"
   },
   {
    "duration": 10,
    "start_time": "2022-02-12T19:50:50.746Z"
   },
   {
    "duration": 17,
    "start_time": "2022-02-12T19:50:50.757Z"
   },
   {
    "duration": 11,
    "start_time": "2022-02-12T19:50:50.776Z"
   },
   {
    "duration": 10,
    "start_time": "2022-02-12T19:50:50.789Z"
   },
   {
    "duration": 17,
    "start_time": "2022-02-12T19:50:50.800Z"
   },
   {
    "duration": 12,
    "start_time": "2022-02-12T19:50:50.819Z"
   },
   {
    "duration": 11,
    "start_time": "2022-02-12T19:50:50.833Z"
   },
   {
    "duration": 12,
    "start_time": "2022-02-12T19:50:50.846Z"
   },
   {
    "duration": 4,
    "start_time": "2022-02-12T19:54:23.145Z"
   },
   {
    "duration": 18,
    "start_time": "2022-02-12T19:54:25.383Z"
   },
   {
    "duration": 3,
    "start_time": "2022-02-12T19:58:09.064Z"
   },
   {
    "duration": 11,
    "start_time": "2022-02-12T19:58:11.322Z"
   },
   {
    "duration": 22,
    "start_time": "2022-02-12T20:01:30.793Z"
   },
   {
    "duration": 10,
    "start_time": "2022-02-12T20:04:09.769Z"
   },
   {
    "duration": 13,
    "start_time": "2022-02-12T20:04:19.162Z"
   },
   {
    "duration": 21,
    "start_time": "2022-02-12T20:04:26.742Z"
   },
   {
    "duration": 19,
    "start_time": "2022-02-12T20:04:40.908Z"
   },
   {
    "duration": 3,
    "start_time": "2022-02-12T20:07:51.163Z"
   },
   {
    "duration": 16,
    "start_time": "2022-02-12T20:08:10.343Z"
   },
   {
    "duration": 17,
    "start_time": "2022-02-12T20:10:15.889Z"
   },
   {
    "duration": 16,
    "start_time": "2022-02-12T20:10:24.186Z"
   },
   {
    "duration": 2,
    "start_time": "2022-02-12T20:10:38.492Z"
   },
   {
    "duration": 17,
    "start_time": "2022-02-12T20:10:40.477Z"
   },
   {
    "duration": 3,
    "start_time": "2022-02-12T20:11:37.906Z"
   },
   {
    "duration": 3,
    "start_time": "2022-02-12T20:11:57.054Z"
   },
   {
    "duration": 17,
    "start_time": "2022-02-12T20:11:58.963Z"
   },
   {
    "duration": 144,
    "start_time": "2022-02-12T20:13:31.971Z"
   },
   {
    "duration": 12,
    "start_time": "2022-02-12T20:13:41.168Z"
   },
   {
    "duration": 137,
    "start_time": "2022-02-12T20:14:26.771Z"
   },
   {
    "duration": 3,
    "start_time": "2022-02-12T20:19:44.166Z"
   },
   {
    "duration": 144,
    "start_time": "2022-02-12T20:50:56.682Z"
   },
   {
    "duration": 126,
    "start_time": "2022-02-12T20:51:35.425Z"
   },
   {
    "duration": 154,
    "start_time": "2022-02-12T20:51:38.850Z"
   },
   {
    "duration": 118,
    "start_time": "2022-02-12T20:51:41.010Z"
   },
   {
    "duration": 83,
    "start_time": "2022-02-12T20:51:42.913Z"
   },
   {
    "duration": 162,
    "start_time": "2022-02-12T20:52:07.188Z"
   },
   {
    "duration": 17,
    "start_time": "2022-02-12T20:52:13.405Z"
   },
   {
    "duration": 17,
    "start_time": "2022-02-12T20:52:57.824Z"
   },
   {
    "duration": 22,
    "start_time": "2022-02-12T20:53:12.262Z"
   },
   {
    "duration": 1072,
    "start_time": "2022-02-12T20:53:24.857Z"
   },
   {
    "duration": 3,
    "start_time": "2022-02-12T20:53:25.931Z"
   },
   {
    "duration": 158,
    "start_time": "2022-02-12T20:53:25.936Z"
   },
   {
    "duration": 127,
    "start_time": "2022-02-12T20:53:26.096Z"
   },
   {
    "duration": 82,
    "start_time": "2022-02-12T20:53:26.225Z"
   },
   {
    "duration": 11,
    "start_time": "2022-02-12T20:53:26.309Z"
   },
   {
    "duration": 23,
    "start_time": "2022-02-12T20:53:26.321Z"
   },
   {
    "duration": 2,
    "start_time": "2022-02-12T20:53:26.347Z"
   },
   {
    "duration": 22,
    "start_time": "2022-02-12T20:53:26.351Z"
   },
   {
    "duration": 16,
    "start_time": "2022-02-12T20:53:26.374Z"
   },
   {
    "duration": 14,
    "start_time": "2022-02-12T20:53:26.391Z"
   },
   {
    "duration": 6,
    "start_time": "2022-02-12T20:53:26.406Z"
   },
   {
    "duration": 7,
    "start_time": "2022-02-12T20:53:26.414Z"
   },
   {
    "duration": 56,
    "start_time": "2022-02-12T20:53:26.423Z"
   },
   {
    "duration": 23,
    "start_time": "2022-02-12T20:53:26.481Z"
   },
   {
    "duration": 14,
    "start_time": "2022-02-12T20:53:26.505Z"
   },
   {
    "duration": 42,
    "start_time": "2022-02-12T20:53:26.521Z"
   },
   {
    "duration": 19,
    "start_time": "2022-02-12T20:53:26.565Z"
   },
   {
    "duration": 18,
    "start_time": "2022-02-12T20:53:26.585Z"
   },
   {
    "duration": 15,
    "start_time": "2022-02-12T20:53:26.605Z"
   },
   {
    "duration": 2,
    "start_time": "2022-02-12T20:53:26.622Z"
   },
   {
    "duration": 34,
    "start_time": "2022-02-12T20:53:26.626Z"
   },
   {
    "duration": 5,
    "start_time": "2022-02-12T20:53:26.665Z"
   },
   {
    "duration": 4,
    "start_time": "2022-02-12T20:53:26.673Z"
   },
   {
    "duration": 7,
    "start_time": "2022-02-12T20:53:26.679Z"
   },
   {
    "duration": 7,
    "start_time": "2022-02-12T20:53:26.688Z"
   },
   {
    "duration": 86,
    "start_time": "2022-02-12T20:53:26.697Z"
   },
   {
    "duration": 3,
    "start_time": "2022-02-12T20:53:26.785Z"
   },
   {
    "duration": 10,
    "start_time": "2022-02-12T20:53:26.791Z"
   },
   {
    "duration": 8,
    "start_time": "2022-02-12T20:53:26.803Z"
   },
   {
    "duration": 4,
    "start_time": "2022-02-12T20:53:26.812Z"
   },
   {
    "duration": 15,
    "start_time": "2022-02-12T20:53:26.817Z"
   },
   {
    "duration": 33,
    "start_time": "2022-02-12T20:53:26.859Z"
   },
   {
    "duration": 3,
    "start_time": "2022-02-12T20:53:26.894Z"
   },
   {
    "duration": 16,
    "start_time": "2022-02-12T20:53:26.899Z"
   },
   {
    "duration": 7,
    "start_time": "2022-02-12T20:53:26.917Z"
   },
   {
    "duration": 35,
    "start_time": "2022-02-12T20:53:26.926Z"
   },
   {
    "duration": 33,
    "start_time": "2022-02-12T20:53:26.962Z"
   },
   {
    "duration": 3,
    "start_time": "2022-02-12T20:53:26.997Z"
   },
   {
    "duration": 6,
    "start_time": "2022-02-12T20:53:27.002Z"
   },
   {
    "duration": 13,
    "start_time": "2022-02-12T20:53:27.010Z"
   },
   {
    "duration": 36,
    "start_time": "2022-02-12T20:53:27.024Z"
   },
   {
    "duration": 14,
    "start_time": "2022-02-12T20:53:27.062Z"
   },
   {
    "duration": 8,
    "start_time": "2022-02-12T20:53:27.077Z"
   },
   {
    "duration": 8,
    "start_time": "2022-02-12T20:53:27.087Z"
   },
   {
    "duration": 9,
    "start_time": "2022-02-12T20:53:27.096Z"
   },
   {
    "duration": 3,
    "start_time": "2022-02-12T20:53:27.107Z"
   },
   {
    "duration": 7,
    "start_time": "2022-02-12T20:53:27.111Z"
   },
   {
    "duration": 5,
    "start_time": "2022-02-12T20:53:27.119Z"
   },
   {
    "duration": 37,
    "start_time": "2022-02-12T20:53:27.125Z"
   },
   {
    "duration": 10,
    "start_time": "2022-02-12T20:53:27.164Z"
   },
   {
    "duration": 12,
    "start_time": "2022-02-12T20:53:27.176Z"
   },
   {
    "duration": 8,
    "start_time": "2022-02-12T20:53:27.190Z"
   },
   {
    "duration": 15,
    "start_time": "2022-02-12T20:53:27.199Z"
   },
   {
    "duration": 7,
    "start_time": "2022-02-12T20:53:27.216Z"
   },
   {
    "duration": 37,
    "start_time": "2022-02-12T20:53:27.225Z"
   },
   {
    "duration": 15,
    "start_time": "2022-02-12T20:53:27.264Z"
   },
   {
    "duration": 6,
    "start_time": "2022-02-12T20:53:27.281Z"
   },
   {
    "duration": 184,
    "start_time": "2022-02-12T20:53:27.288Z"
   },
   {
    "duration": 6,
    "start_time": "2022-02-12T20:53:27.473Z"
   },
   {
    "duration": 4,
    "start_time": "2022-02-12T20:53:27.481Z"
   },
   {
    "duration": 4,
    "start_time": "2022-02-12T20:53:27.487Z"
   },
   {
    "duration": 18,
    "start_time": "2022-02-12T20:53:27.492Z"
   },
   {
    "duration": 8,
    "start_time": "2022-02-12T20:53:27.512Z"
   },
   {
    "duration": 38,
    "start_time": "2022-02-12T20:53:27.522Z"
   },
   {
    "duration": 14,
    "start_time": "2022-02-12T20:53:27.562Z"
   },
   {
    "duration": 197,
    "start_time": "2022-02-12T20:53:27.578Z"
   },
   {
    "duration": 291,
    "start_time": "2022-02-12T20:53:27.781Z"
   },
   {
    "duration": 279,
    "start_time": "2022-02-12T20:53:28.075Z"
   },
   {
    "duration": 8,
    "start_time": "2022-02-12T20:53:28.355Z"
   },
   {
    "duration": 13,
    "start_time": "2022-02-12T20:53:28.365Z"
   },
   {
    "duration": 172,
    "start_time": "2022-02-12T20:53:28.380Z"
   },
   {
    "duration": 277,
    "start_time": "2022-02-12T20:53:28.554Z"
   },
   {
    "duration": 262,
    "start_time": "2022-02-12T20:53:28.833Z"
   },
   {
    "duration": 8,
    "start_time": "2022-02-12T20:53:29.097Z"
   },
   {
    "duration": 13,
    "start_time": "2022-02-12T20:53:29.107Z"
   },
   {
    "duration": 187,
    "start_time": "2022-02-12T20:53:29.121Z"
   },
   {
    "duration": 287,
    "start_time": "2022-02-12T20:53:29.310Z"
   },
   {
    "duration": 203,
    "start_time": "2022-02-12T20:53:29.598Z"
   },
   {
    "duration": 3,
    "start_time": "2022-02-12T20:53:29.802Z"
   },
   {
    "duration": 15,
    "start_time": "2022-02-12T20:53:29.806Z"
   },
   {
    "duration": 7,
    "start_time": "2022-02-12T20:53:29.822Z"
   },
   {
    "duration": 9,
    "start_time": "2022-02-12T20:53:29.831Z"
   },
   {
    "duration": 5,
    "start_time": "2022-02-12T20:53:29.859Z"
   },
   {
    "duration": 7,
    "start_time": "2022-02-12T20:53:29.866Z"
   },
   {
    "duration": 6,
    "start_time": "2022-02-12T20:53:29.875Z"
   },
   {
    "duration": 5,
    "start_time": "2022-02-12T20:53:29.883Z"
   },
   {
    "duration": 9,
    "start_time": "2022-02-12T20:53:29.890Z"
   },
   {
    "duration": 10,
    "start_time": "2022-02-12T20:53:29.900Z"
   },
   {
    "duration": 5,
    "start_time": "2022-02-12T20:53:29.912Z"
   },
   {
    "duration": 45,
    "start_time": "2022-02-12T20:53:29.919Z"
   },
   {
    "duration": 9,
    "start_time": "2022-02-12T20:53:29.965Z"
   },
   {
    "duration": 18,
    "start_time": "2022-02-12T20:53:55.219Z"
   },
   {
    "duration": 328,
    "start_time": "2022-02-13T08:32:56.101Z"
   },
   {
    "duration": 1167,
    "start_time": "2022-02-13T08:33:02.688Z"
   },
   {
    "duration": 3,
    "start_time": "2022-02-13T08:33:03.857Z"
   },
   {
    "duration": 169,
    "start_time": "2022-02-13T08:33:03.863Z"
   },
   {
    "duration": 143,
    "start_time": "2022-02-13T08:33:04.034Z"
   },
   {
    "duration": 102,
    "start_time": "2022-02-13T08:33:04.179Z"
   },
   {
    "duration": 16,
    "start_time": "2022-02-13T08:33:04.283Z"
   },
   {
    "duration": 66,
    "start_time": "2022-02-13T08:33:04.301Z"
   },
   {
    "duration": 3,
    "start_time": "2022-02-13T08:33:04.369Z"
   },
   {
    "duration": 25,
    "start_time": "2022-02-13T08:33:04.375Z"
   },
   {
    "duration": 19,
    "start_time": "2022-02-13T08:33:04.402Z"
   },
   {
    "duration": 16,
    "start_time": "2022-02-13T08:33:04.423Z"
   },
   {
    "duration": 8,
    "start_time": "2022-02-13T08:33:04.440Z"
   },
   {
    "duration": 10,
    "start_time": "2022-02-13T08:33:04.450Z"
   },
   {
    "duration": 59,
    "start_time": "2022-02-13T08:33:04.462Z"
   },
   {
    "duration": 24,
    "start_time": "2022-02-13T08:33:04.523Z"
   },
   {
    "duration": 14,
    "start_time": "2022-02-13T08:33:04.549Z"
   },
   {
    "duration": 42,
    "start_time": "2022-02-13T08:33:04.565Z"
   },
   {
    "duration": 18,
    "start_time": "2022-02-13T08:33:04.609Z"
   },
   {
    "duration": 18,
    "start_time": "2022-02-13T08:33:04.629Z"
   },
   {
    "duration": 16,
    "start_time": "2022-02-13T08:33:04.649Z"
   },
   {
    "duration": 2,
    "start_time": "2022-02-13T08:33:04.667Z"
   },
   {
    "duration": 11,
    "start_time": "2022-02-13T08:33:04.671Z"
   },
   {
    "duration": 9,
    "start_time": "2022-02-13T08:33:04.699Z"
   },
   {
    "duration": 14,
    "start_time": "2022-02-13T08:33:04.710Z"
   },
   {
    "duration": 5,
    "start_time": "2022-02-13T08:33:04.726Z"
   },
   {
    "duration": 9,
    "start_time": "2022-02-13T08:33:04.732Z"
   },
   {
    "duration": 83,
    "start_time": "2022-02-13T08:33:04.746Z"
   },
   {
    "duration": 3,
    "start_time": "2022-02-13T08:33:04.832Z"
   },
   {
    "duration": 12,
    "start_time": "2022-02-13T08:33:04.837Z"
   },
   {
    "duration": 10,
    "start_time": "2022-02-13T08:33:04.851Z"
   },
   {
    "duration": 7,
    "start_time": "2022-02-13T08:33:04.862Z"
   },
   {
    "duration": 28,
    "start_time": "2022-02-13T08:33:04.871Z"
   },
   {
    "duration": 34,
    "start_time": "2022-02-13T08:33:04.901Z"
   },
   {
    "duration": 3,
    "start_time": "2022-02-13T08:33:04.937Z"
   },
   {
    "duration": 15,
    "start_time": "2022-02-13T08:33:04.942Z"
   },
   {
    "duration": 11,
    "start_time": "2022-02-13T08:33:04.959Z"
   },
   {
    "duration": 40,
    "start_time": "2022-02-13T08:33:04.971Z"
   },
   {
    "duration": 33,
    "start_time": "2022-02-13T08:33:05.013Z"
   },
   {
    "duration": 3,
    "start_time": "2022-02-13T08:33:05.048Z"
   },
   {
    "duration": 7,
    "start_time": "2022-02-13T08:33:05.053Z"
   },
   {
    "duration": 45,
    "start_time": "2022-02-13T08:33:05.061Z"
   },
   {
    "duration": 8,
    "start_time": "2022-02-13T08:33:05.108Z"
   },
   {
    "duration": 26,
    "start_time": "2022-02-13T08:33:05.117Z"
   },
   {
    "duration": 10,
    "start_time": "2022-02-13T08:33:05.145Z"
   },
   {
    "duration": 9,
    "start_time": "2022-02-13T08:33:05.156Z"
   },
   {
    "duration": 33,
    "start_time": "2022-02-13T08:33:05.167Z"
   },
   {
    "duration": 6,
    "start_time": "2022-02-13T08:33:05.202Z"
   },
   {
    "duration": 14,
    "start_time": "2022-02-13T08:33:05.209Z"
   },
   {
    "duration": 14,
    "start_time": "2022-02-13T08:33:05.224Z"
   },
   {
    "duration": 11,
    "start_time": "2022-02-13T08:33:05.239Z"
   },
   {
    "duration": 10,
    "start_time": "2022-02-13T08:33:05.252Z"
   },
   {
    "duration": 16,
    "start_time": "2022-02-13T08:33:05.264Z"
   },
   {
    "duration": 9,
    "start_time": "2022-02-13T08:33:05.299Z"
   },
   {
    "duration": 19,
    "start_time": "2022-02-13T08:33:05.310Z"
   },
   {
    "duration": 12,
    "start_time": "2022-02-13T08:33:05.331Z"
   },
   {
    "duration": 11,
    "start_time": "2022-02-13T08:33:05.346Z"
   },
   {
    "duration": 50,
    "start_time": "2022-02-13T08:33:05.359Z"
   },
   {
    "duration": 11,
    "start_time": "2022-02-13T08:33:05.411Z"
   },
   {
    "duration": 235,
    "start_time": "2022-02-13T08:33:05.424Z"
   },
   {
    "duration": 6,
    "start_time": "2022-02-13T08:33:05.661Z"
   },
   {
    "duration": 5,
    "start_time": "2022-02-13T08:33:05.669Z"
   },
   {
    "duration": 12,
    "start_time": "2022-02-13T08:33:05.676Z"
   },
   {
    "duration": 27,
    "start_time": "2022-02-13T08:33:05.689Z"
   },
   {
    "duration": 13,
    "start_time": "2022-02-13T08:33:05.719Z"
   },
   {
    "duration": 6,
    "start_time": "2022-02-13T08:33:05.734Z"
   },
   {
    "duration": 23,
    "start_time": "2022-02-13T08:33:05.742Z"
   },
   {
    "duration": 250,
    "start_time": "2022-02-13T08:33:05.767Z"
   },
   {
    "duration": 367,
    "start_time": "2022-02-13T08:33:06.019Z"
   },
   {
    "duration": 373,
    "start_time": "2022-02-13T08:33:06.389Z"
   },
   {
    "duration": 9,
    "start_time": "2022-02-13T08:33:06.763Z"
   },
   {
    "duration": 20,
    "start_time": "2022-02-13T08:33:06.773Z"
   },
   {
    "duration": 215,
    "start_time": "2022-02-13T08:33:06.795Z"
   },
   {
    "duration": 364,
    "start_time": "2022-02-13T08:33:07.012Z"
   },
   {
    "duration": 475,
    "start_time": "2022-02-13T08:33:07.378Z"
   },
   {
    "duration": 48,
    "start_time": "2022-02-13T08:33:07.855Z"
   },
   {
    "duration": 14,
    "start_time": "2022-02-13T08:33:07.904Z"
   },
   {
    "duration": 281,
    "start_time": "2022-02-13T08:33:07.919Z"
   },
   {
    "duration": 269,
    "start_time": "2022-02-13T08:33:08.202Z"
   },
   {
    "duration": 252,
    "start_time": "2022-02-13T08:33:08.472Z"
   },
   {
    "duration": 2,
    "start_time": "2022-02-13T08:33:08.726Z"
   },
   {
    "duration": 19,
    "start_time": "2022-02-13T08:33:08.734Z"
   },
   {
    "duration": 32,
    "start_time": "2022-02-13T08:33:08.756Z"
   },
   {
    "duration": 39,
    "start_time": "2022-02-13T08:33:08.790Z"
   },
   {
    "duration": 11,
    "start_time": "2022-02-13T08:33:08.831Z"
   },
   {
    "duration": 16,
    "start_time": "2022-02-13T08:33:08.844Z"
   },
   {
    "duration": 29,
    "start_time": "2022-02-13T08:33:08.861Z"
   },
   {
    "duration": 12,
    "start_time": "2022-02-13T08:33:08.892Z"
   },
   {
    "duration": 12,
    "start_time": "2022-02-13T08:33:08.906Z"
   },
   {
    "duration": 13,
    "start_time": "2022-02-13T08:33:08.919Z"
   },
   {
    "duration": 6,
    "start_time": "2022-02-13T08:33:08.933Z"
   },
   {
    "duration": 8,
    "start_time": "2022-02-13T08:33:08.941Z"
   },
   {
    "duration": 12,
    "start_time": "2022-02-13T08:33:08.951Z"
   },
   {
    "duration": 238,
    "start_time": "2022-02-13T08:33:14.822Z"
   },
   {
    "duration": 310,
    "start_time": "2022-02-13T08:33:23.637Z"
   },
   {
    "duration": 352,
    "start_time": "2022-02-13T08:33:27.397Z"
   },
   {
    "duration": 339,
    "start_time": "2022-02-13T08:33:35.438Z"
   },
   {
    "duration": 234,
    "start_time": "2022-02-13T08:33:52.301Z"
   },
   {
    "duration": 6,
    "start_time": "2022-02-13T08:34:25.233Z"
   },
   {
    "duration": 7,
    "start_time": "2022-02-13T08:34:36.419Z"
   },
   {
    "duration": 5,
    "start_time": "2022-02-13T08:34:43.267Z"
   },
   {
    "duration": 4,
    "start_time": "2022-02-13T08:37:26.859Z"
   },
   {
    "duration": 5,
    "start_time": "2022-02-13T08:37:26.865Z"
   },
   {
    "duration": 183,
    "start_time": "2022-02-13T08:37:26.872Z"
   },
   {
    "duration": 172,
    "start_time": "2022-02-13T08:37:27.057Z"
   },
   {
    "duration": 95,
    "start_time": "2022-02-13T08:37:27.238Z"
   },
   {
    "duration": 16,
    "start_time": "2022-02-13T08:37:27.335Z"
   },
   {
    "duration": 60,
    "start_time": "2022-02-13T08:37:27.353Z"
   },
   {
    "duration": 2,
    "start_time": "2022-02-13T08:37:27.415Z"
   },
   {
    "duration": 29,
    "start_time": "2022-02-13T08:37:27.419Z"
   },
   {
    "duration": 23,
    "start_time": "2022-02-13T08:37:27.450Z"
   },
   {
    "duration": 26,
    "start_time": "2022-02-13T08:37:27.475Z"
   },
   {
    "duration": 6,
    "start_time": "2022-02-13T08:37:27.503Z"
   },
   {
    "duration": 14,
    "start_time": "2022-02-13T08:37:27.511Z"
   },
   {
    "duration": 36,
    "start_time": "2022-02-13T08:37:27.526Z"
   },
   {
    "duration": 41,
    "start_time": "2022-02-13T08:37:27.563Z"
   },
   {
    "duration": 11,
    "start_time": "2022-02-13T08:37:27.606Z"
   },
   {
    "duration": 25,
    "start_time": "2022-02-13T08:37:27.618Z"
   },
   {
    "duration": 19,
    "start_time": "2022-02-13T08:37:27.644Z"
   },
   {
    "duration": 44,
    "start_time": "2022-02-13T08:37:27.666Z"
   },
   {
    "duration": 16,
    "start_time": "2022-02-13T08:37:27.713Z"
   },
   {
    "duration": 2,
    "start_time": "2022-02-13T08:37:27.731Z"
   },
   {
    "duration": 16,
    "start_time": "2022-02-13T08:37:27.735Z"
   },
   {
    "duration": 12,
    "start_time": "2022-02-13T08:37:27.753Z"
   },
   {
    "duration": 7,
    "start_time": "2022-02-13T08:37:27.766Z"
   },
   {
    "duration": 6,
    "start_time": "2022-02-13T08:37:27.774Z"
   },
   {
    "duration": 16,
    "start_time": "2022-02-13T08:37:27.782Z"
   },
   {
    "duration": 66,
    "start_time": "2022-02-13T08:37:27.800Z"
   },
   {
    "duration": 2,
    "start_time": "2022-02-13T08:37:27.868Z"
   },
   {
    "duration": 29,
    "start_time": "2022-02-13T08:37:27.872Z"
   },
   {
    "duration": 9,
    "start_time": "2022-02-13T08:37:27.903Z"
   },
   {
    "duration": 4,
    "start_time": "2022-02-13T08:37:27.914Z"
   },
   {
    "duration": 17,
    "start_time": "2022-02-13T08:37:27.919Z"
   },
   {
    "duration": 63,
    "start_time": "2022-02-13T08:37:27.938Z"
   },
   {
    "duration": 3,
    "start_time": "2022-02-13T08:37:28.003Z"
   },
   {
    "duration": 15,
    "start_time": "2022-02-13T08:37:28.008Z"
   },
   {
    "duration": 10,
    "start_time": "2022-02-13T08:37:28.025Z"
   },
   {
    "duration": 20,
    "start_time": "2022-02-13T08:37:28.037Z"
   },
   {
    "duration": 52,
    "start_time": "2022-02-13T08:37:28.059Z"
   },
   {
    "duration": 3,
    "start_time": "2022-02-13T08:37:28.113Z"
   },
   {
    "duration": 7,
    "start_time": "2022-02-13T08:37:28.118Z"
   },
   {
    "duration": 13,
    "start_time": "2022-02-13T08:37:28.126Z"
   },
   {
    "duration": 7,
    "start_time": "2022-02-13T08:37:28.140Z"
   },
   {
    "duration": 16,
    "start_time": "2022-02-13T08:37:28.148Z"
   },
   {
    "duration": 42,
    "start_time": "2022-02-13T08:37:28.165Z"
   },
   {
    "duration": 9,
    "start_time": "2022-02-13T08:37:28.208Z"
   },
   {
    "duration": 10,
    "start_time": "2022-02-13T08:37:28.219Z"
   },
   {
    "duration": 5,
    "start_time": "2022-02-13T08:37:28.231Z"
   },
   {
    "duration": 5,
    "start_time": "2022-02-13T08:37:28.238Z"
   },
   {
    "duration": 5,
    "start_time": "2022-02-13T08:37:28.245Z"
   },
   {
    "duration": 5,
    "start_time": "2022-02-13T08:37:28.252Z"
   },
   {
    "duration": 44,
    "start_time": "2022-02-13T08:37:28.259Z"
   },
   {
    "duration": 14,
    "start_time": "2022-02-13T08:37:28.305Z"
   },
   {
    "duration": 8,
    "start_time": "2022-02-13T08:37:28.321Z"
   },
   {
    "duration": 17,
    "start_time": "2022-02-13T08:37:28.331Z"
   },
   {
    "duration": 8,
    "start_time": "2022-02-13T08:37:28.354Z"
   },
   {
    "duration": 12,
    "start_time": "2022-02-13T08:37:28.398Z"
   },
   {
    "duration": 17,
    "start_time": "2022-02-13T08:37:28.412Z"
   },
   {
    "duration": 5,
    "start_time": "2022-02-13T08:37:28.431Z"
   },
   {
    "duration": 227,
    "start_time": "2022-02-13T08:37:28.438Z"
   },
   {
    "duration": 4,
    "start_time": "2022-02-13T08:37:28.666Z"
   },
   {
    "duration": 13,
    "start_time": "2022-02-13T08:37:28.672Z"
   },
   {
    "duration": 6,
    "start_time": "2022-02-13T08:37:28.686Z"
   },
   {
    "duration": 18,
    "start_time": "2022-02-13T08:37:28.699Z"
   },
   {
    "duration": 10,
    "start_time": "2022-02-13T08:37:28.719Z"
   },
   {
    "duration": 5,
    "start_time": "2022-02-13T08:37:28.731Z"
   },
   {
    "duration": 19,
    "start_time": "2022-02-13T08:37:28.738Z"
   },
   {
    "duration": 244,
    "start_time": "2022-02-13T08:37:28.759Z"
   },
   {
    "duration": 350,
    "start_time": "2022-02-13T08:37:29.005Z"
   },
   {
    "duration": 417,
    "start_time": "2022-02-13T08:37:29.356Z"
   },
   {
    "duration": 9,
    "start_time": "2022-02-13T08:37:29.774Z"
   },
   {
    "duration": 25,
    "start_time": "2022-02-13T08:37:29.784Z"
   },
   {
    "duration": 207,
    "start_time": "2022-02-13T08:37:29.811Z"
   },
   {
    "duration": 349,
    "start_time": "2022-02-13T08:37:30.020Z"
   },
   {
    "duration": 331,
    "start_time": "2022-02-13T08:37:30.370Z"
   },
   {
    "duration": 10,
    "start_time": "2022-02-13T08:37:30.703Z"
   },
   {
    "duration": 24,
    "start_time": "2022-02-13T08:37:30.715Z"
   },
   {
    "duration": 221,
    "start_time": "2022-02-13T08:37:30.741Z"
   },
   {
    "duration": 260,
    "start_time": "2022-02-13T08:37:30.964Z"
   },
   {
    "duration": 239,
    "start_time": "2022-02-13T08:37:31.226Z"
   },
   {
    "duration": 3,
    "start_time": "2022-02-13T08:37:31.467Z"
   },
   {
    "duration": 32,
    "start_time": "2022-02-13T08:37:31.472Z"
   },
   {
    "duration": 13,
    "start_time": "2022-02-13T08:37:31.506Z"
   },
   {
    "duration": 42,
    "start_time": "2022-02-13T08:37:31.520Z"
   },
   {
    "duration": 22,
    "start_time": "2022-02-13T08:37:31.564Z"
   },
   {
    "duration": 23,
    "start_time": "2022-02-13T08:37:31.588Z"
   },
   {
    "duration": 19,
    "start_time": "2022-02-13T08:37:31.613Z"
   },
   {
    "duration": 21,
    "start_time": "2022-02-13T08:37:31.634Z"
   },
   {
    "duration": 20,
    "start_time": "2022-02-13T08:37:31.657Z"
   },
   {
    "duration": 23,
    "start_time": "2022-02-13T08:37:31.679Z"
   },
   {
    "duration": 20,
    "start_time": "2022-02-13T08:37:31.703Z"
   },
   {
    "duration": 20,
    "start_time": "2022-02-13T08:37:31.725Z"
   },
   {
    "duration": 7,
    "start_time": "2022-02-13T08:37:31.747Z"
   },
   {
    "duration": 4,
    "start_time": "2022-02-13T08:39:07.630Z"
   },
   {
    "duration": 8,
    "start_time": "2022-02-13T08:39:17.294Z"
   },
   {
    "duration": 12,
    "start_time": "2022-02-13T08:39:35.853Z"
   },
   {
    "duration": 9,
    "start_time": "2022-02-13T08:39:51.397Z"
   },
   {
    "duration": 13,
    "start_time": "2022-02-13T08:40:00.562Z"
   },
   {
    "duration": 291,
    "start_time": "2022-02-13T18:48:49.315Z"
   }
  ],
  "celltoolbar": "Необработанный формат ячейки",
  "kernelspec": {
   "display_name": "Python 3 (ipykernel)",
   "language": "python",
   "name": "python3"
  },
  "language_info": {
   "codemirror_mode": {
    "name": "ipython",
    "version": 3
   },
   "file_extension": ".py",
   "mimetype": "text/x-python",
   "name": "python",
   "nbconvert_exporter": "python",
   "pygments_lexer": "ipython3",
   "version": "3.10.0"
  },
  "toc": {
   "base_numbering": 1,
   "nav_menu": {},
   "number_sections": true,
   "sideBar": true,
   "skip_h1_title": true,
   "title_cell": "Table of Contents",
   "title_sidebar": "Contents",
   "toc_cell": false,
   "toc_position": {},
   "toc_section_display": true,
   "toc_window_display": false
  }
 },
 "nbformat": 4,
 "nbformat_minor": 4
}
